{
 "cells": [
  {
   "cell_type": "markdown",
   "metadata": {},
   "source": [
    "test"
   ]
  },
  {
   "cell_type": "code",
   "execution_count": 57,
   "metadata": {},
   "outputs": [
    {
     "name": "stdout",
     "output_type": "stream",
     "text": [
      "The two strings are anagrams\n"
     ]
    }
   ],
   "source": [
    "a = \"listen\"\n",
    "b = \"silent\"\n",
    "length = len(a)\n",
    "length1= len(b)\n",
    "\n",
    "if length == length1:\n",
    "    print(\"The two strings are anagrams\")\n",
    "    \n",
    "else:\n",
    "    print(\"not a anagrams\")"
   ]
  },
  {
   "cell_type": "code",
   "execution_count": 58,
   "metadata": {},
   "outputs": [
    {
     "name": "stdout",
     "output_type": "stream",
     "text": [
      "True\n"
     ]
    }
   ],
   "source": [
    "a = \"listen\"\n",
    "b = \"silent\"\n",
    "\n",
    "if sorted(a) == sorted(b):\n",
    "    print('True')\n",
    "else:\n",
    "    print(\"False\")"
   ]
  },
  {
   "cell_type": "code",
   "execution_count": 24,
   "metadata": {},
   "outputs": [
    {
     "name": "stdout",
     "output_type": "stream",
     "text": [
      "(12, 2, 35, 1.4)\n"
     ]
    }
   ],
   "source": [
    "x= int(input(\"Enter a first number\"))\n",
    "y= int(input(\"Enter a second number\"))\n",
    "\n",
    "def uses_variables(x,y):\n",
    "    \n",
    "    result =(x+y,x-y,x*y,x/y)\n",
    "    return result\n",
    "\n",
    "\n",
    "print(uses_variables(x,y))\n"
   ]
  },
  {
   "cell_type": "code",
   "execution_count": 14,
   "metadata": {},
   "outputs": [
    {
     "name": "stdout",
     "output_type": "stream",
     "text": [
      "[8]\n",
      "[125]\n",
      "[1000]\n"
     ]
    }
   ],
   "source": [
    "a = [2,5,10,12,16]\n",
    "\n",
    "for i in a:\n",
    "    \n",
    "    if i<=10:\n",
    "        \n",
    "        print([i**3])\n",
    "        \n",
    "        "
   ]
  },
  {
   "cell_type": "code",
   "execution_count": 23,
   "metadata": {},
   "outputs": [
    {
     "name": "stdout",
     "output_type": "stream",
     "text": [
      "2^5 = 32\n"
     ]
    }
   ],
   "source": [
    "def power_of_two(x):\n",
    "    return 1 << x  \n",
    "\n",
    "x = 5\n",
    "result = power_of_two(x)\n",
    "print(f\"2^{x} = {result}\")"
   ]
  },
  {
   "cell_type": "code",
   "execution_count": 39,
   "metadata": {},
   "outputs": [
    {
     "data": {
      "text/plain": [
       "{'a': 30, 'b': 20, 'c': 10}"
      ]
     },
     "execution_count": 39,
     "metadata": {},
     "output_type": "execute_result"
    }
   ],
   "source": [
    "def merge_dictinory(dict1,dict2):\n",
    "    merged_dict= dict1.copy()\n",
    "    \n",
    "    for key,value in dict2.items():\n",
    "        if key in merged_dict:\n",
    "            merged_dict[key]+=value     \n",
    "        else:\n",
    "            merged_dict[key]=value\n",
    "    \n",
    "            \n",
    "    return merged_dict\n",
    "\n",
    "dict1 ={'a':10, \"b\":20} \n",
    "dict2 = {\"a\":20, \"c\":10}\n",
    "\n",
    "merge_dictinory(dict1, dict2)\n",
    "\n",
    "   \n"
   ]
  },
  {
   "cell_type": "code",
   "execution_count": 63,
   "metadata": {},
   "outputs": [
    {
     "name": "stdout",
     "output_type": "stream",
     "text": [
      "(3, 4, 7)\n"
     ]
    }
   ],
   "source": [
    "def sorted_function(a,b,c):\n",
    "    if (a>b):\n",
    "        a,b = b,a\n",
    "    elif (b>c):\n",
    "        b,c = c,b\n",
    "    elif (a<c):\n",
    "        a,c = c,a\n",
    "    return a,b,c  \n",
    "            \n",
    "print(sorted_function(4,3,7))"
   ]
  },
  {
   "cell_type": "code",
   "execution_count": 21,
   "metadata": {},
   "outputs": [
    {
     "name": "stdout",
     "output_type": "stream",
     "text": [
      "44"
     ]
    }
   ],
   "source": [
    "def fibonacci(fun):\n",
    "\n",
    "    a,b = 4,1\n",
    "    for i in fun ,range(0):\n",
    "        \n",
    "        print(a,end ='')\n",
    "    a,b = b,a+b\n",
    "    \n",
    "fibonacci(25)    \n",
    "        "
   ]
  },
  {
   "cell_type": "code",
   "execution_count": 26,
   "metadata": {},
   "outputs": [
    {
     "name": "stdout",
     "output_type": "stream",
     "text": [
      "occured something error\n"
     ]
    }
   ],
   "source": [
    "try:\n",
    "     5/0\n",
    "except ZeroDivisionError:\n",
    "    print(\"occured something error\")\n",
    "else:\n",
    "    print(\"cannot divisible by 0\")    \n",
    "    \n",
    "    \n",
    "            \n",
    "    "
   ]
  },
  {
   "cell_type": "code",
   "execution_count": 2,
   "metadata": {},
   "outputs": [
    {
     "name": "stdout",
     "output_type": "stream",
     "text": [
      "360000\n",
      "2\n"
     ]
    }
   ],
   "source": [
    "class Employee:\n",
    "     count =0\n",
    "     def __init__(self,name,salary,department):\n",
    "       self.name = name\n",
    "       self.salary = salary\n",
    "       self.department = department\n",
    "       Employee.count+=1\n",
    "       \n",
    "     def yearly_salary(self):\n",
    "            return self.salary * 12\n",
    "       \n",
    "     def employee_count():\n",
    "            return Employee.count\n",
    "       \n",
    "emp1 = Employee(\"sowndarya\", 30000, \"cs\") \n",
    "emp2 = Employee(\"suresh\", 20000, \"me\")  \n",
    "print(emp1.yearly_salary())\n",
    "print(Employee.employee_count())  "
   ]
  },
  {
   "cell_type": "code",
   "execution_count": 41,
   "metadata": {},
   "outputs": [
    {
     "name": "stdout",
     "output_type": "stream",
     "text": [
      "['12-05-1995', '30-08-1999']\n"
     ]
    }
   ],
   "source": [
    "import re\n",
    "text = \"john was born on 12-05-1995 and mary on 30-08-1999.\"\n",
    "match = re.findall(r'\\b\\d{2}-\\d{2}-\\d{4}\\b', text)\n",
    "print(match)"
   ]
  },
  {
   "cell_type": "code",
   "execution_count": 44,
   "metadata": {},
   "outputs": [
    {
     "data": {
      "text/plain": [
       "False"
      ]
     },
     "execution_count": 44,
     "metadata": {},
     "output_type": "execute_result"
    }
   ],
   "source": [
    "a= 10\n",
    "b=5\n",
    "a is b\n",
    "\n",
    "#is : Returns True if both variables are the same object"
   ]
  },
  {
   "cell_type": "code",
   "execution_count": 46,
   "metadata": {},
   "outputs": [
    {
     "data": {
      "text/plain": [
       "False"
      ]
     },
     "execution_count": 46,
     "metadata": {},
     "output_type": "execute_result"
    }
   ],
   "source": [
    "s = (1,2,3)\n",
    "c = (4,5,6)\n",
    "\n",
    "s==c\n",
    "\n",
    "# equal to = if same both variales print true"
   ]
  },
  {
   "cell_type": "code",
   "execution_count": 38,
   "metadata": {},
   "outputs": [
    {
     "name": "stdout",
     "output_type": "stream",
     "text": [
      "execute before the condition\n",
      "hello sowndarya\n",
      "hello Abc\n",
      "execute after the condition\n"
     ]
    }
   ],
   "source": [
    "#12. \n",
    "def my_decorator(func):\n",
    "    def wrapper(*args,**kwargs):\n",
    "        print(\"execute before the condition\")\n",
    "        result = func(*args,**kwargs)\n",
    "        print(\"execute after the condition\")\n",
    "        return result\n",
    "    return wrapper\n",
    "\n",
    "@my_decorator\n",
    "def say_hello(*names):\n",
    "    for i in names:\n",
    "        print(f\"hello {i}\") \n",
    "        \n",
    "say_hello(\"sowndarya\", 'Abc')        \n",
    "        \n",
    "         "
   ]
  },
  {
   "cell_type": "markdown",
   "metadata": {},
   "source": [
    "13.exception handling in python commonly use \"try,except\" if no exception is raised in that case use \"else\",and finally used in end of the function it print dircetly in final output."
   ]
  },
  {
   "cell_type": "code",
   "execution_count": 66,
   "metadata": {},
   "outputs": [
    {
     "name": "stdout",
     "output_type": "stream",
     "text": [
      "1\n",
      "2\n",
      "3\n"
     ]
    }
   ],
   "source": [
    "def my_decorator(*args):\n",
    "    for arg in args:\n",
    "      print(arg)  \n",
    "    \n",
    "my_decorator(1,2,3)"
   ]
  },
  {
   "cell_type": "code",
   "execution_count": 22,
   "metadata": {},
   "outputs": [
    {
     "name": "stdout",
     "output_type": "stream",
     "text": [
      "sample.txt file is created sucessfully.\n"
     ]
    }
   ],
   "source": [
    "def create_file(file_path,content):\n",
    "    with open (file_path, 'w') as file:\n",
    "        file.write(content)\n",
    "        print(f\"{file_path} file is created sucessfully.\" )\n",
    "        \n",
    "create_file(\"sample.txt\", \"she is good\")        \n",
    "    "
   ]
  }
 ],
 "metadata": {
  "kernelspec": {
   "display_name": "Python 3",
   "language": "python",
   "name": "python3"
  },
  "language_info": {
   "codemirror_mode": {
    "name": "ipython",
    "version": 3
   },
   "file_extension": ".py",
   "mimetype": "text/x-python",
   "name": "python",
   "nbconvert_exporter": "python",
   "pygments_lexer": "ipython3",
   "version": "3.12.4"
  }
 },
 "nbformat": 4,
 "nbformat_minor": 2
}
