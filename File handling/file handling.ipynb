{
 "cells": [
  {
   "cell_type": "markdown",
   "metadata": {},
   "source": [
    "file handling"
   ]
  },
  {
   "cell_type": "code",
   "execution_count": 1,
   "metadata": {},
   "outputs": [],
   "source": [
    "def create_file(file_path,content):\n",
    "    with open (file_path, 'w') as file:\n",
    "        file.write(content)\n",
    "        \n",
    "create_file(\"subiksha\", \"she is very innocent\")        \n",
    "        "
   ]
  },
  {
   "cell_type": "code",
   "execution_count": 2,
   "metadata": {},
   "outputs": [
    {
     "name": "stdout",
     "output_type": "stream",
     "text": [
      "she is very innocent\n"
     ]
    }
   ],
   "source": [
    "with open (\"subiksha\",'r') as s:\n",
    "    content = s.read()\n",
    "    print(content)"
   ]
  },
  {
   "cell_type": "code",
   "execution_count": 3,
   "metadata": {},
   "outputs": [],
   "source": [
    "with open (\"subiksha\",'w') as s:\n",
    "    s.write(\"she is very good\")\n",
    "    "
   ]
  },
  {
   "cell_type": "code",
   "execution_count": 4,
   "metadata": {},
   "outputs": [],
   "source": [
    "with open (\"subiksha\",'w') as s:\n",
    "    s.write(\"\\n she is very good \")\n",
    "    s.write(\"\\n she is 10 month old \")\n",
    "    s.write(\"\\n she is pure soul \")\n",
    "    s.write(\"\\n she is good in listening \")\n",
    "    "
   ]
  },
  {
   "cell_type": "code",
   "execution_count": 5,
   "metadata": {},
   "outputs": [],
   "source": [
    "def create_file(file_path,content):\n",
    "    with open (file_path, 'w') as file:\n",
    "        file.write(content)\n",
    "        \n",
    "create_file(\"test.txt\", \"this is text file\")        \n",
    "        "
   ]
  },
  {
   "cell_type": "code",
   "execution_count": 6,
   "metadata": {},
   "outputs": [
    {
     "name": "stdout",
     "output_type": "stream",
     "text": [
      "this is text file\n"
     ]
    }
   ],
   "source": [
    "with open (r\"C:\\Users\\admin\\Documents\\python\\file handling\\test.txt\", 'r') as f:\n",
    "    content = f.read()\n",
    "    print(content)"
   ]
  },
  {
   "cell_type": "code",
   "execution_count": 7,
   "metadata": {},
   "outputs": [],
   "source": [
    "with open (r\"C:\\Users\\admin\\Documents\\python\\file handling\\test.txt\", 'w') as f:\n",
    "    f.write (\"this is a test file.\")"
   ]
  },
  {
   "cell_type": "code",
   "execution_count": 8,
   "metadata": {},
   "outputs": [],
   "source": [
    "with open (r\"C:\\Users\\admin\\Documents\\python\\file handling\\test.txt\", 'a') as f:\n",
    "    f.write (\"\\nthis is a test file.\")\n",
    "    f.write (\"\\nthis is another line.\")\n",
    "    "
   ]
  },
  {
   "cell_type": "code",
   "execution_count": 9,
   "metadata": {},
   "outputs": [
    {
     "name": "stdout",
     "output_type": "stream",
     "text": [
      "this is a test file.\n",
      "this is a test file.\n",
      "this is another line.\n",
      "this is a new line.\n"
     ]
    }
   ],
   "source": [
    "with open (r\"C:\\Users\\admin\\Documents\\python\\file handling\\test.txt\", 'a+') as f:\n",
    "    f.write (\"\\nthis is a new line.\")\n",
    "    f.seek(0)\n",
    "    print(f.read())\n",
    "    \n",
    "f.close()\n",
    "    "
   ]
  },
  {
   "cell_type": "code",
   "execution_count": 10,
   "metadata": {},
   "outputs": [],
   "source": [
    "mixed_strings = [\n",
    "    \"test@example.com\",\n",
    "    \"123-456-7890\",\n",
    "    \"Start this string\",\n",
    "    \"This string ends with End\",\n",
    "    \"123456\",\n",
    "    \"Contains whitespace \",\n",
    "    \"pretest and posttest\",\n",
    "    \"@#!$%\",\n",
    "    \"5This does not start with a digit\",\n",
    "    \"NoWhitespaceHere\"\n",
    "]\n",
    "\n",
    "#Function to create and write to the text file\n",
    "def create_file(file_path, content):\n",
    "    with open(file_path, 'w') as file:\n",
    "        for line in content:\n",
    "            file.write(line + '\\n')\n",
    "\n",
    "file_path = 'myfile.txt'\n",
    "create_file(file_path, mixed_strings)"
   ]
  },
  {
   "cell_type": "markdown",
   "metadata": {},
   "source": [
    "READING THE FILE"
   ]
  },
  {
   "cell_type": "code",
   "execution_count": 11,
   "metadata": {},
   "outputs": [
    {
     "name": "stdout",
     "output_type": "stream",
     "text": [
      "test@example.com\n",
      "123-456-7890\n",
      "Start this string\n",
      "This string ends with End\n",
      "123456\n",
      "Contains whitespace \n",
      "pretest and posttest\n",
      "@#!$%\n",
      "5This does not start with a digit\n",
      "NoWhitespaceHere\n",
      "\n"
     ]
    }
   ],
   "source": [
    "file = open (\"myfile.txt\", 'r')\n",
    "res = file.read()\n",
    "print(res)\n",
    "file.close()\n",
    "     "
   ]
  },
  {
   "cell_type": "code",
   "execution_count": 12,
   "metadata": {},
   "outputs": [
    {
     "name": "stdout",
     "output_type": "stream",
     "text": [
      "test@example.com\n",
      "123-456-7890\n",
      "Start this string\n",
      "This string ends with End\n",
      "123456\n",
      "Contains whitespace \n",
      "pretest and posttest\n",
      "@#!$%\n",
      "5This does not start with a digit\n",
      "NoWhitespaceHere\n",
      "\n"
     ]
    }
   ],
   "source": [
    "file = open (\"myfile.txt\", 'r')\n",
    "print(file.read())\n",
    "file.close()\n",
    "     "
   ]
  },
  {
   "cell_type": "code",
   "execution_count": 13,
   "metadata": {},
   "outputs": [
    {
     "name": "stdout",
     "output_type": "stream",
     "text": [
      "test@example.com\n",
      "123-456-7890\n",
      "Start this string\n",
      "This string ends with End\n",
      "123456\n",
      "Contains whitespace \n",
      "pretest and posttest\n",
      "@#!$%\n",
      "5This does not start with a digit\n",
      "NoWhitespaceHere\n",
      "\n"
     ]
    }
   ],
   "source": [
    "with open(\"myfile.txt\", 'r')as file:\n",
    "    print(file.read())\n",
    "    file.close()"
   ]
  },
  {
   "cell_type": "code",
   "execution_count": 14,
   "metadata": {},
   "outputs": [
    {
     "name": "stdout",
     "output_type": "stream",
     "text": [
      "test@example.com\n"
     ]
    }
   ],
   "source": [
    "file = open(\"myfile.txt\",\"r\")\n",
    "content = file.read(16)\n",
    "print(content)\n",
    "file.close()"
   ]
  },
  {
   "cell_type": "markdown",
   "metadata": {},
   "source": [
    "reading lines"
   ]
  },
  {
   "cell_type": "code",
   "execution_count": 15,
   "metadata": {},
   "outputs": [
    {
     "name": "stdout",
     "output_type": "stream",
     "text": [
      "['test@example.com\\n', '123-456-7890\\n', 'Start this string\\n', 'This string ends with End\\n', '123456\\n', 'Contains whitespace \\n', 'pretest and posttest\\n', '@#!$%\\n', '5This does not start with a digit\\n', 'NoWhitespaceHere\\n']\n"
     ]
    }
   ],
   "source": [
    "file = open(\"myfile.txt\",\"r\")\n",
    "str = file.readlines()\n",
    "print(str)\n",
    "file.close()"
   ]
  },
  {
   "cell_type": "code",
   "execution_count": 16,
   "metadata": {},
   "outputs": [
    {
     "name": "stdout",
     "output_type": "stream",
     "text": [
      "test@example.com\n",
      "123-456-7890\n",
      "Start this string\n",
      "This string ends with End\n",
      "123456\n",
      "Contains whitespace\n",
      "pretest and posttest\n",
      "@#!$%\n",
      "5This does not start with a digit\n",
      "NoWhitespaceHere\n"
     ]
    }
   ],
   "source": [
    "file = open(\"myfile.txt\",\"r\")\n",
    "lines = file.readlines()\n",
    "for line in lines:\n",
    "    print(line.strip())\n",
    "file.close()"
   ]
  },
  {
   "cell_type": "markdown",
   "metadata": {},
   "source": [
    "spliting line"
   ]
  },
  {
   "cell_type": "code",
   "execution_count": 17,
   "metadata": {},
   "outputs": [
    {
     "name": "stdout",
     "output_type": "stream",
     "text": [
      "['test@example.com', '123-456-7890', 'Start this string', 'This string ends with End', '123456', 'Contains whitespace ', 'pretest and posttest', '@#!$%', '5This does not start with a digit', 'NoWhitespaceHere']\n"
     ]
    }
   ],
   "source": [
    "f=open(\"myfile.txt\",\"r\")\n",
    "str=f.read().splitlines()\n",
    "print(str)\n",
    "f.close()"
   ]
  },
  {
   "cell_type": "code",
   "execution_count": 18,
   "metadata": {},
   "outputs": [
    {
     "name": "stdout",
     "output_type": "stream",
     "text": [
      "['test@example.com']\n",
      "['123-456-7890']\n",
      "['Start', 'this', 'string']\n",
      "['This', 'string', 'ends', 'with', 'End']\n",
      "['123456']\n",
      "['Contains', 'whitespace']\n",
      "['pretest', 'and', 'posttest']\n",
      "['@#!$%']\n",
      "['5This', 'does', 'not', 'start', 'with', 'a', 'digit']\n",
      "['NoWhitespaceHere']\n"
     ]
    }
   ],
   "source": [
    "with open(\"myfile.txt\",\"r\") as file:\n",
    "    data = file.readlines()\n",
    "    for line in data:\n",
    "        word = line.split()\n",
    "        print(word)\n",
    "        file.close()"
   ]
  },
  {
   "cell_type": "markdown",
   "metadata": {},
   "source": [
    "writing the file"
   ]
  },
  {
   "cell_type": "code",
   "execution_count": 19,
   "metadata": {},
   "outputs": [],
   "source": [
    "f = open (r\"C:\\Users\\admin\\Documents\\python\\file handling\\test.txt\", 'w')\n",
    "str = 'current content of the file: I am a learner, python is easy to learn'\n",
    "f.write(str)\n",
    "\n",
    "file.close()"
   ]
  },
  {
   "cell_type": "code",
   "execution_count": 20,
   "metadata": {},
   "outputs": [
    {
     "data": {
      "text/plain": [
       "'current content of the file: I am a learner, python is easy to learn'"
      ]
     },
     "execution_count": 20,
     "metadata": {},
     "output_type": "execute_result"
    }
   ],
   "source": [
    "f = open (r\"C:\\Users\\admin\\Documents\\python\\file handling\\test.txt\", 'r')\n",
    "f.read()"
   ]
  },
  {
   "cell_type": "markdown",
   "metadata": {},
   "source": [
    "using writelines()function"
   ]
  },
  {
   "cell_type": "code",
   "execution_count": 21,
   "metadata": {},
   "outputs": [],
   "source": [
    "with open (r\"C:\\Users\\admin\\Documents\\python\\file handling\\test.txt\", 'a') as file:\n",
    "    l1 =\"\\n Welcome to Tutorialspoint\\n\"\n",
    "    l2 = \"Write multiple lines \\n\"\n",
    "    l3 = \"Done successfully\\n\"\n",
    "    l4 = \"Thank You!\"\n",
    "    file.writelines([l1,l2,l3,l4])\n",
    "    file.close()"
   ]
  },
  {
   "cell_type": "code",
   "execution_count": 22,
   "metadata": {},
   "outputs": [
    {
     "name": "stdout",
     "output_type": "stream",
     "text": [
      "['current content of the file: I am a learner, python is easy to learn', ' Welcome to Tutorialspoint', 'Write multiple lines ', 'Done successfully', 'Thank You!']\n"
     ]
    }
   ],
   "source": [
    "with open (r\"C:\\Users\\admin\\Documents\\python\\file handling\\test.txt\", 'r') as f:\n",
    "    data = f.read().strip().split('\\n')\n",
    "    print(data)\n",
    "    f.close()"
   ]
  },
  {
   "cell_type": "code",
   "execution_count": 23,
   "metadata": {},
   "outputs": [],
   "source": [
    "fvar =open (r\"C:\\Users\\admin\\Documents\\python\\file handling\\test.txt\",'w')\n",
    "list1=[\"hello \",\"hi \",\"how ru \"]\n",
    "fvar.writelines(list1)\n",
    "fvar.close()"
   ]
  },
  {
   "cell_type": "code",
   "execution_count": 24,
   "metadata": {},
   "outputs": [
    {
     "name": "stdout",
     "output_type": "stream",
     "text": [
      "['hello', 'hi', 'how', 'ru']\n"
     ]
    }
   ],
   "source": [
    "with open ('test.txt','r')as f:\n",
    "    data = f.read().strip().split(' ')\n",
    "    print(data)"
   ]
  },
  {
   "cell_type": "markdown",
   "metadata": {},
   "source": [
    "appending text into file"
   ]
  },
  {
   "cell_type": "code",
   "execution_count": 25,
   "metadata": {},
   "outputs": [],
   "source": [
    "f = open ('test.txt', 'a')\n",
    "\n",
    "str_to_write = '\\nGood night'\n",
    "f.write(str_to_write)\n",
    "\n",
    "f.close()"
   ]
  },
  {
   "cell_type": "code",
   "execution_count": 26,
   "metadata": {},
   "outputs": [
    {
     "data": {
      "text/plain": [
       "['hello hi how ru ', 'Good night']"
      ]
     },
     "execution_count": 26,
     "metadata": {},
     "output_type": "execute_result"
    }
   ],
   "source": [
    "f = open ('test.txt', 'r')\n",
    "f.read().strip().split('\\n')\n"
   ]
  },
  {
   "cell_type": "code",
   "execution_count": 27,
   "metadata": {},
   "outputs": [
    {
     "name": "stdout",
     "output_type": "stream",
     "text": [
      "hello hi how ru \n",
      "Good nightsound\n"
     ]
    }
   ],
   "source": [
    "f = open ('test.txt', 'a+')\n",
    "\n",
    "str = input(\" Enter Text \")\n",
    "\n",
    "f.write(str+\" \\n\")\n",
    "\n",
    "f.seek(0)\n",
    "\n",
    "str = f.read().strip()\n",
    "print(str)\n",
    "\n",
    "f.close()"
   ]
  },
  {
   "cell_type": "markdown",
   "metadata": {},
   "source": [
    "import warnings\n",
    "python program to copy the contents"
   ]
  },
  {
   "cell_type": "code",
   "execution_count": 28,
   "metadata": {},
   "outputs": [],
   "source": [
    "import warnings\n",
    "warnings.filterwarnings('ignore')\n",
    "\n",
    "with open('test.txt','r')as f:\n",
    "    with open('output.txt','w')as f1:\n",
    "        for line in f:\n",
    "            f1.write(line)"
   ]
  },
  {
   "cell_type": "markdown",
   "metadata": {},
   "source": [
    "deleting a file"
   ]
  },
  {
   "cell_type": "code",
   "execution_count": 29,
   "metadata": {},
   "outputs": [],
   "source": [
    "import os\n",
    "os.remove(\"output.txt\")"
   ]
  },
  {
   "cell_type": "code",
   "execution_count": 30,
   "metadata": {},
   "outputs": [
    {
     "name": "stdout",
     "output_type": "stream",
     "text": [
      "This file does not exists\n"
     ]
    }
   ],
   "source": [
    "if os.path.exists(\"output.txt\"):\n",
    "    print(\"file\")\n",
    "else:\n",
    "    print(\"This file does not exists\")    "
   ]
  },
  {
   "cell_type": "code",
   "execution_count": 31,
   "metadata": {},
   "outputs": [
    {
     "name": "stdout",
     "output_type": "stream",
     "text": [
      "This file does not exists\n"
     ]
    }
   ],
   "source": [
    "if os.path.exists(\"output.txt\"):\n",
    "    os.remove(\"output.txt\")\n",
    "else:\n",
    "    print(\"This file does not exists\")  "
   ]
  },
  {
   "cell_type": "markdown",
   "metadata": {},
   "source": [
    "WORKING WITH CSV FILES\n",
    "Reading from a csv file"
   ]
  },
  {
   "cell_type": "code",
   "execution_count": 32,
   "metadata": {},
   "outputs": [
    {
     "name": "stdout",
     "output_type": "stream",
     "text": [
      "file 'csv' created successfully.\n"
     ]
    }
   ],
   "source": [
    "def create_file(file_path, content):\n",
    "    with open(file_path, 'w') as file:\n",
    "        file.write(content)\n",
    "    print(f\"file '{file_path}' created successfully.\")    \n",
    "    \n",
    "create_file('csv', 'Name,Age,City\\nJohn,2,New York\\nJane,30,Blore')    "
   ]
  },
  {
   "cell_type": "code",
   "execution_count": 33,
   "metadata": {},
   "outputs": [
    {
     "name": "stdout",
     "output_type": "stream",
     "text": [
      "['Name', 'Age', 'City']\n",
      "['John', '2', 'New York']\n",
      "['Jane', '30', 'Blore']\n"
     ]
    }
   ],
   "source": [
    "import csv\n",
    "\n",
    "with open(\"csv\", \"r\") as file:\n",
    "    reader = csv.reader(file)\n",
    "    for row in reader:\n",
    "        print(row)"
   ]
  },
  {
   "cell_type": "markdown",
   "metadata": {},
   "source": [
    "WRITING TO A CSV FILE"
   ]
  },
  {
   "cell_type": "code",
   "execution_count": 34,
   "metadata": {},
   "outputs": [],
   "source": [
    "with open(\"data.csv\", \"w\") as file:\n",
    "    writer = csv.writer(file)\n",
    "    writer.writerow([\"Name\", \"Age\", \"City\"])\n",
    "    writer.writerow([\"Alice\",\"30\", \"New York\"])\n",
    "    writer.writerow([\"Bob\", \"35\", \"London\"])"
   ]
  },
  {
   "cell_type": "code",
   "execution_count": 35,
   "metadata": {},
   "outputs": [
    {
     "name": "stdout",
     "output_type": "stream",
     "text": [
      "Alice 30 New York\n",
      "Bob 35 London\n"
     ]
    }
   ],
   "source": [
    "with open(\"data.csv\", \"r\") as file:\n",
    "    reader = csv.DictReader(file)\n",
    "    for row in reader:\n",
    "        print(row[\"Name\"],row[\"Age\"],row[\"City\"])\n",
    "        "
   ]
  },
  {
   "cell_type": "markdown",
   "metadata": {},
   "source": [
    "json files"
   ]
  },
  {
   "cell_type": "code",
   "execution_count": 39,
   "metadata": {},
   "outputs": [
    {
     "name": "stdout",
     "output_type": "stream",
     "text": [
      "file 'data.json' created successfully.\n"
     ]
    }
   ],
   "source": [
    "def create_file(file_path, content):\n",
    "    with open(file_path, 'w') as file:\n",
    "        file.write(content)\n",
    "    print(f\"file '{file_path}' created successfully.\")    \n",
    "    \n",
    "create_file('data.json', '{\"name\":\"john\",\"age\":30,\"city\":\"new york\"}')"
   ]
  },
  {
   "cell_type": "code",
   "execution_count": 40,
   "metadata": {},
   "outputs": [
    {
     "name": "stdout",
     "output_type": "stream",
     "text": [
      "{'name': 'john', 'age': 30, 'city': 'new york'}\n"
     ]
    }
   ],
   "source": [
    "import json\n",
    "\n",
    "with open(\"data.json\",\"r\") as file:\n",
    "    data = json.load(file)\n",
    "    print(data)"
   ]
  },
  {
   "cell_type": "code",
   "execution_count": 42,
   "metadata": {},
   "outputs": [],
   "source": [
    "data =[\n",
    "    {\"name\": \"alice\",\"age\": 30,\"city\": \"new york\"},\n",
    "    {\"name\": \"bob\",\"age\": 25,\"city\": \"los angeles\"},\n",
    "    {\"name\": \"charlie\",\"age\": 35,\"city\": \"chicago\"},\n",
    "    {\"name\": \"david\",\"age\": 28,\"city\": \"san francisco\"}\n",
    "    \n",
    "]\n",
    "\n",
    "with open(\"data.json\",\"w\") as file:\n",
    "    json.dump(data,file)"
   ]
  },
  {
   "cell_type": "code",
   "execution_count": 43,
   "metadata": {},
   "outputs": [],
   "source": [
    "new_entry = {\"name\": \"python\",\"age\": 31,\"city\": \"bangalore\"}\n",
    "data.append(new_entry)\n",
    "\n",
    "with open(\"data.json\",\"w\") as file:\n",
    "    json.dump(data,file, indent=4)"
   ]
  },
  {
   "cell_type": "code",
   "execution_count": 44,
   "metadata": {},
   "outputs": [
    {
     "name": "stdout",
     "output_type": "stream",
     "text": [
      "[{'name': 'alice', 'age': 30, 'city': 'new york'}, {'name': 'bob', 'age': 25, 'city': 'los angeles'}, {'name': 'charlie', 'age': 35, 'city': 'chicago'}, {'name': 'david', 'age': 28, 'city': 'san francisco'}, {'name': 'python', 'age': 31, 'city': 'bangalore'}]\n"
     ]
    }
   ],
   "source": [
    "with open(\"data.json\",\"r\") as file:\n",
    "    data = json.load(file)\n",
    "    print(data)"
   ]
  },
  {
   "cell_type": "markdown",
   "metadata": {},
   "source": [
    "homework"
   ]
  },
  {
   "cell_type": "code",
   "execution_count": 2,
   "metadata": {},
   "outputs": [
    {
     "name": "stdout",
     "output_type": "stream",
     "text": [
      "The file myfile.txt has 10 lines.\n"
     ]
    }
   ],
   "source": [
    "def count_lines_in_file(file_name):\n",
    "    with open(file_name, 'r') as file:\n",
    "        lines = file.readlines()\n",
    "        return len(lines)\n",
    "\n",
    "# Example usage\n",
    "file_name = \"myfile.txt\"\n",
    "num_lines = count_lines_in_file(file_name)\n",
    "print(f'The file {file_name} has {num_lines} lines.')"
   ]
  },
  {
   "cell_type": "code",
   "execution_count": 4,
   "metadata": {},
   "outputs": [],
   "source": [
    "def print_lines_with_python(file_name):\n",
    "    with open(file_name, 'r') as file:\n",
    "        for line in file:\n",
    "            if 'Python' in line:\n",
    "                print(line.strip())\n",
    "\n",
    "# Example usage\n",
    "print_lines_with_python('test.txt')"
   ]
  },
  {
   "cell_type": "markdown",
   "metadata": {},
   "source": [
    "file handling with exception"
   ]
  },
  {
   "cell_type": "code",
   "execution_count": null,
   "metadata": {},
   "outputs": [],
   "source": []
  }
 ],
 "metadata": {
  "kernelspec": {
   "display_name": "Python 3",
   "language": "python",
   "name": "python3"
  },
  "language_info": {
   "codemirror_mode": {
    "name": "ipython",
    "version": 3
   },
   "file_extension": ".py",
   "mimetype": "text/x-python",
   "name": "python",
   "nbconvert_exporter": "python",
   "pygments_lexer": "ipython3",
   "version": "3.12.4"
  }
 },
 "nbformat": 4,
 "nbformat_minor": 2
}
