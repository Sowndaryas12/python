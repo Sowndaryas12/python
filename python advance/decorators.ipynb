{
 "cells": [
  {
   "cell_type": "markdown",
   "metadata": {},
   "source": [
    "Decorator:"
   ]
  },
  {
   "cell_type": "code",
   "execution_count": 1,
   "metadata": {},
   "outputs": [
    {
     "data": {
      "text/plain": [
       "0.5"
      ]
     },
     "execution_count": 1,
     "metadata": {},
     "output_type": "execute_result"
    }
   ],
   "source": [
    "def div(a,b):\n",
    "    return a/b\n",
    "\n",
    "div(2,4)"
   ]
  },
  {
   "cell_type": "code",
   "execution_count": 2,
   "metadata": {},
   "outputs": [
    {
     "data": {
      "text/plain": [
       "2.0"
      ]
     },
     "execution_count": 2,
     "metadata": {},
     "output_type": "execute_result"
    }
   ],
   "source": [
    "def smart_dev(func):\n",
    "    def inner(a,b):\n",
    "        if b>a:\n",
    "           a,b = b,a\n",
    "        return func(a,b)\n",
    "    return inner\n",
    "\n",
    "@smart_dev\n",
    "def div(a,b):\n",
    "    return a/b\n",
    "\n",
    "div(2,4)   "
   ]
  },
  {
   "cell_type": "markdown",
   "metadata": {},
   "source": [
    "simple decorator:"
   ]
  },
  {
   "cell_type": "code",
   "execution_count": 3,
   "metadata": {},
   "outputs": [
    {
     "name": "stdout",
     "output_type": "stream",
     "text": [
      "something is happening before the function is called\n",
      "Hello\n",
      "something is happening after the function is called\n"
     ]
    }
   ],
   "source": [
    "def my_decorator(greet):\n",
    "    def wrapper():\n",
    "        print(\"something is happening before the function is called\")\n",
    "        greet()\n",
    "        print(\"something is happening after the function is called\")\n",
    "    return wrapper\n",
    "\n",
    "@my_decorator\n",
    "def say_hello():\n",
    "    print(\"Hello\")\n",
    "    \n",
    "say_hello()    "
   ]
  },
  {
   "cell_type": "markdown",
   "metadata": {},
   "source": [
    "method Decorators:"
   ]
  },
  {
   "cell_type": "code",
   "execution_count": 4,
   "metadata": {},
   "outputs": [
    {
     "name": "stdout",
     "output_type": "stream",
     "text": [
      "Before method execution.\n",
      "Hello from the class method!\n",
      "After method execution.\n"
     ]
    }
   ],
   "source": [
    "def my_method_decorator(func):\n",
    "    def wrapper(self):\n",
    "        print(\"Before method execution.\")\n",
    "        func(self)\n",
    "        print(\"After method execution.\")\n",
    "    return wrapper\n",
    "\n",
    "class myclass:\n",
    "    @my_method_decorator \n",
    "    def say_hello(self):\n",
    "        print(\"Hello from the class method!\")\n",
    "        \n",
    "obj = myclass()\n",
    "obj.say_hello()        \n",
    "\n",
    "   "
   ]
  },
  {
   "cell_type": "markdown",
   "metadata": {},
   "source": [
    "args non-keyword arguments:\n",
    "\n"
   ]
  },
  {
   "cell_type": "code",
   "execution_count": 3,
   "metadata": {},
   "outputs": [
    {
     "name": "stdout",
     "output_type": "stream",
     "text": [
      "1\n",
      "2\n",
      "3\n",
      "4\n",
      "5\n",
      "6\n",
      "7\n"
     ]
    }
   ],
   "source": [
    "def my_function(*args):\n",
    "    for arg in args:\n",
    "        print(arg)\n",
    "        \n",
    "my_function(1,2,3,4,5,6,7)        "
   ]
  },
  {
   "cell_type": "code",
   "execution_count": 6,
   "metadata": {},
   "outputs": [
    {
     "name": "stdout",
     "output_type": "stream",
     "text": [
      "Hello, Alice!\n",
      "Hello, Bob!\n",
      "Hello, Charlie!\n"
     ]
    }
   ],
   "source": [
    "def greet(*names):\n",
    "    for name in names:\n",
    "        print(f\"Hello, {name}!\")\n",
    "        \n",
    "greet(\"Alice\", \"Bob\", \"Charlie\")        "
   ]
  },
  {
   "cell_type": "markdown",
   "metadata": {},
   "source": [
    "**kwargs: keyword arguments"
   ]
  },
  {
   "cell_type": "code",
   "execution_count": 7,
   "metadata": {},
   "outputs": [
    {
     "name": "stdout",
     "output_type": "stream",
     "text": [
      "name= sowndarya\n",
      "age= 27\n",
      "city= chennai\n",
      "country= india\n"
     ]
    }
   ],
   "source": [
    "def my_function(**kwargs):\n",
    "    for key,value in kwargs.items():\n",
    "        print(f\"{key}= {value}\")\n",
    "my_function(name = \"sowndarya\", age=27, city= 'chennai', country= 'india')        "
   ]
  },
  {
   "cell_type": "code",
   "execution_count": 9,
   "metadata": {},
   "outputs": [
    {
     "name": "stdout",
     "output_type": "stream",
     "text": [
      "name: sowndarya\n",
      "age: 27\n",
      "city: chennai\n",
      "country: india\n"
     ]
    }
   ],
   "source": [
    "def introduce(**info):\n",
    "    for key,value in info.items():\n",
    "        print(f\"{key}: {value}\")\n",
    "introduce(name = \"sowndarya\", age=27, city= 'chennai', country= 'india')  "
   ]
  },
  {
   "cell_type": "code",
   "execution_count": 10,
   "metadata": {},
   "outputs": [
    {
     "name": "stdout",
     "output_type": "stream",
     "text": [
      "something is happening before the function is called\n",
      "Hello, sowndarya!\n",
      "Hello, songappan!\n",
      "something is happening after the function is called\n"
     ]
    }
   ],
   "source": [
    "def greet(func):\n",
    "    def wrapper(*args, **kwargs):\n",
    "        print(\"something is happening before the function is called\")\n",
    "        result = func(*args, **kwargs)\n",
    "        print(\"something is happening after the function is called\")\n",
    "        return result\n",
    "    return wrapper\n",
    "\n",
    "@greet\n",
    "def say_hello(*name):\n",
    "    for i in name:\n",
    "       print(f\"Hello, {i}!\")\n",
    "    \n",
    "say_hello('sowndarya', 'songappan')    "
   ]
  },
  {
   "cell_type": "markdown",
   "metadata": {},
   "source": [
    "decorator with return values:"
   ]
  },
  {
   "cell_type": "code",
   "execution_count": 11,
   "metadata": {},
   "outputs": [
    {
     "name": "stdout",
     "output_type": "stream",
     "text": [
      "adding two numbers.\n"
     ]
    },
    {
     "data": {
      "text/plain": [
       "15"
      ]
     },
     "execution_count": 11,
     "metadata": {},
     "output_type": "execute_result"
    }
   ],
   "source": [
    "def addition(s):\n",
    "    def sum(*args, **kwargs):\n",
    "        print(\"adding two numbers.\")\n",
    "        return s(*args, **kwargs)\n",
    "    return sum\n",
    "\n",
    "@addition\n",
    "def add(a,b):\n",
    "    return a+b\n",
    "\n",
    "add(7,8)\n",
    "    "
   ]
  },
  {
   "cell_type": "markdown",
   "metadata": {},
   "source": [
    "using multiple decorators:"
   ]
  },
  {
   "cell_type": "code",
   "execution_count": 12,
   "metadata": {},
   "outputs": [
    {
     "name": "stdout",
     "output_type": "stream",
     "text": [
      "adding two numbers.\n",
      "3\n",
      "subtracting two numbers.\n"
     ]
    }
   ],
   "source": [
    "def my_decorator1(func):\n",
    "    def wrapper(*args, **kwargs):\n",
    "        print(\"adding two numbers.\")\n",
    "        return func(*args, **kwargs)\n",
    "    return wrapper\n",
    "\n",
    "def my_decorator2(func):\n",
    "    def wrapper(*args, **kwargs):\n",
    "        print(\"subtracting two numbers.\")\n",
    "        return func(*args, **kwargs)\n",
    "    return wrapper\n",
    "\n",
    "@my_decorator1\n",
    "def add(a,b):\n",
    "    result = a+b\n",
    "    print(result)\n",
    "    \n",
    "@my_decorator2\n",
    "def sub(a,b):\n",
    "    result = a-b\n",
    "    \n",
    "add(1,2)\n",
    "sub(3,1)      "
   ]
  },
  {
   "cell_type": "markdown",
   "metadata": {},
   "source": [
    "class decorators:"
   ]
  },
  {
   "cell_type": "code",
   "execution_count": 13,
   "metadata": {},
   "outputs": [
    {
     "name": "stdout",
     "output_type": "stream",
     "text": [
      "Before the function is called\n",
      "Hello,python!\n",
      "After the function is called.\n"
     ]
    }
   ],
   "source": [
    "class my_decorator:\n",
    "    def __init__(self, function):\n",
    "        self.function = function\n",
    "        \n",
    "    def __call__(self, *args, **kwargs):\n",
    "        print(\"Before the function is called\")\n",
    "        self.function(*args, **kwargs)\n",
    "        print(\"After the function is called.\")\n",
    "        \n",
    "@my_decorator  \n",
    "def say_hello(name):\n",
    "    print(f\"Hello,{name}!\")  \n",
    "    \n",
    "say_hello(\"python\")        \n",
    "             "
   ]
  },
  {
   "cell_type": "markdown",
   "metadata": {},
   "source": [
    "preserving function metadata:"
   ]
  },
  {
   "cell_type": "code",
   "execution_count": 14,
   "metadata": {},
   "outputs": [
    {
     "name": "stdout",
     "output_type": "stream",
     "text": [
      "my_function\n",
      "original function\n"
     ]
    }
   ],
   "source": [
    "from functools import wraps\n",
    "\n",
    "def my_decorator(func):\n",
    "    @wraps(func)\n",
    "    def wrapper(*args , **kwargs):\n",
    "        \"\"\"Wrapper function\"\"\"\n",
    "        print(\"calling decorated function\")\n",
    "        return func(*args, **kwargs)\n",
    "    return wrapper\n",
    "\n",
    "@my_decorator\n",
    "def my_function():\n",
    "     \"\"\"original function\"\"\"\n",
    "     print(\"hello from my_function\")\n",
    "     \n",
    "print(my_function.__name__) \n",
    "print(my_function.__doc__)    "
   ]
  },
  {
   "cell_type": "markdown",
   "metadata": {},
   "source": [
    "practical decorator:\n"
   ]
  },
  {
   "cell_type": "code",
   "execution_count": 16,
   "metadata": {},
   "outputs": [
    {
     "name": "stdout",
     "output_type": "stream",
     "text": [
      "Executing say_hello\n",
      "Hello!\n",
      "finished say_hello\n"
     ]
    }
   ],
   "source": [
    "from functools import wraps\n",
    "\n",
    "def log_execution(func):\n",
    "    @wraps(func)\n",
    "    def wrapper(*args, **kwargs):\n",
    "        print(f\"Executing {func.__name__}\")\n",
    "        result = func(*args, **kwargs)\n",
    "        print(f\"finished {func.__name__}\")\n",
    "        return result\n",
    "    return wrapper\n",
    "    \n",
    "@log_execution\n",
    "def say_hello():\n",
    "    print(\"Hello!\")\n",
    "    \n",
    "say_hello()        \n",
    "        "
   ]
  },
  {
   "cell_type": "markdown",
   "metadata": {},
   "source": [
    "memoization decorator:"
   ]
  },
  {
   "cell_type": "code",
   "execution_count": 17,
   "metadata": {},
   "outputs": [
    {
     "name": "stdout",
     "output_type": "stream",
     "text": [
      "9227465\n"
     ]
    }
   ],
   "source": [
    "def memoize(func):\n",
    "    cache = {}\n",
    "    @wraps(func)\n",
    "    def wrapper(*args):\n",
    "        if args not in cache:\n",
    "            cache[args] = func(*args)\n",
    "        return cache[args]\n",
    "    return wrapper\n",
    "\n",
    "@memoize\n",
    "def fibonacci(n):\n",
    "    if n in (0, 1):\n",
    "        return n\n",
    "    return fibonacci(n - 1)+ fibonacci(n - 2) \n",
    "\n",
    "print(fibonacci(35))   "
   ]
  },
  {
   "cell_type": "markdown",
   "metadata": {},
   "source": [
    "instrumentation decorator:"
   ]
  },
  {
   "cell_type": "code",
   "execution_count": 18,
   "metadata": {},
   "outputs": [
    {
     "name": "stdout",
     "output_type": "stream",
     "text": [
      "function complete\n",
      "slow_function executed in 0.0009984970092773438 seconds\n"
     ]
    }
   ],
   "source": [
    "import time\n",
    "\n",
    "def time_execution(func):\n",
    "    @wraps(func)\n",
    "    def wrapper(*args, **kwargs):\n",
    "        start_time = time.time()\n",
    "        result =func(*args, **kwargs)\n",
    "        end_time = time.time()\n",
    "        print(f\"{func.__name__} executed in {end_time - start_time} seconds\")\n",
    "        return result\n",
    "    return wrapper\n",
    "\n",
    "@time_execution\n",
    "def slow_function():\n",
    "    print(\"function complete\")\n",
    "    \n",
    "slow_function()        \n",
    "    "
   ]
  },
  {
   "cell_type": "code",
   "execution_count": null,
   "metadata": {},
   "outputs": [],
   "source": []
  }
 ],
 "metadata": {
  "kernelspec": {
   "display_name": "Python 3",
   "language": "python",
   "name": "python3"
  },
  "language_info": {
   "codemirror_mode": {
    "name": "ipython",
    "version": 3
   },
   "file_extension": ".py",
   "mimetype": "text/x-python",
   "name": "python",
   "nbconvert_exporter": "python",
   "pygments_lexer": "ipython3",
   "version": "3.12.4"
  }
 },
 "nbformat": 4,
 "nbformat_minor": 2
}
