{
 "cells": [
  {
   "cell_type": "markdown",
   "metadata": {},
   "source": [
    "OOPS FUNCTION"
   ]
  },
  {
   "cell_type": "code",
   "execution_count": null,
   "metadata": {},
   "outputs": [],
   "source": [
    "class classname:\n",
    "    #statement--1\n",
    "    .\n",
    "    .\n",
    "    ."
   ]
  },
  {
   "cell_type": "code",
   "execution_count": 1,
   "metadata": {},
   "outputs": [
    {
     "name": "stdout",
     "output_type": "stream",
     "text": [
      "Blu is 10 years old\n"
     ]
    }
   ],
   "source": [
    "class Parrot:\n",
    "    \n",
    "    name = \"\"\n",
    "    age = 0\n",
    "    \n",
    "parrot1 = Parrot()\n",
    "parrot1.name =\"Blu\"\n",
    "parrot1.age = 10\n",
    "    \n",
    "print(f\"{parrot1.name} is {parrot1.age} years old\")"
   ]
  },
  {
   "cell_type": "code",
   "execution_count": 2,
   "metadata": {},
   "outputs": [],
   "source": [
    "class add:\n",
    "    def __init__(self,a,b):\n",
    "        self.a = a\n",
    "        self.b = b\n",
    "    def ans(self):\n",
    "        return self.a+self.b    "
   ]
  },
  {
   "cell_type": "markdown",
   "metadata": {},
   "source": [
    "python objects"
   ]
  },
  {
   "cell_type": "code",
   "execution_count": 3,
   "metadata": {},
   "outputs": [
    {
     "name": "stdout",
     "output_type": "stream",
     "text": [
      "30\n"
     ]
    }
   ],
   "source": [
    "add1 = add(10,20)\n",
    "print(add1.ans())"
   ]
  },
  {
   "cell_type": "code",
   "execution_count": 4,
   "metadata": {},
   "outputs": [],
   "source": [
    "class divisible:\n",
    "    def __init__(self, num):\n",
    "        self.num = num\n",
    "    def divmod(self):\n",
    "       if self.num%2==0:\n",
    "          print(\"The number is divisible by 2\")\n",
    "       else: \n",
    "            print(\"The number is not divisible by 2\") \n",
    "    \n",
    "    def divmod3(self):\n",
    "       if self.num%3==0:\n",
    "          print(\"The number is divisible by 3\")\n",
    "       else: \n",
    "            print(\"The number is not divisible by 3\")         "
   ]
  },
  {
   "cell_type": "code",
   "execution_count": 5,
   "metadata": {},
   "outputs": [
    {
     "name": "stdout",
     "output_type": "stream",
     "text": [
      "The number is divisible by 2\n",
      "The number is divisible by 3\n"
     ]
    }
   ],
   "source": [
    "divisible1 = divisible(18)\n",
    "divisible1.divmod()\n",
    "divisible1.divmod3()"
   ]
  },
  {
   "cell_type": "markdown",
   "metadata": {},
   "source": [
    "self"
   ]
  },
  {
   "cell_type": "code",
   "execution_count": 8,
   "metadata": {},
   "outputs": [
    {
     "data": {
      "text/plain": [
       "'Hello, Bhavan'"
      ]
     },
     "execution_count": 8,
     "metadata": {},
     "output_type": "execute_result"
    }
   ],
   "source": [
    "class greet:\n",
    "    def __init__(self,name):\n",
    "       self.name = name\n",
    "       \n",
    "    def say(self):\n",
    "        return f\"Hello, {self.name}\"\n",
    "    \n",
    "greeting = greet(\"Bhavan\")\n",
    "greeting.say()    "
   ]
  },
  {
   "cell_type": "markdown",
   "metadata": {},
   "source": [
    "creating a class and objects with class"
   ]
  },
  {
   "cell_type": "code",
   "execution_count": 9,
   "metadata": {},
   "outputs": [
    {
     "name": "stdout",
     "output_type": "stream",
     "text": [
      "40\n"
     ]
    }
   ],
   "source": [
    "class Foo:\n",
    "    def __init__(self,x=30):\n",
    "        self.x=x\n",
    "    def foo(self,y):\n",
    "        print(self.x+y)\n",
    "        \n",
    "f = Foo() \n",
    "f.foo(10)       \n",
    "                "
   ]
  },
  {
   "cell_type": "code",
   "execution_count": 1,
   "metadata": {},
   "outputs": [
    {
     "name": "stdout",
     "output_type": "stream",
     "text": [
      "Toyota\n",
      "Civic\n",
      "Total number of cars: 3\n",
      "ToyotaCamry\n",
      "HondaCivic\n",
      "FordMustang\n"
     ]
    }
   ],
   "source": [
    "class car:\n",
    "    car_count = 0\n",
    "    \n",
    "    def __init__(self, make, model):\n",
    "        self.make = make\n",
    "        self.model = model\n",
    "        \n",
    "        car.car_count+=1\n",
    "        \n",
    "    def display_info(self):\n",
    "        print(f\"{self.make}{self.model}\")    \n",
    "        \n",
    "car1 = car(\"Toyota\",\"Camry\")   \n",
    "car2 = car(\"Honda\",\"Civic\")\n",
    "car3 = car(\"Ford\",\"Mustang\")\n",
    "\n",
    "print(car1.make)\n",
    "print(car2.model)\n",
    "\n",
    "print(\"Total number of cars:\", car.car_count)\n",
    "\n",
    "car1.display_info()\n",
    "car2.display_info()\n",
    "car3.display_info()\n",
    "     "
   ]
  },
  {
   "cell_type": "markdown",
   "metadata": {},
   "source": [
    "simple calculator"
   ]
  },
  {
   "cell_type": "code",
   "execution_count": 2,
   "metadata": {},
   "outputs": [
    {
     "name": "stdout",
     "output_type": "stream",
     "text": [
      "Addition: 7\n",
      "Subtraction: 1\n",
      "Multiplication: 12\n",
      "Division: 1.3333333333333333\n"
     ]
    }
   ],
   "source": [
    "class calculator:\n",
    "    def __init__(self, x,y):\n",
    "        self.x =x\n",
    "        self.y =y\n",
    "    def add(self):\n",
    "        return self.x + self.y \n",
    "    def subtract(self):\n",
    "        return self.x - self.y  \n",
    "    def multiply(self):\n",
    "        return self.x * self.y  \n",
    "    def divide(self):\n",
    "        if self.y !=0:\n",
    "            return self.x / self.y \n",
    "        else:\n",
    "            return \"cannot divide by zero\"\n",
    "        \n",
    "calc = calculator(4,3)    \n",
    "\n",
    "result_add = calc.add()\n",
    "result_subtract = calc.subtract()\n",
    "result_multiply = calc.multiply()\n",
    "result_divide = calc.divide()\n",
    "\n",
    "print(\"Addition:\", result_add)\n",
    "print(\"Subtraction:\", result_subtract)\n",
    "print(\"Multiplication:\", result_multiply)\n",
    "print(\"Division:\", result_divide)\n",
    "    \n",
    "    "
   ]
  },
  {
   "cell_type": "code",
   "execution_count": 6,
   "metadata": {},
   "outputs": [
    {
     "name": "stdout",
     "output_type": "stream",
     "text": [
      "1300\n"
     ]
    }
   ],
   "source": [
    "class BankAccount:\n",
    "    def __init__(self,balance):\n",
    "        self.__balance = balance\n",
    "    def deposit(self,amount):\n",
    "        self.__balance += amount\n",
    "    def withdraw(self, amount):\n",
    "        if self.__balance >= amount:\n",
    "            self.__balance -= amount\n",
    "        else:\n",
    "            print(\"Insufficient funds\")  \n",
    "            \n",
    "    def get_balance(self):\n",
    "        return self.__balance\n",
    "    \n",
    "account = BankAccount(1000)\n",
    "account.deposit(500)\n",
    "account.withdraw(200)\n",
    "print(account.get_balance())                  "
   ]
  },
  {
   "cell_type": "code",
   "execution_count": 8,
   "metadata": {},
   "outputs": [
    {
     "name": "stdout",
     "output_type": "stream",
     "text": [
      "Color:red, Model:toyota, Year:2010 \n",
      "100\n"
     ]
    }
   ],
   "source": [
    "class car:\n",
    "    def __init__(self, color, model, year):\n",
    "        self.color = color\n",
    "        self.model = model\n",
    "        self.year = year\n",
    "        self._mileage = 0\n",
    "    def drive(self,miles):\n",
    "        if miles>0:\n",
    "            self._mileage += miles  \n",
    "    def get_mileage(self):\n",
    "        return self._mileage\n",
    "        return f\"Color:{self.color}, Model:{self.model}, Year:{self.year} \"\n",
    "    def get_car_details(self):\n",
    "        return f\"Color:{self.color}, Model:{self.model}, Year:{self.year} \" \n",
    "my_car = car(\"red\",\"toyota\",2010)   \n",
    "\n",
    "my_car.drive(100)\n",
    "print(my_car.get_car_details())\n",
    "print(my_car.get_mileage())   \n",
    "         "
   ]
  },
  {
   "cell_type": "code",
   "execution_count": 12,
   "metadata": {},
   "outputs": [
    {
     "name": "stdout",
     "output_type": "stream",
     "text": [
      "Sameer Pasha\n"
     ]
    }
   ],
   "source": [
    "class person:\n",
    "    def __init__(self,fname,lname):\n",
    "        self.firstname = fname\n",
    "        self.lastname = lname\n",
    "        \n",
    "    def printname(self):\n",
    "        print(self.firstname,self.lastname)    \n",
    "       \n",
    "class student(person):\n",
    "    pass\n",
    "\n",
    "x = student(\"Sameer\",\"Pasha\")\n",
    "x.printname()      \n",
    "        "
   ]
  },
  {
   "cell_type": "markdown",
   "metadata": {},
   "source": []
  },
  {
   "cell_type": "code",
   "execution_count": 13,
   "metadata": {},
   "outputs": [
    {
     "name": "stdout",
     "output_type": "stream",
     "text": [
      "Buddy\n",
      "Woof!\n",
      "Whiskers\n",
      "Meow!\n"
     ]
    }
   ],
   "source": [
    "class Animal:\n",
    "    def __init__(self,name):\n",
    "        self.name = name\n",
    "        \n",
    "    def speak(self):\n",
    "        return \"some generic sound\"\n",
    "    \n",
    "class Dog (Animal):\n",
    "    def speak(self):\n",
    "        return \"Woof!\" \n",
    "    \n",
    "class Cat (Animal):\n",
    "    def speak(self):\n",
    "        return \"Meow!\"  \n",
    "    \n",
    "dog = Dog(\"Buddy\")  \n",
    "cat = Cat(\"Whiskers\")   \n",
    "\n",
    "print (dog.name)\n",
    "print(dog.speak())  \n",
    "    \n",
    "print (cat.name)\n",
    "print(cat.speak())      \n",
    "     \n",
    "   \n",
    "        "
   ]
  },
  {
   "cell_type": "code",
   "execution_count": 14,
   "metadata": {},
   "outputs": [
    {
     "name": "stdout",
     "output_type": "stream",
     "text": [
      "10 is divisible by 2\n"
     ]
    }
   ],
   "source": [
    "class number:\n",
    "    def __init__(self, value):\n",
    "        self.value = value\n",
    "    def is_divisible_by(self):\n",
    "        return self.value%2==0\n",
    "    \n",
    "class specialnumber(number):\n",
    "    def check_divisible(self):\n",
    "        if self.is_divisible_by():\n",
    "            print(f\"{self.value} is divisible by 2\") \n",
    "        else: \n",
    "            print(f\"{self.value} is not divisible by 2\")  \n",
    "            \n",
    "if __name__=='__main__':\n",
    "    num = specialnumber(10) \n",
    "    num.check_divisible()                   "
   ]
  },
  {
   "cell_type": "code",
   "execution_count": 15,
   "metadata": {},
   "outputs": [
    {
     "name": "stdout",
     "output_type": "stream",
     "text": [
      "flying\n",
      "swimming\n",
      "Quack!\n"
     ]
    }
   ],
   "source": [
    "class flyer:\n",
    "    def fly(self):\n",
    "        return \"flying\"\n",
    "    \n",
    "class swimmer:\n",
    "    def swim(self):\n",
    "        return \"swimming\"\n",
    "    \n",
    "class duck(flyer,swimmer):\n",
    "    def quack(self):\n",
    "        return \"Quack!\"\n",
    "    \n",
    "donald = duck()\n",
    "print(donald.fly())\n",
    "print(donald.swim())\n",
    "print(donald.quack())\n",
    "        \n",
    "         "
   ]
  },
  {
   "cell_type": "code",
   "execution_count": 22,
   "metadata": {},
   "outputs": [],
   "source": [
    "class person:\n",
    "    def __init__(self,name,age):\n",
    "        self.__name = name\n",
    "        self.__age = age\n",
    "        \n",
    "    def get_name(self):\n",
    "        return self.__name\n",
    "    \n",
    "    def get_age(self):\n",
    "        return self.__age    \n",
    "        "
   ]
  },
  {
   "cell_type": "code",
   "execution_count": 23,
   "metadata": {},
   "outputs": [
    {
     "name": "stdout",
     "output_type": "stream",
     "text": [
      "student details:\n",
      "------------------\n",
      "name: john\n",
      "age: 20\n",
      "rollno: 101\n"
     ]
    }
   ],
   "source": [
    "class student(person):\n",
    "    def __init__(self,name,age,rollno):\n",
    "        super().__init__(name,age)\n",
    "        self.rollno = rollno\n",
    "        \n",
    "    def display(self):\n",
    "        print(\"student details:\")\n",
    "        print(\"------------------\")\n",
    "        name1 = super().get_name()\n",
    "        print(\"name:\", name1)\n",
    "        print(\"age:\", self.get_age())\n",
    "        print(\"rollno:\", self.rollno)\n",
    "        \n",
    "student1 =student(\"john\",20,101)\n",
    "student1.display()        \n",
    "            "
   ]
  },
  {
   "cell_type": "code",
   "execution_count": 31,
   "metadata": {},
   "outputs": [
    {
     "name": "stdout",
     "output_type": "stream",
     "text": [
      "name: Rahul, reg: 101, branch: CSE\n"
     ]
    }
   ],
   "source": [
    "class branch(student):\n",
    "    def __init__(self, name, age, rollno, branch):\n",
    "        super().__init__(name,age,rollno)\n",
    "        self.rollno = rollno\n",
    "        self.branch = branch\n",
    "        \n",
    "    def get_branch(self):\n",
    "        name2 = super().get_name()\n",
    "        return f\"name: {name2}, reg: {self.rollno}, branch: {self.branch}\"  \n",
    "\n",
    "obj = branch(\"Rahul\",20,101,\"CSE\")\n",
    "print(obj.get_branch())      "
   ]
  },
  {
   "cell_type": "code",
   "execution_count": 45,
   "metadata": {},
   "outputs": [
    {
     "name": "stdout",
     "output_type": "stream",
     "text": [
      "the number10 is divided by 2.\n"
     ]
    }
   ],
   "source": [
    "class number:\n",
    "    def __init__(self,value):\n",
    "        self.value = value\n",
    "        \n",
    "    def is_divisible_by_2(self):\n",
    "        return self.value %2 == 0\n",
    "    \n",
    "class specialnumber(number):\n",
    "    def __init__(self,value):\n",
    "        super().__init__(value) \n",
    "    \n",
    "    def check_divisibility(self):\n",
    "        if self.is_divisible_by_2():\n",
    "            print(f\"the number{self.value} is divided by 2.\")\n",
    "        else:\n",
    "             print(f\"the number{self.value} is not divided by 2.\")        \n",
    "          \n",
    "          \n",
    "if __name__==\"__main__\":\n",
    "    num = specialnumber(10)\n",
    "    num.check_divisibility()          \n",
    "              \n",
    "      "
   ]
  },
  {
   "cell_type": "code",
   "execution_count": 46,
   "metadata": {},
   "outputs": [
    {
     "name": "stdout",
     "output_type": "stream",
     "text": [
      "brand: toyota, model:corolla\n"
     ]
    }
   ],
   "source": [
    "class vechile:\n",
    "    def __init__(self,brand):\n",
    "        self.brand = brand\n",
    "        \n",
    "    def info(self):\n",
    "        return f\"brand: {self.brand}\" \n",
    "    \n",
    "class car(vechile):\n",
    "    def __init__(self,brand,model):  \n",
    "        super().__init__(brand)\n",
    "        self.model = model\n",
    "        \n",
    "    def info(self):\n",
    "        parent_info = super().info()\n",
    "        return f\"{parent_info}, model:{self.model}\"\n",
    "    \n",
    "car = car(\"toyota\", \"corolla\")\n",
    "\n",
    "print(car.info())    \n",
    "                 "
   ]
  },
  {
   "cell_type": "markdown",
   "metadata": {},
   "source": [
    "POLYMORPHISM:"
   ]
  },
  {
   "cell_type": "code",
   "execution_count": 32,
   "metadata": {},
   "outputs": [
    {
     "name": "stdout",
     "output_type": "stream",
     "text": [
      "welcome to ws\n",
      "welcome to wsRahul\n"
     ]
    }
   ],
   "source": [
    "#POLYMORPHISM\n",
    "#OVER LOADING\n",
    "#OVER RIDING\n",
    "\n",
    "class ws:\n",
    "    def displayinfo(self, name= ''):\n",
    "        print(\"welcome to ws\"+name)\n",
    "        \n",
    "obj=ws()\n",
    "obj.displayinfo()\n",
    "obj.displayinfo(\"Rahul\")        "
   ]
  },
  {
   "cell_type": "code",
   "execution_count": 34,
   "metadata": {},
   "outputs": [
    {
     "name": "stdout",
     "output_type": "stream",
     "text": [
      "welcome to ws\n",
      "welcome to ws1\n"
     ]
    }
   ],
   "source": [
    "#OVER RIDING\n",
    "\n",
    "class ws:\n",
    "    def displayinfo(self):\n",
    "        print(\"welcome to ws\")\n",
    "        \n",
    "class ws1(ws):\n",
    "    def displayinfo(self):\n",
    "        super().displayinfo()\n",
    "        print(\"welcome to ws1\")        \n",
    "\n",
    "obj=ws1()\n",
    "obj.displayinfo()        "
   ]
  },
  {
   "cell_type": "code",
   "execution_count": 35,
   "metadata": {},
   "outputs": [
    {
     "data": {
      "text/plain": [
       "3"
      ]
     },
     "execution_count": 35,
     "metadata": {},
     "output_type": "execute_result"
    }
   ],
   "source": [
    "class add:\n",
    "    def sum(self,a,b):\n",
    "        return a+b\n",
    "    \n",
    "s = add()\n",
    "s.sum(1,2)    "
   ]
  },
  {
   "cell_type": "code",
   "execution_count": 36,
   "metadata": {},
   "outputs": [
    {
     "name": "stdout",
     "output_type": "stream",
     "text": [
      "3\n",
      "6\n"
     ]
    }
   ],
   "source": [
    "class mathoperations:\n",
    "    def add(selff, a,b, c=None):\n",
    "        if c is not None:\n",
    "            return a+b+c\n",
    "        return a+b\n",
    "#example\n",
    "\n",
    "if __name__==\"__main__\":\n",
    "   math = mathoperations() \n",
    "   print(math.add(1,2))\n",
    "   print(math.add(1,2,3))  "
   ]
  },
  {
   "cell_type": "code",
   "execution_count": 37,
   "metadata": {},
   "outputs": [
    {
     "name": "stdout",
     "output_type": "stream",
     "text": [
      "flying high\n",
      "jet speed\n"
     ]
    }
   ],
   "source": [
    "class bird:\n",
    "    def fly(self):\n",
    "        return \"flying high\"\n",
    "    \n",
    "class airplane:\n",
    "    def fly(self):\n",
    "        return \"jet speed\" \n",
    "    \n",
    "def make_it_fly(flying_thing):\n",
    "    print(flying_thing.fly())\n",
    "    \n",
    "    \n",
    "Bird = bird()\n",
    "Plane = airplane()\n",
    "\n",
    "make_it_fly(Bird) \n",
    "make_it_fly(Plane)\n",
    "      \n",
    "       \n",
    "    "
   ]
  },
  {
   "cell_type": "code",
   "execution_count": 43,
   "metadata": {},
   "outputs": [],
   "source": [
    "class animal:\n",
    "    def __init__(self,name):\n",
    "        self.name = name\n",
    "        \n",
    "    def speak(self):\n",
    "        return \"some generic sound\"    "
   ]
  },
  {
   "cell_type": "code",
   "execution_count": 44,
   "metadata": {},
   "outputs": [
    {
     "name": "stdout",
     "output_type": "stream",
     "text": [
      "buddybarks.\n",
      "whiskersmeous.\n"
     ]
    }
   ],
   "source": [
    "class dog(animal):\n",
    "    def speak(self):\n",
    "        print(f\"{self.name}barks.\")\n",
    "        \n",
    "class cat(animal):\n",
    "    def speak(self):\n",
    "        print(f\"{self.name}meous.\")   \n",
    "        \n",
    "animals = [dog(\"buddy\"), cat(\"whiskers\")]             \n",
    "\n",
    "for animal in animals:\n",
    "    animal.speak()\n",
    "    "
   ]
  },
  {
   "cell_type": "markdown",
   "metadata": {},
   "source": [
    "abstract"
   ]
  },
  {
   "cell_type": "code",
   "execution_count": 39,
   "metadata": {},
   "outputs": [
    {
     "name": "stdout",
     "output_type": "stream",
     "text": [
      "triangle has three sides\n"
     ]
    }
   ],
   "source": [
    "from abc import ABC, abstractmethod\n",
    "class shape(ABC):\n",
    "    def shape(self):\n",
    "        print(\"this is a shape\")\n",
    "        \n",
    "    @abstractmethod\n",
    "    def side(self):\n",
    "        pass\n",
    "    \n",
    "class triangle(shape):\n",
    "    def side(self):\n",
    "        print(\"triangle has three sides\")\n",
    "        \n",
    "        \n",
    "obj = triangle()\n",
    "obj.side()        \n",
    "        "
   ]
  },
  {
   "cell_type": "code",
   "execution_count": 41,
   "metadata": {},
   "outputs": [
    {
     "name": "stdout",
     "output_type": "stream",
     "text": [
      "rectangle area:20\n",
      "rectangle perimeter:18\n",
      "circle area:28.27431\n",
      "circle perimeter:18.849539999999998\n"
     ]
    }
   ],
   "source": [
    "class shape(ABC):\n",
    "    @abstractmethod\n",
    "    def area(self):\n",
    "        pass\n",
    "    \n",
    "    @abstractmethod\n",
    "    def perimeter(self):\n",
    "        pass\n",
    "    \n",
    "class rectangle(shape): \n",
    "    def __init__(self,width,height):\n",
    "        self.width = width\n",
    "        self.height = height\n",
    "        \n",
    "    def area (self):\n",
    "        return self.width*self.height\n",
    "    \n",
    "    def perimeter(self):\n",
    "        return 2* (self.width + self.height) \n",
    "    \n",
    "class circle(shape): \n",
    "    def __init__(self,radius):\n",
    "        self.radius = radius\n",
    "        \n",
    "        \n",
    "    def area (self):\n",
    "        return 3.14159 * self.radius **2\n",
    "    \n",
    "    def perimeter(self):\n",
    "        return 2* 3.14159 * self.radius\n",
    "         \n",
    "rect = rectangle(4,5)  \n",
    "circle = circle(3)       \n",
    "   \n",
    "print(f\"rectangle area:{rect.area()}\") \n",
    "print(f\"rectangle perimeter:{rect.perimeter()}\")  \n",
    "\n",
    "print(f\"circle area:{circle.area()}\") \n",
    "print(f\"circle perimeter:{circle.perimeter()}\")  \n",
    "             "
   ]
  },
  {
   "cell_type": "code",
   "execution_count": 42,
   "metadata": {},
   "outputs": [
    {
     "name": "stdout",
     "output_type": "stream",
     "text": [
      "car engine started.\n",
      "Bike engine started.\n"
     ]
    }
   ],
   "source": [
    "class vechile(ABC):\n",
    "    @abstractmethod\n",
    "    def start_engine(self):\n",
    "        pass\n",
    "    \n",
    "class car(vechile):    \n",
    "    def start_engine(self):\n",
    "        print(\"car engine started.\")\n",
    "        \n",
    "    \n",
    "class Bike(vechile):\n",
    "    def start_engine(self):\n",
    "        print(\"Bike engine started.\")\n",
    "        \n",
    "        \n",
    "car = car()\n",
    "Bike = Bike()\n",
    "car.start_engine()\n",
    "Bike.start_engine()        \n",
    "        "
   ]
  },
  {
   "cell_type": "markdown",
   "metadata": {},
   "source": [
    "magic mathod in python"
   ]
  },
  {
   "cell_type": "code",
   "execution_count": 48,
   "metadata": {},
   "outputs": [
    {
     "name": "stdout",
     "output_type": "stream",
     "text": [
      "creating instance...\n",
      "initializing instance...\n",
      "python\n"
     ]
    }
   ],
   "source": [
    "class myclass:\n",
    "    def __new__(cls, *args, **kwargs):\n",
    "       print(\"creating instance...\")\n",
    "       return super().__new__(cls)\n",
    "   \n",
    "    def __init__(self, name):\n",
    "       print(\"initializing instance...\")\n",
    "       self.name = name\n",
    "       \n",
    "obj = myclass(\"python\")\n",
    "print(obj.name)\n",
    "       \n",
    "        "
   ]
  },
  {
   "cell_type": "code",
   "execution_count": 53,
   "metadata": {},
   "outputs": [
    {
     "name": "stdout",
     "output_type": "stream",
     "text": [
      "-3\n",
      "-4\n",
      "-4.0\n",
      "3.75\n",
      "3.75\n",
      "-3.75\n"
     ]
    }
   ],
   "source": [
    "import math\n",
    "\n",
    "class number:\n",
    "    def __init__(self, value):\n",
    "        self.value = value\n",
    "        \n",
    "    def __ceil__(self):\n",
    "        return math.ceil (self.value)\n",
    "    \n",
    "    def __floor__(self):\n",
    "        return math.floor (self.value)\n",
    "        \n",
    "    def __round__(self, n=0):\n",
    "        return round(self.value, n)\n",
    "        \n",
    "    def __abs__(self):\n",
    "        return abs(self.value)\n",
    "        \n",
    "    def __neg__(self):\n",
    "        return -self.value\n",
    "           \n",
    "    def __pos__(self):\n",
    "        return +self.value\n",
    "    \n",
    "num = number(-3.75)\n",
    "print(math.ceil(num)) \n",
    "print(math.floor(num))\n",
    "print(round(num, ))\n",
    "print(abs(num))\n",
    "print(-num)\n",
    "print(+num)\n",
    "\n",
    "\n",
    "                                      "
   ]
  },
  {
   "cell_type": "code",
   "execution_count": 54,
   "metadata": {},
   "outputs": [
    {
     "name": "stdout",
     "output_type": "stream",
     "text": [
      "8\n",
      "2\n",
      "15\n",
      "125\n"
     ]
    }
   ],
   "source": [
    "class arithmatics:\n",
    "    def __init__(self, value):\n",
    "        self.value = value\n",
    "        \n",
    "    def __add__(self, other):\n",
    "        return self.value + other.value\n",
    "    \n",
    "    def __sub__(self, other):\n",
    "        return self.value - other.value\n",
    "    \n",
    "    def __mul__(self, other):\n",
    "        return self.value * other.value\n",
    "    \n",
    "    def __pow__(self, other):\n",
    "        return self.value ** other.value\n",
    "    \n",
    "a = arithmatics(5)\n",
    "b = arithmatics(3)\n",
    "\n",
    "print(a + b)\n",
    "print(a - b)\n",
    "print(a * b)\n",
    "print(a ** b)\n",
    "    \n",
    "    "
   ]
  },
  {
   "cell_type": "code",
   "execution_count": 1,
   "metadata": {},
   "outputs": [
    {
     "name": "stdout",
     "output_type": "stream",
     "text": [
      "mystring: Hello World\n",
      "mystring('Hello World')\n",
      "11\n",
      "11\n"
     ]
    }
   ],
   "source": [
    "class mystring:\n",
    "    def __init__(self, content):\n",
    "        self.content = content\n",
    "        \n",
    "    def __str__(self):\n",
    "        return f\"mystring: {self.content}\"\n",
    "    \n",
    "    def __repr__(self):\n",
    "        return f\"mystring({repr(self.content)})\"\n",
    "    \n",
    "    def __sizeof__(self):\n",
    "        return len(self.content)\n",
    "    \n",
    "    def __len__(self):\n",
    "        return len(self.content)\n",
    "    \n",
    "s = mystring (\"Hello World\")\n",
    "print(str(s))\n",
    "print(repr(s))\n",
    "print(s.__sizeof__())\n",
    "print(len(s))\n",
    "\n",
    "    "
   ]
  },
  {
   "cell_type": "code",
   "execution_count": 2,
   "metadata": {},
   "outputs": [
    {
     "name": "stdout",
     "output_type": "stream",
     "text": [
      "False\n",
      "True\n",
      "False\n",
      "True\n",
      "False\n",
      "True\n"
     ]
    }
   ],
   "source": [
    "class compare:\n",
    "    def __init__(self, value):\n",
    "        self.value = value\n",
    "        \n",
    "    def __eq__(self, other):\n",
    "        return self.value == other.value\n",
    "    \n",
    "    def __ne__(self, other):\n",
    "        return self.value != other.value\n",
    "    \n",
    "    def __lt__(self, other):\n",
    "        return self.value < other.value\n",
    "    \n",
    "    def __gt__(self, other):\n",
    "        return self.value > other.value\n",
    "    \n",
    "    def __le__(self, other):\n",
    "        return self.value <= other.value\n",
    "    \n",
    "    def __ge__(self, other):\n",
    "        return self.value >= other.value\n",
    "    \n",
    "a = compare(5)\n",
    "b = compare (3)\n",
    "\n",
    "print(a == b)\n",
    "print(a != b)\n",
    "print(a < b)\n",
    "print(a > b)\n",
    "print(a <= b)\n",
    "print(a >= b)\n",
    "    "
   ]
  }
 ],
 "metadata": {
  "kernelspec": {
   "display_name": "Python 3",
   "language": "python",
   "name": "python3"
  },
  "language_info": {
   "codemirror_mode": {
    "name": "ipython",
    "version": 3
   },
   "file_extension": ".py",
   "mimetype": "text/x-python",
   "name": "python",
   "nbconvert_exporter": "python",
   "pygments_lexer": "ipython3",
   "version": "3.12.4"
  }
 },
 "nbformat": 4,
 "nbformat_minor": 2
}
