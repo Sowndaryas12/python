{
 "cells": [
  {
   "cell_type": "code",
   "execution_count": null,
   "metadata": {},
   "outputs": [],
   "source": []
  },
  {
   "cell_type": "markdown",
   "metadata": {},
   "source": [
    "IF STATEMENT"
   ]
  },
  {
   "cell_type": "code",
   "execution_count": 1,
   "metadata": {},
   "outputs": [
    {
     "name": "stdout",
     "output_type": "stream",
     "text": [
      "x is greater than 5\n"
     ]
    }
   ],
   "source": [
    "x = 10\n",
    "if x>5:\n",
    "    print(\"x is greater than 5\")"
   ]
  },
  {
   "cell_type": "code",
   "execution_count": 2,
   "metadata": {},
   "outputs": [
    {
     "name": "stdout",
     "output_type": "stream",
     "text": [
      "x is not greater than 5\n"
     ]
    }
   ],
   "source": [
    "x = 10\n",
    "if x<5:\n",
    "    print(\"x is greater than 5\")\n",
    "else: \n",
    "     print(\"x is not greater than 5\")   "
   ]
  },
  {
   "cell_type": "code",
   "execution_count": 3,
   "metadata": {},
   "outputs": [
    {
     "name": "stdout",
     "output_type": "stream",
     "text": [
      "Bye\n"
     ]
    }
   ],
   "source": [
    "a = False\n",
    "if a:\n",
    "    print(\"Hello\")\n",
    "else: \n",
    "     print(\"Bye\")   "
   ]
  },
  {
   "cell_type": "markdown",
   "metadata": {},
   "source": [
    "2. ELSE STATEMENT:"
   ]
  },
  {
   "cell_type": "code",
   "execution_count": 4,
   "metadata": {},
   "outputs": [
    {
     "name": "stdout",
     "output_type": "stream",
     "text": [
      "x is odd\n"
     ]
    }
   ],
   "source": [
    "x = 5\n",
    "if x % 2 == 0:\n",
    "    print(\"x is even\")\n",
    "else: \n",
    "     print(\"x is odd\")   "
   ]
  },
  {
   "cell_type": "code",
   "execution_count": 5,
   "metadata": {},
   "outputs": [
    {
     "name": "stdout",
     "output_type": "stream",
     "text": [
      "Hello\n"
     ]
    }
   ],
   "source": [
    "a= 4\n",
    "if a!= 5:\n",
    "    print('Hello')\n",
    "else: \n",
    "     print('Bye')   "
   ]
  },
  {
   "cell_type": "code",
   "execution_count": 6,
   "metadata": {},
   "outputs": [
    {
     "name": "stdout",
     "output_type": "stream",
     "text": [
      "x is even\n"
     ]
    }
   ],
   "source": [
    "a =int(input(\"enter a no:\"))\n",
    "if a % 2 == 0:\n",
    "    print(\"x is even\")\n",
    "else: \n",
    "     print(\"x is odd\")   "
   ]
  },
  {
   "cell_type": "code",
   "execution_count": 7,
   "metadata": {},
   "outputs": [
    {
     "name": "stdout",
     "output_type": "stream",
     "text": [
      "2024 is a leap year.\n"
     ]
    }
   ],
   "source": [
    "year= int(input(\"enter a year:\"))\n",
    "if (year % 4 == 0 and year % 100 !=0) or (year % 400 == 0):\n",
    "    print(year, \"is a leap year.\")\n",
    "else: \n",
    "     print(year, \"is not a leap year.\")   "
   ]
  },
  {
   "cell_type": "code",
   "execution_count": 8,
   "metadata": {},
   "outputs": [
    {
     "name": "stdout",
     "output_type": "stream",
     "text": [
      "11 is not divisible by 3 itself, hence I won't check if it is divisible by 5\n",
      "we understood if-else\n"
     ]
    }
   ],
   "source": [
    "a = int(input('tell a number:'))\n",
    "\n",
    "if a % 3 == 0 and a % 5 ==0:\n",
    "    print(a, 'is divisible by both 3 and 5')\n",
    "else: \n",
    "     print(a, 'is not divisible by 3 itself, hence I won\\'t check if it is divisible by 5')\n",
    "     print('we understood if-else')    "
   ]
  },
  {
   "cell_type": "markdown",
   "metadata": {},
   "source": [
    "ELIF"
   ]
  },
  {
   "cell_type": "code",
   "execution_count": 9,
   "metadata": {},
   "outputs": [
    {
     "name": "stdout",
     "output_type": "stream",
     "text": [
      "All ia well with the world\n"
     ]
    }
   ],
   "source": [
    "a = 5\n",
    "b = 6\n",
    "if a== b:\n",
    "    print(\"How did that happen?\")\n",
    "elif a>b:\n",
    "    print(\"yikes\")    \n",
    "else: \n",
    "     print(\"All ia well with the world\")   "
   ]
  },
  {
   "cell_type": "code",
   "execution_count": 10,
   "metadata": {},
   "outputs": [
    {
     "name": "stdout",
     "output_type": "stream",
     "text": [
      "Hay i am here\n"
     ]
    }
   ],
   "source": [
    "d = [1,2,3,\"True\"]\n",
    "if d[-2]>2:\n",
    "    print(\"Hay i am here\")\n",
    "elif d[-2]>=2:  \n",
    "    print(\"dont ask\")  \n",
    "else: \n",
    "     print(\"i am outside\")   "
   ]
  },
  {
   "cell_type": "code",
   "execution_count": 11,
   "metadata": {},
   "outputs": [
    {
     "name": "stdout",
     "output_type": "stream",
     "text": [
      "15 is divisible by both 3 and 5\n"
     ]
    }
   ],
   "source": [
    "a = int(input('tell a number:'))\n",
    "\n",
    "if a % 3 == 0 and a % 5 ==0:\n",
    "    print(a, 'is divisible by both 3 and 5')\n",
    "elif a % 3 == 0: \n",
    "    print ('ohh! yes, it is divisible by 3 ')\n",
    "elif a % 5 ==0:\n",
    "     print ('ohh! yes, it is divisible by 5 ')\n",
    "else:\n",
    "     print ('No, it is not divisible by 3 and 5 ') "
   ]
  },
  {
   "cell_type": "code",
   "execution_count": 12,
   "metadata": {},
   "outputs": [
    {
     "name": "stdout",
     "output_type": "stream",
     "text": [
      "x is equal to 5\n"
     ]
    }
   ],
   "source": [
    "x = 5\n",
    "if x>5:\n",
    "    print(\"x is greater than 5\")\n",
    "elif x<5:\n",
    "    print(\"x is less than 5\")    \n",
    "else: \n",
    "     print(\"x is equal to 5\")   "
   ]
  },
  {
   "cell_type": "code",
   "execution_count": 13,
   "metadata": {},
   "outputs": [
    {
     "name": "stdout",
     "output_type": "stream",
     "text": [
      "327\n",
      "81.75\n",
      "A+\n"
     ]
    }
   ],
   "source": [
    "sub1=int(input(\"enter a marks sub1\"))\n",
    "sub2=int(input(\"enter a marks sub2\"))\n",
    "sub3=int(input(\"enter a marks sub3\"))\n",
    "sub4=int(input(\"enter a marks sub4\"))\n",
    "totalmarks=sub1+sub2+sub3+sub4\n",
    "print(totalmarks)\n",
    "percent=(totalmarks/400)*100\n",
    "print(percent)\n",
    "if percent>=90:\n",
    "    print(\"o\")\n",
    "elif percent<90 and percent>=80:\n",
    "    print(\"A+\")  \n",
    "elif percent<80 and percent>=70:\n",
    "    print(\"A\")    \n",
    "elif percent<70 and percent>=60:\n",
    "    print(\"B+\")  \n",
    "elif percent<60 and percent>=50:\n",
    "    print(\"B\")  \n",
    "else:\n",
    "    print(\"Better luck next time\")            \n",
    "    "
   ]
  },
  {
   "cell_type": "code",
   "execution_count": null,
   "metadata": {},
   "outputs": [
    {
     "name": "stdout",
     "output_type": "stream",
     "text": [
      "4\n"
     ]
    }
   ],
   "source": [
    "my_list = [1, 2, 3]\n",
    "my_list.insert(1, [4, 5])\n",
    "print(len(my_list))"
   ]
  },
  {
   "cell_type": "markdown",
   "metadata": {},
   "source": [
    "NESTED conditions"
   ]
  },
  {
   "cell_type": "code",
   "execution_count": 1,
   "metadata": {},
   "outputs": [
    {
     "name": "stdout",
     "output_type": "stream",
     "text": [
      "x is greater than 5 and equal to 10\n"
     ]
    }
   ],
   "source": [
    "x= 10\n",
    "if x > 5 and x == 10:\n",
    "    print(\"x is greater than 5 and equal to 10\")"
   ]
  },
  {
   "cell_type": "code",
   "execution_count": 2,
   "metadata": {},
   "outputs": [
    {
     "name": "stdout",
     "output_type": "stream",
     "text": [
      "x is greater than 5\n",
      "x is also equal to 10\n"
     ]
    }
   ],
   "source": [
    "x= 10\n",
    "if x > 5:\n",
    "    print(\"x is greater than 5\")\n",
    "    if x == 10:\n",
    "      print(\"x is also equal to 10\")\n",
    "else: \n",
    "     print(\"x is less than or equal to 5\")   "
   ]
  },
  {
   "cell_type": "code",
   "execution_count": 3,
   "metadata": {},
   "outputs": [
    {
     "name": "stdout",
     "output_type": "stream",
     "text": [
      "4  is zero\n"
     ]
    }
   ],
   "source": [
    "x= 4\n",
    "if x < 0:\n",
    "    if x%2==0:\n",
    "      print(x,\"is even number\")\n",
    "    else:\n",
    "         print (x,\"is odd number\") \n",
    "elif x<0: \n",
    "      print(x,\"is negative number\")      \n",
    "      if x%2==10:\n",
    "        print(x,\"is even number\")\n",
    "      else:\n",
    "         print (x,\"is odd number\") \n",
    "else: \n",
    "     print(x,\" is zero\")   "
   ]
  },
  {
   "cell_type": "code",
   "execution_count": 4,
   "metadata": {},
   "outputs": [
    {
     "name": "stdout",
     "output_type": "stream",
     "text": [
      "Not a valid triangle\n"
     ]
    }
   ],
   "source": [
    "a = float(input(\"enter the length of side a:\"))\n",
    "b = float(input(\"enter the length of side b:\"))\n",
    "c = float(input(\"enter the length of side c:\"))\n",
    "\n",
    "if a+b>c and a+c>b and b+c>a:\n",
    "    if a==b==c:\n",
    "      print(\"Equilateral triangle\")\n",
    "    elif a==b or b==c or a==c:\n",
    "        print(\"Isosceles triangle\")\n",
    "    else:\n",
    "         print (\"Scalene triangle\")\n",
    "else: \n",
    "     print(\"Not a valid triangle\")          "
   ]
  },
  {
   "cell_type": "code",
   "execution_count": 5,
   "metadata": {},
   "outputs": [
    {
     "name": "stdout",
     "output_type": "stream",
     "text": [
      "15 is divisible by 3\n",
      "15 is divisible by both 3 and 5\n",
      "We understood nested-if\n"
     ]
    }
   ],
   "source": [
    "a = int(input('Tell a number :'))\n",
    "\n",
    "if a%3==0:\n",
    "      print(a,'is divisible by 3')\n",
    "      if a%5==0:\n",
    "        print(a,'is divisible by both 3 and 5')\n",
    "      else:\n",
    "         print (a,'is divisible by only both 3 and 5') \n",
    "else: \n",
    "     print(a,'is not divisible by 3 itself hence I wontcheck if it is divisible by 5') \n",
    "       \n",
    "print('We understood nested-if')     "
   ]
  },
  {
   "cell_type": "code",
   "execution_count": 6,
   "metadata": {},
   "outputs": [
    {
     "name": "stdout",
     "output_type": "stream",
     "text": [
      "******************** \n",
      " Happy Holidays \n",
      " ********************\n"
     ]
    }
   ],
   "source": [
    "stars =\"*\"*20\n",
    "greeting = \"Happy\" + \" \"+\"Holidays\"\n",
    "print(stars,\"\\n\",greeting,\"\\n\", stars)\n",
    "\n"
   ]
  },
  {
   "cell_type": "code",
   "execution_count": 10,
   "metadata": {},
   "outputs": [
    {
     "name": "stdout",
     "output_type": "stream",
     "text": [
      "5555555555\n"
     ]
    }
   ],
   "source": [
    "num = input(\"Enter the number\")\n",
    "print(num *5)\n"
   ]
  },
  {
   "cell_type": "code",
   "execution_count": 11,
   "metadata": {},
   "outputs": [
    {
     "name": "stdout",
     "output_type": "stream",
     "text": [
      "60\n"
     ]
    }
   ],
   "source": [
    "num = int(input(\"Enter the number\"))\n",
    "print(num +5)"
   ]
  },
  {
   "cell_type": "code",
   "execution_count": 14,
   "metadata": {},
   "outputs": [
    {
     "name": "stdout",
     "output_type": "stream",
     "text": [
      "200\n"
     ]
    }
   ],
   "source": [
    "a = int(input(\"enter a number\"))\n",
    "b = int(input(\"enter a number1\"))\n",
    "c = int(input(\"enter a number2\"))\n",
    "val= a**3+2*(b*c)+c**2\n",
    "print(val)"
   ]
  }
 ],
 "metadata": {
  "kernelspec": {
   "display_name": "Python 3",
   "language": "python",
   "name": "python3"
  },
  "language_info": {
   "codemirror_mode": {
    "name": "ipython",
    "version": 3
   },
   "file_extension": ".py",
   "mimetype": "text/x-python",
   "name": "python",
   "nbconvert_exporter": "python",
   "pygments_lexer": "ipython3",
   "version": "3.13.0"
  }
 },
 "nbformat": 4,
 "nbformat_minor": 2
}
