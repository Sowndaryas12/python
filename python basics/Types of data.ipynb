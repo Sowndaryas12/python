{
 "cells": [
  {
   "cell_type": "code",
   "execution_count": null,
   "metadata": {},
   "outputs": [],
   "source": []
  },
  {
   "cell_type": "markdown",
   "metadata": {},
   "source": [
    "primitive types\n",
    "1. INTEGER\n",
    "MOST COMMON DATA TYPE USED TO STORE NUMBERS WITHOUT DECIMAL OR FUNCTIONAL COMPONENT.\n"
   ]
  },
  {
   "cell_type": "code",
   "execution_count": 37,
   "metadata": {},
   "outputs": [
    {
     "name": "stdout",
     "output_type": "stream",
     "text": [
      "<class 'int'>\n"
     ]
    },
    {
     "data": {
      "text/plain": [
       "-5"
      ]
     },
     "execution_count": 37,
     "metadata": {},
     "output_type": "execute_result"
    }
   ],
   "source": [
    "a=5\n",
    "b=-5\n",
    "print(type(b))\n",
    "b\n"
   ]
  },
  {
   "cell_type": "code",
   "execution_count": 38,
   "metadata": {},
   "outputs": [
    {
     "data": {
      "text/plain": [
       "int"
      ]
     },
     "execution_count": 38,
     "metadata": {},
     "output_type": "execute_result"
    }
   ],
   "source": [
    "c=45\n",
    "n=-75\n",
    "type(n)"
   ]
  },
  {
   "cell_type": "markdown",
   "metadata": {},
   "source": [
    "2. float\n",
    "\n",
    "Numeric data type used to store number of fractional component or decimal"
   ]
  },
  {
   "cell_type": "code",
   "execution_count": 39,
   "metadata": {},
   "outputs": [
    {
     "data": {
      "text/plain": [
       "float"
      ]
     },
     "execution_count": 39,
     "metadata": {},
     "output_type": "execute_result"
    }
   ],
   "source": [
    "a=5.623\n",
    "type(a)"
   ]
  },
  {
   "cell_type": "code",
   "execution_count": 40,
   "metadata": {},
   "outputs": [
    {
     "name": "stdout",
     "output_type": "stream",
     "text": [
      "<class 'float'>\n"
     ]
    },
    {
     "data": {
      "text/plain": [
       "-5.25"
      ]
     },
     "execution_count": 40,
     "metadata": {},
     "output_type": "execute_result"
    }
   ],
   "source": [
    "b=-5.25\n",
    "print(type(b))\n",
    "b"
   ]
  },
  {
   "cell_type": "markdown",
   "metadata": {},
   "source": [
    "3. string"
   ]
  },
  {
   "cell_type": "code",
   "execution_count": 1,
   "metadata": {},
   "outputs": [
    {
     "data": {
      "text/plain": [
       "'This is a\\nmulti-line string.'"
      ]
     },
     "execution_count": 1,
     "metadata": {},
     "output_type": "execute_result"
    }
   ],
   "source": [
    "#single quotes\n",
    "single_quote_str = 'Hello, World!'\n",
    "\n",
    "#double quotes\n",
    "double_quote_str = \"Hello, World!\"\n",
    "\n",
    "#triple quotes (for multi-line strings)\n",
    "triple_single_quote_str = '''This is a\n",
    "multi-line string.'''\n",
    "\n",
    "triple_double_quote_str = \"\"\"This is also a\n",
    "multi-line string.\"\"\"\n",
    "\n",
    "triple_single_quote_str \n",
    "\n"
   ]
  },
  {
   "cell_type": "code",
   "execution_count": 42,
   "metadata": {},
   "outputs": [
    {
     "name": "stdout",
     "output_type": "stream",
     "text": [
      "p n\n"
     ]
    },
    {
     "data": {
      "text/plain": [
       "'yth'"
      ]
     },
     "execution_count": 42,
     "metadata": {},
     "output_type": "execute_result"
    }
   ],
   "source": [
    "s= \"python\"\n",
    "first_char = s[0]\n",
    "last_char = s[-1]\n",
    "\n",
    "print(first_char, last_char)\n",
    "\n",
    "s= \"python\"\n",
    "substring = s[1:4]\n",
    "substring"
   ]
  },
  {
   "cell_type": "code",
   "execution_count": 43,
   "metadata": {},
   "outputs": [
    {
     "data": {
      "text/plain": [
       "13"
      ]
     },
     "execution_count": 43,
     "metadata": {},
     "output_type": "execute_result"
    }
   ],
   "source": [
    "s= \"Hello, World!\"\n",
    "length = len(s)\n",
    "length"
   ]
  },
  {
   "cell_type": "code",
   "execution_count": 2,
   "metadata": {},
   "outputs": [
    {
     "data": {
      "text/plain": [
       "6"
      ]
     },
     "execution_count": 2,
     "metadata": {},
     "output_type": "execute_result"
    }
   ],
   "source": [
    "s= \"Python\"\n",
    "length = len(s)\n",
    "length"
   ]
  },
  {
   "cell_type": "code",
   "execution_count": 44,
   "metadata": {},
   "outputs": [
    {
     "data": {
      "text/plain": [
       "'Hello, World|'"
      ]
     },
     "execution_count": 44,
     "metadata": {},
     "output_type": "execute_result"
    }
   ],
   "source": [
    "# string concatenation\n",
    "s1 = \"Hello\"\n",
    "s2 = \"World\"\n",
    "s3 = s1 + \", \"+ s2 +\"|\"\n",
    "s3"
   ]
  },
  {
   "cell_type": "code",
   "execution_count": 45,
   "metadata": {},
   "outputs": [
    {
     "data": {
      "text/plain": [
       "'HelloHelloHello'"
      ]
     },
     "execution_count": 45,
     "metadata": {},
     "output_type": "execute_result"
    }
   ],
   "source": [
    "# repeatation\n",
    "s= \"Hello\"\n",
    "s_repeated = s*3\n",
    "s_repeated"
   ]
  },
  {
   "cell_type": "code",
   "execution_count": 46,
   "metadata": {},
   "outputs": [
    {
     "name": "stdout",
     "output_type": "stream",
     "text": [
      "HELLO, WORLD!\n",
      "hello, world!\n",
      "Hello, World!\n",
      "Hello, world!\n"
     ]
    }
   ],
   "source": [
    "#case conversion\n",
    "s=\"Hello, World!\"\n",
    "s_upper = s.upper()\n",
    "s_lower = s.lower()\n",
    "s_title = s.title()\n",
    "s_capitalize = s.capitalize()\n",
    "\n",
    "print(s_upper)\n",
    "print(s_lower)\n",
    "print(s_title)\n",
    "print(s_capitalize)"
   ]
  },
  {
   "cell_type": "code",
   "execution_count": 47,
   "metadata": {},
   "outputs": [
    {
     "name": "stdout",
     "output_type": "stream",
     "text": [
      "7\n",
      "7\n"
     ]
    }
   ],
   "source": [
    "# finding substrings\n",
    "s = \"Hello, World!\"\n",
    "index = s.find (\"World\")\n",
    "rindex = s.rfind (\"World\") # (search from the right)\n",
    "print (index)# 7\n",
    "print(rindex)# 7"
   ]
  },
  {
   "cell_type": "code",
   "execution_count": 48,
   "metadata": {},
   "outputs": [
    {
     "data": {
      "text/plain": [
       "'Hello, python!'"
      ]
     },
     "execution_count": 48,
     "metadata": {},
     "output_type": "execute_result"
    }
   ],
   "source": [
    "# replacing substring\n",
    "s= \"Hello, World!\"\n",
    "s_replace = s.replace(\"World\", \"python\")\n",
    "s_replace"
   ]
  },
  {
   "cell_type": "code",
   "execution_count": 49,
   "metadata": {},
   "outputs": [
    {
     "name": "stdout",
     "output_type": "stream",
     "text": [
      "<class 'str'>\n",
      "<class 'str'>\n"
     ]
    }
   ],
   "source": [
    "a= \"ML\"\n",
    "b= '10'\n",
    "print(type(a))\n",
    "print(type(b))"
   ]
  },
  {
   "cell_type": "code",
   "execution_count": 50,
   "metadata": {},
   "outputs": [
    {
     "name": "stdout",
     "output_type": "stream",
     "text": [
      "Hello World\n"
     ]
    }
   ],
   "source": [
    "# concatention\n",
    "str1 = 'Hello'\n",
    "str2 = ' World'\n",
    "\n",
    "\n",
    "result = str1+str2\n",
    "print(result)"
   ]
  },
  {
   "cell_type": "code",
   "execution_count": 51,
   "metadata": {},
   "outputs": [
    {
     "name": "stdout",
     "output_type": "stream",
     "text": [
      "True False True False False\n"
     ]
    }
   ],
   "source": [
    "# checking string properties\n",
    "s= \"Hello\"\n",
    "is_alpha = s.isalpha()\n",
    "is_digit = s.isdigit()\n",
    "is_alnum = s.isalnum()\n",
    "is_upper = s.isupper()\n",
    "is_lower = s.islower()\n",
    "print(is_alpha, is_digit, is_alnum, is_upper, is_lower)\n"
   ]
  },
  {
   "cell_type": "code",
   "execution_count": 52,
   "metadata": {},
   "outputs": [
    {
     "data": {
      "text/plain": [
       "'Hello- World!'"
      ]
     },
     "execution_count": 52,
     "metadata": {},
     "output_type": "execute_result"
    }
   ],
   "source": [
    "s =\"Hello, World!\"\n",
    "s_split = s.split(\",\") # [\"Hello, World!\"]\n",
    "s_join =\"-\".join (s_split)\n",
    "s_join"
   ]
  },
  {
   "cell_type": "code",
   "execution_count": 53,
   "metadata": {},
   "outputs": [
    {
     "data": {
      "text/plain": [
       "'Hello, World!'"
      ]
     },
     "execution_count": 53,
     "metadata": {},
     "output_type": "execute_result"
    }
   ],
   "source": [
    "name = \"World\"\n",
    "s1 = \"Hello, %s!\" % name\n",
    "s2 = \"Hello,{}!\".format(name)\n",
    "s3 = f\"Hello, {name}!\"\n",
    "s1"
   ]
  },
  {
   "cell_type": "markdown",
   "metadata": {},
   "source": [
    "4.Boolean\n",
    "\n",
    "true or false"
   ]
  },
  {
   "cell_type": "code",
   "execution_count": 54,
   "metadata": {},
   "outputs": [
    {
     "name": "stdout",
     "output_type": "stream",
     "text": [
      "The data type of a: <class 'bool'>\n",
      "The value of a: True\n"
     ]
    }
   ],
   "source": [
    "a = True\n",
    "print('The data type of a:',type(a))\n",
    "print('The value of a:',bool(a))"
   ]
  },
  {
   "cell_type": "code",
   "execution_count": 55,
   "metadata": {},
   "outputs": [
    {
     "name": "stdout",
     "output_type": "stream",
     "text": [
      "True\n",
      "False\n"
     ]
    }
   ],
   "source": [
    "is_true = True\n",
    "is_false = False\n",
    "\n",
    "print(is_true)\n",
    "print(is_false)"
   ]
  },
  {
   "cell_type": "code",
   "execution_count": 56,
   "metadata": {},
   "outputs": [
    {
     "name": "stdout",
     "output_type": "stream",
     "text": [
      "False\n",
      "True\n"
     ]
    }
   ],
   "source": [
    "x= 5\n",
    "y= 10\n",
    "\n",
    "# camparision operators\n",
    "is_equal = x==y\n",
    "is_not_equal = x != y\n",
    "\n",
    "print(is_equal)\n",
    "print(is_not_equal)"
   ]
  },
  {
   "cell_type": "code",
   "execution_count": 57,
   "metadata": {},
   "outputs": [
    {
     "name": "stdout",
     "output_type": "stream",
     "text": [
      "False True False\n"
     ]
    }
   ],
   "source": [
    "a= True\n",
    "b= False\n",
    "\n",
    "# logical AND\n",
    "result_and = a and b\n",
    "\n",
    "\n",
    "# logical OR\n",
    "result_or = a or b\n",
    "\n",
    "# logical NOT\n",
    "result_not = not a \n",
    "\n",
    "print(result_not, result_or, result_and)"
   ]
  },
  {
   "cell_type": "code",
   "execution_count": 58,
   "metadata": {},
   "outputs": [
    {
     "name": "stdout",
     "output_type": "stream",
     "text": [
      "The number is not greater than 50.\n"
     ]
    }
   ],
   "source": [
    "number = 42\n",
    "\n",
    "if number > 50:\n",
    "    print(\"The number is greater than 50.\")\n",
    "else:\n",
    "    print (\"The number is not greater than 50.\")   "
   ]
  },
  {
   "cell_type": "code",
   "execution_count": 59,
   "metadata": {},
   "outputs": [
    {
     "data": {
      "text/plain": [
       "NoneType"
      ]
     },
     "execution_count": 59,
     "metadata": {},
     "output_type": "execute_result"
    }
   ],
   "source": [
    "no_value = None\n",
    "type(no_value)"
   ]
  },
  {
   "cell_type": "markdown",
   "metadata": {},
   "source": [
    "primitive data type conversion\n",
    "\n",
    "data type conversion, also known as type casting"
   ]
  },
  {
   "cell_type": "code",
   "execution_count": 60,
   "metadata": {},
   "outputs": [
    {
     "name": "stdout",
     "output_type": "stream",
     "text": [
      "b is5.0 and type of b is<class 'float'>\n"
     ]
    }
   ],
   "source": [
    "a = 5\n",
    "# integer to float\n",
    "b = float(a)\n",
    "print('b is{} and type of b is{}'.format(b, type(b)))\n"
   ]
  },
  {
   "cell_type": "code",
   "execution_count": 61,
   "metadata": {},
   "outputs": [
    {
     "name": "stdout",
     "output_type": "stream",
     "text": [
      "a is5and data type of a is <class 'int'>\n"
     ]
    }
   ],
   "source": [
    "a=5.0\n",
    "#float to integer\n",
    "a=int(b)\n",
    "print('a is{}and data type of a is {}'.format(a,type(a))) "
   ]
  },
  {
   "cell_type": "code",
   "execution_count": 62,
   "metadata": {},
   "outputs": [
    {
     "name": "stdout",
     "output_type": "stream",
     "text": [
      "<class 'str'>\n",
      "d is 10and e is 10.0\n",
      "<class 'int'> <class 'float'>\n"
     ]
    }
   ],
   "source": [
    "#string to integer or float\n",
    "c= '10'#value should be numerical in the string\n",
    "print(type(c))\n",
    "d,e= int(c),float(c)\n",
    "print('d is {}and e is {}'.format (d,e))\n",
    "print(type(d), type(e))"
   ]
  },
  {
   "cell_type": "code",
   "execution_count": 177,
   "metadata": {},
   "outputs": [
    {
     "name": "stdout",
     "output_type": "stream",
     "text": [
      "('sameer', 'sameer')\n"
     ]
    }
   ],
   "source": [
    "#invalid conversion\n",
    "sa = 'sameer'\n",
    "sam = str(sa), str(sa)\n",
    "print(sam) # value error"
   ]
  },
  {
   "cell_type": "code",
   "execution_count": null,
   "metadata": {},
   "outputs": [
    {
     "name": "stdout",
     "output_type": "stream",
     "text": [
      "the sum is 12\n",
      "type of c <class 'int'> 12.0\n"
     ]
    }
   ],
   "source": [
    "a=int(input('tell a number'))\n",
    "b=int(input('tell second number'))\n",
    "c=a+b\n",
    "print('the sum is',c)\n",
    "print(\"type of c\",type(c),float(c))"
   ]
  },
  {
   "cell_type": "code",
   "execution_count": null,
   "metadata": {},
   "outputs": [
    {
     "name": "stdout",
     "output_type": "stream",
     "text": [
      "2.5\n",
      "<class 'str'>\n"
     ]
    }
   ],
   "source": [
    "#float to string\n",
    "a= 2.5\n",
    "b= str(a)\n",
    "print(b)\n",
    "print(type(b))"
   ]
  },
  {
   "cell_type": "code",
   "execution_count": null,
   "metadata": {},
   "outputs": [
    {
     "name": "stdout",
     "output_type": "stream",
     "text": [
      "5\n",
      "<class 'str'>\n"
     ]
    }
   ],
   "source": [
    "#int to string\n",
    "a= 5\n",
    "b= str(a)\n",
    "print(b)\n",
    "print(type(b))"
   ]
  },
  {
   "cell_type": "code",
   "execution_count": null,
   "metadata": {},
   "outputs": [
    {
     "name": "stdout",
     "output_type": "stream",
     "text": [
      "2\n",
      "<class 'int'>\n"
     ]
    }
   ],
   "source": [
    "e  = 2.7\n",
    "f = int(e)\n",
    "print(f)\n",
    "print(type(f))\n"
   ]
  },
  {
   "cell_type": "markdown",
   "metadata": {},
   "source": [
    "python list are similar to array"
   ]
  },
  {
   "cell_type": "code",
   "execution_count": 1,
   "metadata": {},
   "outputs": [],
   "source": [
    "#creating a list\n",
    "fruits= [\"apple\",\"banana\",\"orange\",\"grape\"]"
   ]
  },
  {
   "cell_type": "code",
   "execution_count": 2,
   "metadata": {},
   "outputs": [
    {
     "name": "stdout",
     "output_type": "stream",
     "text": [
      "banana\n"
     ]
    }
   ],
   "source": [
    "# accessing elements\n",
    "print(fruits[1])"
   ]
  },
  {
   "cell_type": "code",
   "execution_count": 3,
   "metadata": {},
   "outputs": [
    {
     "name": "stdout",
     "output_type": "stream",
     "text": [
      "['apple', 'kiwi', 'orange', 'grape']\n"
     ]
    }
   ],
   "source": [
    "# modifying elements\n",
    "fruits[1]= \"kiwi\"\n",
    "print(fruits)"
   ]
  },
  {
   "cell_type": "code",
   "execution_count": 4,
   "metadata": {},
   "outputs": [
    {
     "name": "stdout",
     "output_type": "stream",
     "text": [
      "['apple', 'kiwi', 'orange', 'grape', 'melon']\n"
     ]
    }
   ],
   "source": [
    "#adding elements\n",
    "fruits.append(\"melon\")\n",
    "print(fruits)"
   ]
  },
  {
   "cell_type": "code",
   "execution_count": 5,
   "metadata": {},
   "outputs": [
    {
     "name": "stdout",
     "output_type": "stream",
     "text": [
      "['apple', 'kiwi', 'orange', 'grape', 'melon', ['pine apple', 'banana']]\n"
     ]
    }
   ],
   "source": [
    "fruits.append([\"pine apple\",\"banana\"])\n",
    "print(fruits)"
   ]
  },
  {
   "cell_type": "code",
   "execution_count": 6,
   "metadata": {},
   "outputs": [
    {
     "data": {
      "text/plain": [
       "'pine apple'"
      ]
     },
     "execution_count": 6,
     "metadata": {},
     "output_type": "execute_result"
    }
   ],
   "source": [
    "fruits[5][0]"
   ]
  },
  {
   "cell_type": "code",
   "execution_count": 7,
   "metadata": {},
   "outputs": [
    {
     "name": "stdout",
     "output_type": "stream",
     "text": [
      "['apple', 'kiwi', 'orange', 'grape', 'melon', ['pine apple', 'banana'], 'pine apple', 'banana']\n"
     ]
    }
   ],
   "source": [
    "fruits.extend([\"pine apple\", \"banana\"])\n",
    "print(fruits)"
   ]
  },
  {
   "cell_type": "code",
   "execution_count": 8,
   "metadata": {},
   "outputs": [
    {
     "data": {
      "text/plain": [
       "'pine apple'"
      ]
     },
     "execution_count": 8,
     "metadata": {},
     "output_type": "execute_result"
    }
   ],
   "source": [
    "fruits[6]"
   ]
  },
  {
   "cell_type": "code",
   "execution_count": 9,
   "metadata": {},
   "outputs": [
    {
     "name": "stdout",
     "output_type": "stream",
     "text": [
      "['apple', 'pear', 'kiwi', 'orange', 'grape', 'melon', ['pine apple', 'banana'], 'pine apple', 'banana']\n"
     ]
    }
   ],
   "source": [
    "#insert\n",
    "#insert in elements at a specific index..\n",
    "fruits.insert(1, \"pear\")\n",
    "print(fruits)"
   ]
  },
  {
   "cell_type": "code",
   "execution_count": 10,
   "metadata": {},
   "outputs": [
    {
     "name": "stdout",
     "output_type": "stream",
     "text": [
      "pine apple\n",
      "['apple', 'pear', 'kiwi', 'orange', 'grape', 'melon', ['pine apple', 'banana'], 'banana']\n"
     ]
    }
   ],
   "source": [
    "#pop\n",
    "#removes and returns the elements data the specified index.\n",
    "popped_fruits = fruits.pop(7)\n",
    "print(popped_fruits )\n",
    "print (fruits)\n"
   ]
  },
  {
   "cell_type": "code",
   "execution_count": 11,
   "metadata": {},
   "outputs": [
    {
     "name": "stdout",
     "output_type": "stream",
     "text": [
      "['apple', 'pear', 'kiwi', 'orange', 'grape', ['pine apple', 'banana'], 'banana']\n"
     ]
    }
   ],
   "source": [
    "#removing elements\n",
    "#removes the first occurance of the specified elements.\n",
    "fruits.remove(\"melon\")\n",
    "print(fruits)\n"
   ]
  },
  {
   "cell_type": "code",
   "execution_count": null,
   "metadata": {},
   "outputs": [],
   "source": []
  },
  {
   "cell_type": "code",
   "execution_count": 12,
   "metadata": {},
   "outputs": [
    {
     "name": "stdout",
     "output_type": "stream",
     "text": [
      "7\n"
     ]
    }
   ],
   "source": [
    "#list length\n",
    "#finishing length of the list\n",
    "print(len(fruits)) \n"
   ]
  },
  {
   "cell_type": "code",
   "execution_count": 15,
   "metadata": {},
   "outputs": [
    {
     "name": "stdout",
     "output_type": "stream",
     "text": [
      "4\n"
     ]
    }
   ],
   "source": [
    "#index\n",
    "# returns the index of the first occurance of the specified elements\n",
    "index_of_apple = fruits.index('grape')\n",
    "print(index_of_apple)\n"
   ]
  },
  {
   "cell_type": "code",
   "execution_count": 20,
   "metadata": {},
   "outputs": [
    {
     "data": {
      "text/plain": [
       "['apple', 'pear', 'kiwi', 'orange', 'grape', ['pine apple', 'banana'], 'apple']"
      ]
     },
     "execution_count": 20,
     "metadata": {},
     "output_type": "execute_result"
    }
   ],
   "source": [
    "fruits.append('apple')\n",
    "fruits"
   ]
  },
  {
   "cell_type": "code",
   "execution_count": 21,
   "metadata": {},
   "outputs": [
    {
     "name": "stdout",
     "output_type": "stream",
     "text": [
      "['apple', 'pear', 'kiwi', 'orange', 'grape', ['pine apple', 'banana']]\n"
     ]
    }
   ],
   "source": [
    "fruits.pop(6)\n",
    "print(fruits)"
   ]
  },
  {
   "cell_type": "code",
   "execution_count": 52,
   "metadata": {},
   "outputs": [
    {
     "name": "stdout",
     "output_type": "stream",
     "text": [
      "['apple', 'grape', 'kiwi', 'orange', 'pear', ['pine apple', 'banana'], 56]\n"
     ]
    }
   ],
   "source": [
    "fruits.insert(7,56)\n",
    "print(fruits)"
   ]
  },
  {
   "cell_type": "code",
   "execution_count": 53,
   "metadata": {},
   "outputs": [
    {
     "name": "stdout",
     "output_type": "stream",
     "text": [
      "1\n"
     ]
    }
   ],
   "source": [
    "#count\n",
    "#returns the numbers of occurance of the specified elements\n",
    "num_apples = fruits.count(\"apple\")\n",
    "print(num_apples)"
   ]
  },
  {
   "cell_type": "code",
   "execution_count": 54,
   "metadata": {},
   "outputs": [
    {
     "name": "stdout",
     "output_type": "stream",
     "text": [
      "[56, ['pine apple', 'banana'], 'pear', 'orange', 'kiwi', 'grape', 'apple']\n"
     ]
    }
   ],
   "source": [
    "# reverse \n",
    "# reverse the orders of the elements in the list \n",
    "fruits.reverse()\n",
    "print(fruits)"
   ]
  },
  {
   "cell_type": "code",
   "execution_count": 55,
   "metadata": {},
   "outputs": [
    {
     "name": "stdout",
     "output_type": "stream",
     "text": [
      "final list: [56, ['pine apple', 'banana'], 'pear', 'orange', 'kiwi', 'grape', 'apple']\n"
     ]
    }
   ],
   "source": [
    "#display final list\n",
    "print(\"final list:\",fruits)"
   ]
  },
  {
   "cell_type": "code",
   "execution_count": 56,
   "metadata": {},
   "outputs": [
    {
     "name": "stdout",
     "output_type": "stream",
     "text": [
      "[56, ['pine apple', 'banana'], 'pear', 'orange', 'kiwi', 'grape', 'apple']\n"
     ]
    }
   ],
   "source": [
    "f=fruits.copy()\n",
    "print (f)"
   ]
  },
  {
   "cell_type": "code",
   "execution_count": 57,
   "metadata": {},
   "outputs": [
    {
     "data": {
      "text/plain": [
       "[['pine apple', 'banana'], 'pear', 'orange', 'kiwi', 'grape', 'apple']"
      ]
     },
     "execution_count": 57,
     "metadata": {},
     "output_type": "execute_result"
    }
   ],
   "source": [
    "fruits.remove(56)\n",
    "fruits"
   ]
  },
  {
   "cell_type": "code",
   "execution_count": 60,
   "metadata": {},
   "outputs": [
    {
     "ename": "TypeError",
     "evalue": "'<' not supported between instances of 'list' and 'str'",
     "output_type": "error",
     "traceback": [
      "\u001b[1;31m---------------------------------------------------------------------------\u001b[0m",
      "\u001b[1;31mTypeError\u001b[0m                                 Traceback (most recent call last)",
      "Cell \u001b[1;32mIn[60], line 5\u001b[0m\n\u001b[0;32m      1\u001b[0m \u001b[38;5;66;03m#sort\u001b[39;00m\n\u001b[0;32m      2\u001b[0m \u001b[38;5;66;03m#sorts the elements of the list in ascending order.\u001b[39;00m\n\u001b[0;32m      3\u001b[0m \u001b[38;5;66;03m#sorting the list in default ascending order\u001b[39;00m\n\u001b[1;32m----> 5\u001b[0m \u001b[43mfruits\u001b[49m\u001b[38;5;241;43m.\u001b[39;49m\u001b[43msort\u001b[49m\u001b[43m(\u001b[49m\u001b[43mreverse\u001b[49m\u001b[38;5;241;43m=\u001b[39;49m\u001b[38;5;28;43;01mTrue\u001b[39;49;00m\u001b[43m)\u001b[49m\n\u001b[0;32m      6\u001b[0m \u001b[38;5;28mprint\u001b[39m(fruits)\n",
      "\u001b[1;31mTypeError\u001b[0m: '<' not supported between instances of 'list' and 'str'"
     ]
    }
   ],
   "source": [
    "#sort\n",
    "#sorts the elements of the list in ascending order.\n",
    "#sorting the list in default ascending order\n",
    "\n",
    "fruits.sort(reverse=True)\n",
    "print(fruits)"
   ]
  },
  {
   "cell_type": "markdown",
   "metadata": {},
   "source": [
    "list of integers"
   ]
  },
  {
   "cell_type": "code",
   "execution_count": 161,
   "metadata": {},
   "outputs": [
    {
     "name": "stdout",
     "output_type": "stream",
     "text": [
      "<class 'list'> /n\n"
     ]
    }
   ],
   "source": [
    "list1 =[1,2,3,4,-4,0,]\n",
    "print(type(list1),\"/n\")"
   ]
  },
  {
   "cell_type": "code",
   "execution_count": 162,
   "metadata": {},
   "outputs": [],
   "source": [
    "#list of floats\n",
    "list2 = [1.01,2.8,3.4,7.8]"
   ]
  },
  {
   "cell_type": "code",
   "execution_count": 163,
   "metadata": {},
   "outputs": [],
   "source": [
    "list3 = ['a', 'b', 'c', 'd']"
   ]
  },
  {
   "cell_type": "code",
   "execution_count": 164,
   "metadata": {},
   "outputs": [],
   "source": [
    "list4 = [1,1.01,'a']"
   ]
  },
  {
   "cell_type": "code",
   "execution_count": 165,
   "metadata": {},
   "outputs": [
    {
     "name": "stdout",
     "output_type": "stream",
     "text": [
      "6\n"
     ]
    }
   ],
   "source": [
    "print(len(list1))"
   ]
  },
  {
   "cell_type": "code",
   "execution_count": 166,
   "metadata": {},
   "outputs": [
    {
     "name": "stdout",
     "output_type": "stream",
     "text": [
      "<class 'list'>\n",
      "1\n",
      "<class 'int'>\n",
      "<class 'float'>\n",
      "<class 'str'>\n",
      "<class 'int'>\n"
     ]
    }
   ],
   "source": [
    "print(type(list2))\n",
    "print(list1[0])\n",
    "print(type(list1[0]))\n",
    "print(type(list2[0]))\n",
    "print(type(list3[0]))\n",
    "print(type(list4[0]))"
   ]
  },
  {
   "cell_type": "markdown",
   "metadata": {},
   "source": [
    "accessing elements and slicing"
   ]
  },
  {
   "cell_type": "code",
   "execution_count": 167,
   "metadata": {},
   "outputs": [
    {
     "data": {
      "text/plain": [
       "['c', 'e', 'g']"
      ]
     },
     "execution_count": 167,
     "metadata": {},
     "output_type": "execute_result"
    }
   ],
   "source": [
    "list5 =['a','b','c','d','e','f','g','h','i']\n",
    "\n",
    "list5[2:7:2]"
   ]
  },
  {
   "cell_type": "code",
   "execution_count": 168,
   "metadata": {},
   "outputs": [
    {
     "data": {
      "text/plain": [
       "['b', 'c', 'd']"
      ]
     },
     "execution_count": 168,
     "metadata": {},
     "output_type": "execute_result"
    }
   ],
   "source": [
    "list5[1:4]"
   ]
  },
  {
   "cell_type": "code",
   "execution_count": 169,
   "metadata": {},
   "outputs": [
    {
     "data": {
      "text/plain": [
       "['c', 'd', 'e']"
      ]
     },
     "execution_count": 169,
     "metadata": {},
     "output_type": "execute_result"
    }
   ],
   "source": [
    "list5[2:5:1]"
   ]
  },
  {
   "cell_type": "code",
   "execution_count": 170,
   "metadata": {},
   "outputs": [
    {
     "data": {
      "text/plain": [
       "['a', 'b', 'c', 'd', 'e', 'f', 'g', 'h', 'i']"
      ]
     },
     "execution_count": 170,
     "metadata": {},
     "output_type": "execute_result"
    }
   ],
   "source": [
    "list5"
   ]
  },
  {
   "cell_type": "code",
   "execution_count": 171,
   "metadata": {},
   "outputs": [
    {
     "data": {
      "text/plain": [
       "'h'"
      ]
     },
     "execution_count": 171,
     "metadata": {},
     "output_type": "execute_result"
    }
   ],
   "source": [
    "list5[-2]"
   ]
  },
  {
   "cell_type": "code",
   "execution_count": 173,
   "metadata": {},
   "outputs": [
    {
     "data": {
      "text/plain": [
       "['h']"
      ]
     },
     "execution_count": 173,
     "metadata": {},
     "output_type": "execute_result"
    }
   ],
   "source": [
    "list5[-2:-1]"
   ]
  },
  {
   "cell_type": "code",
   "execution_count": 174,
   "metadata": {},
   "outputs": [
    {
     "data": {
      "text/plain": [
       "['g', 'h', 'i']"
      ]
     },
     "execution_count": 174,
     "metadata": {},
     "output_type": "execute_result"
    }
   ],
   "source": [
    "list5[-3:]"
   ]
  },
  {
   "cell_type": "code",
   "execution_count": 175,
   "metadata": {},
   "outputs": [
    {
     "name": "stdout",
     "output_type": "stream",
     "text": [
      "[]\n"
     ]
    }
   ],
   "source": [
    "list5.clear()\n",
    "print(list5)"
   ]
  },
  {
   "cell_type": "code",
   "execution_count": 5,
   "metadata": {},
   "outputs": [],
   "source": [
    "sam = [5,9,4,7,5,9,5,7,2,3,'no',5.12]"
   ]
  },
  {
   "cell_type": "code",
   "execution_count": 6,
   "metadata": {},
   "outputs": [
    {
     "name": "stdout",
     "output_type": "stream",
     "text": [
      "[5, 9, 4, 7, 5, 9, 5, 7, 2, 3, 5.12]\n"
     ]
    }
   ],
   "source": [
    "sam.pop(10)\n",
    "print(sam)"
   ]
  },
  {
   "cell_type": "code",
   "execution_count": 7,
   "metadata": {},
   "outputs": [
    {
     "name": "stdout",
     "output_type": "stream",
     "text": [
      "[2, 3, 4, 5, 5, 5, 5.12, 7, 7, 9, 9]\n"
     ]
    }
   ],
   "source": [
    "sam.sort()\n",
    "print(sam)"
   ]
  },
  {
   "cell_type": "code",
   "execution_count": 19,
   "metadata": {},
   "outputs": [
    {
     "name": "stdout",
     "output_type": "stream",
     "text": [
      "[9, 9, 7, 7, 5.12, 5, 5, 5, 4, 3, 2]\n"
     ]
    }
   ],
   "source": [
    "sam.sort(reverse = True)\n",
    "print(sam)"
   ]
  },
  {
   "cell_type": "code",
   "execution_count": 7,
   "metadata": {},
   "outputs": [
    {
     "name": "stdout",
     "output_type": "stream",
     "text": [
      "[1, 2, 3, 5, 6, 7]\n",
      "[[1, 2, 3], [5, 6, 7]]\n"
     ]
    }
   ],
   "source": [
    "#list od lists\n",
    "x = [1,2,3]\n",
    "y = [5,6,7]\n",
    "s= x+y\n",
    "z=[x,y]\n",
    "print(s)\n",
    "print(z)"
   ]
  },
  {
   "cell_type": "code",
   "execution_count": 4,
   "metadata": {},
   "outputs": [
    {
     "name": "stdout",
     "output_type": "stream",
     "text": [
      "(3, 7, 4)\n"
     ]
    }
   ],
   "source": [
    "# ceating a tuple\n",
    "coordinates =(3,7,4)\n",
    "print(coordinates)"
   ]
  },
  {
   "cell_type": "code",
   "execution_count": 5,
   "metadata": {},
   "outputs": [
    {
     "data": {
      "text/plain": [
       "(3, 7)"
      ]
     },
     "execution_count": 5,
     "metadata": {},
     "output_type": "execute_result"
    }
   ],
   "source": [
    "#accessing elements\n",
    "x = coordinates [0]\n",
    "y = coordinates [1]\n",
    "x,y\n"
   ]
  },
  {
   "cell_type": "code",
   "execution_count": 6,
   "metadata": {},
   "outputs": [
    {
     "data": {
      "text/plain": [
       "2"
      ]
     },
     "execution_count": 6,
     "metadata": {},
     "output_type": "execute_result"
    }
   ],
   "source": [
    "coordinates.index(4)"
   ]
  },
  {
   "cell_type": "code",
   "execution_count": 8,
   "metadata": {},
   "outputs": [
    {
     "data": {
      "text/plain": [
       "1"
      ]
     },
     "execution_count": 8,
     "metadata": {},
     "output_type": "execute_result"
    }
   ],
   "source": [
    "coordinates.count(3)"
   ]
  },
  {
   "cell_type": "code",
   "execution_count": 9,
   "metadata": {},
   "outputs": [
    {
     "ename": "AttributeError",
     "evalue": "'tuple' object has no attribute 'append'",
     "output_type": "error",
     "traceback": [
      "\u001b[1;31m---------------------------------------------------------------------------\u001b[0m",
      "\u001b[1;31mAttributeError\u001b[0m                            Traceback (most recent call last)",
      "Cell \u001b[1;32mIn[9], line 1\u001b[0m\n\u001b[1;32m----> 1\u001b[0m \u001b[43mcoordinates\u001b[49m\u001b[38;5;241;43m.\u001b[39;49m\u001b[43mappend\u001b[49m(\u001b[38;5;241m1\u001b[39m)\n",
      "\u001b[1;31mAttributeError\u001b[0m: 'tuple' object has no attribute 'append'"
     ]
    }
   ],
   "source": [
    "coordinates.append(1)"
   ]
  },
  {
   "cell_type": "code",
   "execution_count": 10,
   "metadata": {},
   "outputs": [
    {
     "name": "stdout",
     "output_type": "stream",
     "text": [
      "3 7 4\n"
     ]
    }
   ],
   "source": [
    "a,b,c = coordinates\n",
    "print(a,b,c)"
   ]
  },
  {
   "cell_type": "code",
   "execution_count": 11,
   "metadata": {},
   "outputs": [
    {
     "ename": "TypeError",
     "evalue": "'tuple' object does not support item assignment",
     "output_type": "error",
     "traceback": [
      "\u001b[1;31m---------------------------------------------------------------------------\u001b[0m",
      "\u001b[1;31mTypeError\u001b[0m                                 Traceback (most recent call last)",
      "Cell \u001b[1;32mIn[11], line 1\u001b[0m\n\u001b[1;32m----> 1\u001b[0m \u001b[43mcoordinates\u001b[49m\u001b[43m[\u001b[49m\u001b[38;5;241;43m0\u001b[39;49m\u001b[43m]\u001b[49m \u001b[38;5;241m=\u001b[39m\u001b[38;5;241m5\u001b[39m\n",
      "\u001b[1;31mTypeError\u001b[0m: 'tuple' object does not support item assignment"
     ]
    }
   ],
   "source": [
    "coordinates[0] =5"
   ]
  },
  {
   "cell_type": "code",
   "execution_count": null,
   "metadata": {},
   "outputs": [],
   "source": []
  },
  {
   "cell_type": "code",
   "execution_count": 12,
   "metadata": {},
   "outputs": [
    {
     "data": {
      "text/plain": [
       "(3, 7, 4, 5, 4)"
      ]
     },
     "execution_count": 12,
     "metadata": {},
     "output_type": "execute_result"
    }
   ],
   "source": [
    "new_coordinates = coordinates + (5,4)\n",
    "new_coordinates"
   ]
  },
  {
   "cell_type": "code",
   "execution_count": 13,
   "metadata": {},
   "outputs": [
    {
     "name": "stdout",
     "output_type": "stream",
     "text": [
      "original coordinates: (3, 7, 4)\n",
      "new coordinates: (3, 7, 4, 5, 4)\n"
     ]
    }
   ],
   "source": [
    "print(\"original coordinates:\", coordinates)\n",
    "print(\"new coordinates:\", new_coordinates)\n"
   ]
  },
  {
   "cell_type": "code",
   "execution_count": 14,
   "metadata": {},
   "outputs": [
    {
     "name": "stdout",
     "output_type": "stream",
     "text": [
      "(1, 2, 3, 4, 5, 6)\n"
     ]
    },
    {
     "data": {
      "text/plain": [
       "tuple"
      ]
     },
     "execution_count": 14,
     "metadata": {},
     "output_type": "execute_result"
    }
   ],
   "source": [
    "T1 = (1,2,3)\n",
    "T2 = (4,5,6)\n",
    "T3 = T1+T2\n",
    "print(T3)\n",
    "type(T3)\n"
   ]
  },
  {
   "cell_type": "code",
   "execution_count": 15,
   "metadata": {},
   "outputs": [
    {
     "data": {
      "text/plain": [
       "2"
      ]
     },
     "execution_count": 15,
     "metadata": {},
     "output_type": "execute_result"
    }
   ],
   "source": [
    "#accesssing\n",
    "T3[1]"
   ]
  },
  {
   "cell_type": "code",
   "execution_count": 16,
   "metadata": {},
   "outputs": [
    {
     "data": {
      "text/plain": [
       "(1, 2)"
      ]
     },
     "execution_count": 16,
     "metadata": {},
     "output_type": "execute_result"
    }
   ],
   "source": [
    "T3[:2]"
   ]
  },
  {
   "cell_type": "code",
   "execution_count": 17,
   "metadata": {},
   "outputs": [
    {
     "data": {
      "text/plain": [
       "(2, 3, 4, 5, 6)"
      ]
     },
     "execution_count": 17,
     "metadata": {},
     "output_type": "execute_result"
    }
   ],
   "source": [
    "T3[1:]"
   ]
  },
  {
   "cell_type": "code",
   "execution_count": 18,
   "metadata": {},
   "outputs": [
    {
     "data": {
      "text/plain": [
       "6"
      ]
     },
     "execution_count": 18,
     "metadata": {},
     "output_type": "execute_result"
    }
   ],
   "source": [
    "T3[-1]"
   ]
  },
  {
   "cell_type": "markdown",
   "metadata": {},
   "source": [
    "# operations"
   ]
  },
  {
   "cell_type": "code",
   "execution_count": 20,
   "metadata": {},
   "outputs": [
    {
     "data": {
      "text/plain": [
       "(1, 2, 3, [5, 6, 5])"
      ]
     },
     "execution_count": 20,
     "metadata": {},
     "output_type": "execute_result"
    }
   ],
   "source": [
    "T4 =(1,2,3,[5,6])\n",
    "T4[3].append(5)\n",
    "T4"
   ]
  },
  {
   "cell_type": "code",
   "execution_count": 23,
   "metadata": {},
   "outputs": [
    {
     "data": {
      "text/plain": [
       "([1, 2, 3], [4, 5, 6])"
      ]
     },
     "execution_count": 23,
     "metadata": {},
     "output_type": "execute_result"
    }
   ],
   "source": [
    "l1=[1,2,3]\n",
    "l2=[4,5,6]\n",
    "z= (l1,l2)\n",
    "z"
   ]
  },
  {
   "cell_type": "code",
   "execution_count": 24,
   "metadata": {},
   "outputs": [
    {
     "data": {
      "text/plain": [
       "tuple"
      ]
     },
     "execution_count": 24,
     "metadata": {},
     "output_type": "execute_result"
    }
   ],
   "source": [
    "a = (\"q\",1,\"c\",5,6,9,10,25,368,52)\n",
    "type(a)"
   ]
  },
  {
   "cell_type": "code",
   "execution_count": 25,
   "metadata": {},
   "outputs": [
    {
     "data": {
      "text/plain": [
       "(9, 10, 25, 368)"
      ]
     },
     "execution_count": 25,
     "metadata": {},
     "output_type": "execute_result"
    }
   ],
   "source": [
    "a[5:9]\n"
   ]
  },
  {
   "cell_type": "markdown",
   "metadata": {},
   "source": [
    "Dictionary"
   ]
  },
  {
   "cell_type": "code",
   "execution_count": 51,
   "metadata": {},
   "outputs": [
    {
     "data": {
      "text/plain": [
       "{'name': ['john', 'Bhavan'], 'age': [20, 23], 'grade': ['A', 'B']}"
      ]
     },
     "execution_count": 51,
     "metadata": {},
     "output_type": "execute_result"
    }
   ],
   "source": [
    "#creating dictonaries\n",
    "student_info = {'name':['john','Bhavan'], 'age': [20, 23], 'grade': ['A', 'B']}\n",
    "student_info"
   ]
  },
  {
   "cell_type": "code",
   "execution_count": 52,
   "metadata": {},
   "outputs": [
    {
     "name": "stdout",
     "output_type": "stream",
     "text": [
      "{'name': ['john', 'Bhavan'], 'age': [20, 23], 'grade': ['A', 'B']}\n"
     ]
    }
   ],
   "source": [
    "new_dict = student_info.copy()\n",
    "print(new_dict)"
   ]
  },
  {
   "cell_type": "code",
   "execution_count": 53,
   "metadata": {},
   "outputs": [
    {
     "data": {
      "text/plain": [
       "False"
      ]
     },
     "execution_count": 53,
     "metadata": {},
     "output_type": "execute_result"
    }
   ],
   "source": [
    "student_info  is new_dict"
   ]
  },
  {
   "cell_type": "code",
   "execution_count": 54,
   "metadata": {},
   "outputs": [],
   "source": [
    "#accessing value\n",
    "name = student_info['name']\n",
    "age = student_info['age']"
   ]
  },
  {
   "cell_type": "code",
   "execution_count": 55,
   "metadata": {},
   "outputs": [
    {
     "name": "stdout",
     "output_type": "stream",
     "text": [
      "[20, 23]\n"
     ]
    }
   ],
   "source": [
    "# get method\n",
    "age = new_dict.get('age')\n",
    "print(age)\n"
   ]
  },
  {
   "cell_type": "code",
   "execution_count": 56,
   "metadata": {},
   "outputs": [
    {
     "name": "stdout",
     "output_type": "stream",
     "text": [
      "dict_items([('name', ['john', 'Bhavan']), ('age', [20, 23]), ('grade', ['A', 'B'])])\n"
     ]
    }
   ],
   "source": [
    "# item method\n",
    "items = new_dict.items()\n",
    "print(items)"
   ]
  },
  {
   "cell_type": "code",
   "execution_count": 57,
   "metadata": {},
   "outputs": [
    {
     "name": "stdout",
     "output_type": "stream",
     "text": [
      "dict_keys(['name', 'age', 'grade'])\n"
     ]
    }
   ],
   "source": [
    "#key method\n",
    "keys = new_dict.keys()\n",
    "print(keys)"
   ]
  },
  {
   "cell_type": "code",
   "execution_count": 58,
   "metadata": {},
   "outputs": [
    {
     "name": "stdout",
     "output_type": "stream",
     "text": [
      "dict_values([['john', 'Bhavan'], [20, 23], ['A', 'B']])\n"
     ]
    }
   ],
   "source": [
    "# values method\n",
    "values = new_dict.values()\n",
    "print(values)\n"
   ]
  },
  {
   "cell_type": "code",
   "execution_count": 60,
   "metadata": {},
   "outputs": [
    {
     "name": "stdout",
     "output_type": "stream",
     "text": [
      "{'name': ['john', 'Bhavan'], 'age': [20, 23], 'grade': ['B', 'B'], 'City': ['Bangalore', 'Mumbai'], 'country': 'India'}\n",
      "{'name': ['john', 'Bhavan'], 'age': [20, 23], 'grade': ['B', 'B'], 'City': ['Bangalore', 'Mumbai'], 'country': 'India'}\n",
      "India\n",
      "{'name': ['john', 'Bhavan'], 'age': [20, 23], 'grade': ['B', 'B'], 'City': ['Bangalore', 'Mumbai'], 'country': 'India'}\n"
     ]
    }
   ],
   "source": [
    "#modifying the value\n",
    "student_info['grade'][0]= 'B'\n",
    "print(student_info)\n",
    "\n",
    "#usimg update method\n",
    "student_info.update({'City': ['Bangalore', 'Mumbai']})\n",
    "print(student_info)\n",
    "\n",
    "#using setdefault method\n",
    "country = student_info.setdefault('country', 'India')\n",
    "print(country)\n",
    "print(student_info)"
   ]
  },
  {
   "cell_type": "code",
   "execution_count": 61,
   "metadata": {},
   "outputs": [
    {
     "data": {
      "text/plain": [
       "dict_keys(['name', 'age', 'grade', 'City', 'country'])"
      ]
     },
     "execution_count": 61,
     "metadata": {},
     "output_type": "execute_result"
    }
   ],
   "source": [
    "student_info.keys()"
   ]
  },
  {
   "cell_type": "code",
   "execution_count": 62,
   "metadata": {},
   "outputs": [
    {
     "name": "stdout",
     "output_type": "stream",
     "text": [
      "{'name': ['john', 'Bhavan'], 'age': [20, 23], 'grade': ['B', 'B'], 'City': ['Bangalore', 'Mumbai']}\n"
     ]
    }
   ],
   "source": [
    "#removing key values\n",
    "del student_info['country']\n",
    "print(student_info)"
   ]
  },
  {
   "cell_type": "code",
   "execution_count": 63,
   "metadata": {},
   "outputs": [
    {
     "name": "stdout",
     "output_type": "stream",
     "text": [
      "['B', 'B']\n",
      "{'name': ['john', 'Bhavan'], 'age': [20, 23], 'City': ['Bangalore', 'Mumbai']}\n"
     ]
    }
   ],
   "source": [
    "\n",
    "#using pop method\n",
    "popi = student_info.pop('grade')\n",
    "print(popi)\n",
    "print(student_info)"
   ]
  },
  {
   "cell_type": "code",
   "execution_count": 65,
   "metadata": {},
   "outputs": [
    {
     "name": "stdout",
     "output_type": "stream",
     "text": [
      "3\n"
     ]
    }
   ],
   "source": [
    "#determining the number\n",
    "length = len(student_info)\n",
    "print(length)"
   ]
  },
  {
   "cell_type": "code",
   "execution_count": 74,
   "metadata": {},
   "outputs": [
    {
     "name": "stdout",
     "output_type": "stream",
     "text": [
      "{'India': 'virat kohli', 'pakistan': 'Babar Azam', 'Australia': 'Tim Paine', 'South Africa': 'Du Plesis'}\n"
     ]
    }
   ],
   "source": [
    "captains ={}\n",
    "captains [\"India\"] = \"virat kohli\"\n",
    "captains['pakistan'] =\"Babar Azam\"\n",
    "captains[\"Australia\"] = \"Tim Paine\"\n",
    "captains[\"South Africa\"] = \"Du Plesis\"\n",
    "\n",
    "print(captains)"
   ]
  },
  {
   "cell_type": "code",
   "execution_count": 73,
   "metadata": {},
   "outputs": [
    {
     "data": {
      "text/plain": [
       "'virat kohli'"
      ]
     },
     "execution_count": 73,
     "metadata": {},
     "output_type": "execute_result"
    }
   ],
   "source": [
    "captains[\"India\"]"
   ]
  },
  {
   "cell_type": "code",
   "execution_count": 62,
   "metadata": {},
   "outputs": [
    {
     "data": {
      "text/plain": [
       "'virat kohli'"
      ]
     },
     "execution_count": 62,
     "metadata": {},
     "output_type": "execute_result"
    }
   ],
   "source": [
    "captains.get(\"India\")"
   ]
  },
  {
   "cell_type": "code",
   "execution_count": 63,
   "metadata": {},
   "outputs": [
    {
     "name": "stdout",
     "output_type": "stream",
     "text": [
      "virat kohli\n"
     ]
    }
   ],
   "source": [
    "print(captains.pop(\"India\"))"
   ]
  },
  {
   "cell_type": "code",
   "execution_count": 38,
   "metadata": {},
   "outputs": [
    {
     "data": {
      "text/plain": [
       "{'pakistan': 'Babar Azam',\n",
       " 'Australia': 'Tim Paine',\n",
       " 'South Africa': 'Du Plesis'}"
      ]
     },
     "execution_count": 38,
     "metadata": {},
     "output_type": "execute_result"
    }
   ],
   "source": [
    "captains"
   ]
  },
  {
   "cell_type": "code",
   "execution_count": 39,
   "metadata": {},
   "outputs": [
    {
     "data": {
      "text/plain": [
       "{'pakistan': 'Babar Azam',\n",
       " 'Australia': 'Tim Paine',\n",
       " 'South Africa': 'Du Plesis',\n",
       " 'India': 'Rohith Sharma'}"
      ]
     },
     "execution_count": 39,
     "metadata": {},
     "output_type": "execute_result"
    }
   ],
   "source": [
    "#let change the captain od india\n",
    "captains[\"India\"] = 'Rohith Sharma'\n",
    "captains"
   ]
  },
  {
   "cell_type": "code",
   "execution_count": 40,
   "metadata": {},
   "outputs": [
    {
     "data": {
      "text/plain": [
       "{'pakistan': 'Babar Azam',\n",
       " 'Australia': 'Tim Paine',\n",
       " 'South Africa': 'Du Plesis',\n",
       " 'India': 'Rohith Sharma',\n",
       " 'England': 'Ben Stokes'}"
      ]
     },
     "execution_count": 40,
     "metadata": {},
     "output_type": "execute_result"
    }
   ],
   "source": [
    "#add new keys\n",
    "captains['England'] = 'Ben Stokes'\n",
    "captains"
   ]
  },
  {
   "cell_type": "code",
   "execution_count": 41,
   "metadata": {},
   "outputs": [
    {
     "name": "stdout",
     "output_type": "stream",
     "text": [
      "{'pakistan': 'Babar Azam', 'Australia': 'Tim Paine', 'South Africa': 'Du Plesis', 'India': 'Rohith Sharma', 'England': {'T20': 'Ben Stokes', 'ODI': 'Eoin Morgan', 'Test': 'Joe Root'}}\n"
     ]
    },
    {
     "data": {
      "text/plain": [
       "'Eoin Morgan'"
      ]
     },
     "execution_count": 41,
     "metadata": {},
     "output_type": "execute_result"
    }
   ],
   "source": [
    "#nested dictionary\n",
    "captains['England'] = {'T20': 'Ben Stokes','ODI': 'Eoin Morgan', 'Test':'Joe Root'}\n",
    "print(captains)\n",
    "captains['England']['ODI']"
   ]
  },
  {
   "cell_type": "code",
   "execution_count": 42,
   "metadata": {},
   "outputs": [
    {
     "data": {
      "text/plain": [
       "'Eoin Morgan'"
      ]
     },
     "execution_count": 42,
     "metadata": {},
     "output_type": "execute_result"
    }
   ],
   "source": [
    "captains['England']['ODI']"
   ]
  },
  {
   "cell_type": "code",
   "execution_count": 43,
   "metadata": {},
   "outputs": [
    {
     "name": "stdout",
     "output_type": "stream",
     "text": [
      "{'pakistan': 'Babar Azam', 'Australia': 'Tim Paine', 'South Africa': 'Du Plesis', 'India': 'Rohith Sharma', 'England': {'T20': 'Ben Stokes', 'ODI': 'Eoin Morgan', 'Test': 'Joe Root'}}\n"
     ]
    }
   ],
   "source": [
    "c = captains.copy()\n",
    "print(c)"
   ]
  },
  {
   "cell_type": "code",
   "execution_count": 44,
   "metadata": {},
   "outputs": [
    {
     "name": "stdout",
     "output_type": "stream",
     "text": [
      "dict_items([('pakistan', 'Babar Azam'), ('Australia', 'Tim Paine'), ('South Africa', 'Du Plesis'), ('India', 'Rohith Sharma'), ('England', {'T20': 'Ben Stokes', 'ODI': 'Eoin Morgan', 'Test': 'Joe Root'})])\n"
     ]
    }
   ],
   "source": [
    "items = captains.items()\n",
    "print(items)\n"
   ]
  },
  {
   "cell_type": "code",
   "execution_count": 45,
   "metadata": {},
   "outputs": [
    {
     "name": "stdout",
     "output_type": "stream",
     "text": [
      "dict_values(['Babar Azam', 'Tim Paine', 'Du Plesis', 'Rohith Sharma', {'T20': 'Ben Stokes', 'ODI': 'Eoin Morgan', 'Test': 'Joe Root'}])\n"
     ]
    }
   ],
   "source": [
    "values = captains.values()\n",
    "print(values)"
   ]
  },
  {
   "cell_type": "code",
   "execution_count": 46,
   "metadata": {},
   "outputs": [
    {
     "name": "stdout",
     "output_type": "stream",
     "text": [
      "dict_keys(['pakistan', 'Australia', 'South Africa', 'India', 'England'])\n"
     ]
    }
   ],
   "source": [
    "keys = captains.keys()\n",
    "print(keys)"
   ]
  },
  {
   "cell_type": "code",
   "execution_count": 47,
   "metadata": {},
   "outputs": [
    {
     "name": "stdout",
     "output_type": "stream",
     "text": [
      "5\n"
     ]
    }
   ],
   "source": [
    "length = len('India')\n",
    "print(length)"
   ]
  },
  {
   "cell_type": "code",
   "execution_count": 48,
   "metadata": {},
   "outputs": [
    {
     "name": "stdout",
     "output_type": "stream",
     "text": [
      "{'pakistan': 'Babar Azam', 'Australia': 'Tim Paine', 'South Africa': 'Du Plesis', 'India': 'Rohith Sharma', 'England': {'T20': 'Ben Stokes', 'ODI': 'Eoin Morgan', 'Test': 'Joe Root'}, 'Itlay': ['ketone']}\n"
     ]
    }
   ],
   "source": [
    "captains.update({'Itlay':['ketone']})\n",
    "print(captains)"
   ]
  },
  {
   "cell_type": "code",
   "execution_count": 49,
   "metadata": {},
   "outputs": [
    {
     "name": "stdout",
     "output_type": "stream",
     "text": [
      "{'pakistan': 'Babar Azam', 'Australia': 'Tim Paine', 'South Africa': 'Du Plesis', 'India': 'Rohith Sharma', 'England': {'T20': 'Ben Stokes', 'ODI': 'Eoin Morgan', 'Test': 'Joe Root'}, 'Itlay': ['ketone'], 'Rohith Sharma': None}\n"
     ]
    }
   ],
   "source": [
    "captains.setdefault('Rohith Sharma')\n",
    "print(captains)"
   ]
  },
  {
   "cell_type": "code",
   "execution_count": 52,
   "metadata": {},
   "outputs": [
    {
     "name": "stdout",
     "output_type": "stream",
     "text": [
      "{'Australia': 'Tim Paine', 'South Africa': 'Du Plesis', 'India': 'Rohith Sharma', 'England': {'T20': 'Ben Stokes', 'ODI': 'Eoin Morgan', 'Test': 'Joe Root'}, 'Itlay': ['ketone'], 'Rohith Sharma': None}\n"
     ]
    }
   ],
   "source": [
    "del captains['pakistan']\n",
    "print(captains)"
   ]
  },
  {
   "cell_type": "markdown",
   "metadata": {},
   "source": [
    "4.sets\n",
    "collection of unordered items/elements."
   ]
  },
  {
   "cell_type": "code",
   "execution_count": 9,
   "metadata": {},
   "outputs": [],
   "source": [
    "unique_numbers = {1,2,3,4,5,1,2}"
   ]
  },
  {
   "cell_type": "code",
   "execution_count": 10,
   "metadata": {},
   "outputs": [
    {
     "name": "stdout",
     "output_type": "stream",
     "text": [
      "{1, 2, 3, 4, 5, 6}\n"
     ]
    }
   ],
   "source": [
    "unique_numbers.add(6)\n",
    "print(unique_numbers)"
   ]
  },
  {
   "cell_type": "code",
   "execution_count": 11,
   "metadata": {},
   "outputs": [
    {
     "name": "stdout",
     "output_type": "stream",
     "text": [
      "{1, 2, 4, 5, 6}\n"
     ]
    }
   ],
   "source": [
    "unique_numbers.remove(3)\n",
    "print(unique_numbers)"
   ]
  },
  {
   "cell_type": "code",
   "execution_count": 86,
   "metadata": {},
   "outputs": [
    {
     "name": "stdout",
     "output_type": "stream",
     "text": [
      "5\n"
     ]
    }
   ],
   "source": [
    "length = len(unique_numbers)\n",
    "print(length)"
   ]
  },
  {
   "cell_type": "code",
   "execution_count": 12,
   "metadata": {},
   "outputs": [
    {
     "name": "stdout",
     "output_type": "stream",
     "text": [
      "18\n",
      "6\n",
      "1\n",
      "[1, 2, 4, 5, 6]\n",
      "5\n",
      "[6, 5, 4, 2, 1]\n"
     ]
    }
   ],
   "source": [
    "print(sum(unique_numbers))\n",
    "print(max(unique_numbers))\n",
    "print(min(unique_numbers))\n",
    "print(sorted(unique_numbers))\n",
    "print(len(unique_numbers))\n",
    "print(sorted(unique_numbers, reverse=True))\n"
   ]
  },
  {
   "cell_type": "code",
   "execution_count": 87,
   "metadata": {},
   "outputs": [
    {
     "name": "stdout",
     "output_type": "stream",
     "text": [
      "union: {1, 2, 3, 4, 5}\n",
      "intersection: {3}\n",
      "difference: {1, 2}\n"
     ]
    }
   ],
   "source": [
    "#set operations\n",
    "set1 ={1,2,3}\n",
    "set2 ={3,4,5}\n",
    "\n",
    "union_set = set1.union(set2)\n",
    "intersection_set = set1.intersection(set2)\n",
    "difference_set =set1.difference(set2)\n",
    "print(\"union:\", union_set)\n",
    "print(\"intersection:\", intersection_set)\n",
    "print(\"difference:\", difference_set)\n"
   ]
  },
  {
   "cell_type": "code",
   "execution_count": 88,
   "metadata": {},
   "outputs": [
    {
     "data": {
      "text/plain": [
       "{'fun', 'is', 'powerful,', 'python', 'versatile,'}"
      ]
     },
     "execution_count": 88,
     "metadata": {},
     "output_type": "execute_result"
    }
   ],
   "source": [
    "text = \"python is powerful, python is versatile, python is fun\"\n",
    "unique_words = set(text.split(' '))\n",
    "unique_words"
   ]
  },
  {
   "cell_type": "code",
   "execution_count": 89,
   "metadata": {},
   "outputs": [
    {
     "data": {
      "text/plain": [
       "{3, 4, 5, 6}"
      ]
     },
     "execution_count": 89,
     "metadata": {},
     "output_type": "execute_result"
    }
   ],
   "source": [
    "set1 = {4,3,5,5,6}\n",
    "set1"
   ]
  },
  {
   "cell_type": "markdown",
   "metadata": {},
   "source": [
    "non- primitive data types conversion"
   ]
  },
  {
   "cell_type": "code",
   "execution_count": 90,
   "metadata": {},
   "outputs": [
    {
     "name": "stdout",
     "output_type": "stream",
     "text": [
      "(1, 2, 3, 4, 5)\n"
     ]
    },
    {
     "data": {
      "text/plain": [
       "tuple"
      ]
     },
     "execution_count": 90,
     "metadata": {},
     "output_type": "execute_result"
    }
   ],
   "source": [
    "#list to tuple\n",
    "my_list =[1,2,3,4,5]\n",
    "my_tuple = tuple(my_list)\n",
    "print(my_tuple)\n",
    "type(my_tuple)"
   ]
  },
  {
   "cell_type": "code",
   "execution_count": 91,
   "metadata": {},
   "outputs": [
    {
     "name": "stdout",
     "output_type": "stream",
     "text": [
      "[1, 2, 3, 4, 5]\n"
     ]
    }
   ],
   "source": [
    "#set to list\n",
    "my_set = {1,2,3,4,5}\n",
    "my_list = list(my_set)\n",
    "print(my_list)"
   ]
  },
  {
   "cell_type": "code",
   "execution_count": 92,
   "metadata": {},
   "outputs": [
    {
     "name": "stdout",
     "output_type": "stream",
     "text": [
      "[1, 2, 3, 4, 5]\n"
     ]
    },
    {
     "data": {
      "text/plain": [
       "list"
      ]
     },
     "execution_count": 92,
     "metadata": {},
     "output_type": "execute_result"
    }
   ],
   "source": [
    "#from tuple to list\n",
    "my_tuple= (1,2,3,4,5)\n",
    "my_list=list(my_tuple)\n",
    "print(my_list)\n",
    "type(my_list)"
   ]
  },
  {
   "cell_type": "code",
   "execution_count": 93,
   "metadata": {},
   "outputs": [
    {
     "name": "stdout",
     "output_type": "stream",
     "text": [
      "{1, 2, 3, 4, 5}\n"
     ]
    }
   ],
   "source": [
    "#list t0 set\n",
    "my_list = (1,2,2,3,4,4,5)\n",
    "my_set = set(my_list)\n",
    "print(my_set)\n"
   ]
  },
  {
   "cell_type": "code",
   "execution_count": 94,
   "metadata": {},
   "outputs": [
    {
     "name": "stdout",
     "output_type": "stream",
     "text": [
      "(1, 2, 3, 4, 5)\n"
     ]
    }
   ],
   "source": [
    "my_set = {1,2,3,4,5}\n",
    "my_list = tuple(my_set)\n",
    "print(my_list)"
   ]
  },
  {
   "cell_type": "code",
   "execution_count": 95,
   "metadata": {},
   "outputs": [
    {
     "name": "stdout",
     "output_type": "stream",
     "text": [
      "{'apple': 5, 'banana': 2, 'orange': 3}\n"
     ]
    }
   ],
   "source": [
    "#tuple to dictonary\n",
    "my_tuple = ((\"apple\",5),(\"banana\",2),(\"orange\",3))\n",
    "my_dict =dict(my_tuple)\n",
    "print(my_dict)"
   ]
  },
  {
   "cell_type": "code",
   "execution_count": 96,
   "metadata": {},
   "outputs": [
    {
     "name": "stdout",
     "output_type": "stream",
     "text": [
      "{'apple': 5, 'banana': 2, 'orange': 3}\n"
     ]
    }
   ],
   "source": [
    "#list to dictonary\n",
    "my_list_of_tuples = [(\"apple\",5),(\"banana\",2),(\"orange\",3)]\n",
    "my_dict =dict(my_list_of_tuples)\n",
    "print(my_dict)"
   ]
  },
  {
   "cell_type": "code",
   "execution_count": 97,
   "metadata": {},
   "outputs": [
    {
     "name": "stdout",
     "output_type": "stream",
     "text": [
      "[('apple', 5), ('banana', 2), ('orange', 3)]\n"
     ]
    }
   ],
   "source": [
    "#dictonary to list of tuple\n",
    "my_dict = {\"apple\":5,\"banana\":2,\"orange\":3}\n",
    "my_list_of_tuples = list(my_dict.items())\n",
    "print(my_list_of_tuples)"
   ]
  },
  {
   "cell_type": "code",
   "execution_count": 99,
   "metadata": {},
   "outputs": [
    {
     "data": {
      "text/plain": [
       "{1: 2, 2: 6}"
      ]
     },
     "execution_count": 99,
     "metadata": {},
     "output_type": "execute_result"
    }
   ],
   "source": [
    "v = [[1,2],[2,6]]\n",
    "z = dict(v)\n",
    "z"
   ]
  },
  {
   "cell_type": "code",
   "execution_count": null,
   "metadata": {},
   "outputs": [],
   "source": []
  },
  {
   "cell_type": "code",
   "execution_count": 4,
   "metadata": {},
   "outputs": [
    {
     "name": "stdout",
     "output_type": "stream",
     "text": [
      "61.12\n",
      "11\n",
      "9\n",
      "2\n",
      "[2, 3, 4, 5, 5, 5, 5.12, 7, 7, 9, 9]\n",
      "5.556363636363637\n",
      "5\n",
      "5\n",
      "2.24965451893073\n"
     ]
    }
   ],
   "source": [
    "No =[5,9,4,7,5,9,5,7,2,3,5.12]\n",
    "\n",
    "from statistics import mean, median, mode, stdev\n",
    "\n",
    "print(sum(No))\n",
    "print(len(No))\n",
    "print(max(No))\n",
    "print(min(No))\n",
    "print(sorted(No))\n",
    "print(mean(No))\n",
    "print(median(No))\n",
    "print(mode(No))\n",
    "print(stdev(No))"
   ]
  },
  {
   "cell_type": "code",
   "execution_count": 2,
   "metadata": {},
   "outputs": [
    {
     "name": "stdout",
     "output_type": "stream",
     "text": [
      "(1, 2, 3, 4, 5, 6)\n"
     ]
    },
    {
     "data": {
      "text/plain": [
       "tuple"
      ]
     },
     "execution_count": 2,
     "metadata": {},
     "output_type": "execute_result"
    }
   ],
   "source": [
    "T1 = (1,2,3)\n",
    "T2 = (4,5,6)\n",
    "T3 = T1 + T2\n",
    "print (T3)\n",
    "type(T3)\n"
   ]
  },
  {
   "cell_type": "code",
   "execution_count": 3,
   "metadata": {},
   "outputs": [
    {
     "name": "stdout",
     "output_type": "stream",
     "text": [
      "21\n",
      "21\n",
      "6\n",
      "1\n",
      "[1, 2, 3, 4, 5, 6]\n",
      "3.5\n",
      "3.5\n",
      "1\n",
      "1.8708286933869707\n"
     ]
    }
   ],
   "source": [
    "print(sum(T3))\n",
    "print(sum(T3))\n",
    "print(max(T3))\n",
    "print(min(T3))\n",
    "print(sorted(T3))\n",
    "print(mean(T3))\n",
    "print(median(T3))\n",
    "print(mode(T3))\n",
    "print(stdev(T3))"
   ]
  },
  {
   "cell_type": "code",
   "execution_count": 5,
   "metadata": {},
   "outputs": [
    {
     "name": "stdout",
     "output_type": "stream",
     "text": [
      "153\n",
      "9\n"
     ]
    }
   ],
   "source": [
    "dic = {'A':1, 'B':2, 'C':3,'D':4,'E':5,'F':6,'G':7,'H':8,'I':9,'J':10,'K':11,'L':12,'M':13,'N':14,'0':15,'P':16,'Q':17}\n",
    "print(sum(dic.values()))\n",
    "print(mean(dic.values()))\n"
   ]
  },
  {
   "cell_type": "code",
   "execution_count": 13,
   "metadata": {},
   "outputs": [
    {
     "name": "stdout",
     "output_type": "stream",
     "text": [
      "4\n"
     ]
    }
   ],
   "source": [
    "my_dict = {\"apple\": 2, \"banana\": 4, \"cherry\": 6}\n",
    "print(my_dict.get(\"banana\", 0))"
   ]
  },
  {
   "cell_type": "code",
   "execution_count": 15,
   "metadata": {},
   "outputs": [
    {
     "name": "stdout",
     "output_type": "stream",
     "text": [
      "3\n"
     ]
    }
   ],
   "source": [
    "my_dict = {\"apple\": 2, \"banana\": 4, \"cherry\": 6}\n",
    "print(len(my_dict))"
   ]
  },
  {
   "cell_type": "code",
   "execution_count": 14,
   "metadata": {},
   "outputs": [
    {
     "name": "stdout",
     "output_type": "stream",
     "text": [
      "{'apple': 2, 'cherry': 6}\n"
     ]
    }
   ],
   "source": [
    "my_dict = {\"apple\": 2, \"banana\": 4, \"cherry\": 6}\n",
    "del my_dict[\"banana\"]\n",
    "print(my_dict)"
   ]
  },
  {
   "cell_type": "code",
   "execution_count": 1,
   "metadata": {},
   "outputs": [
    {
     "name": "stdout",
     "output_type": "stream",
     "text": [
      "{'apple': 5, 'banana': 6, 'cherry': 6}\n"
     ]
    }
   ],
   "source": [
    "9. #Convert a List of Strings to a Dictionary\n",
    "string_list = [\"apple\", \"banana\", \"cherry\"]\n",
    "string_dict = {s: len(s) for s in string_list}\n",
    "print(string_dict) \n"
   ]
  },
  {
   "cell_type": "code",
   "execution_count": 2,
   "metadata": {},
   "outputs": [
    {
     "name": "stdout",
     "output_type": "stream",
     "text": [
      "[1, 2, 3, 4, 5]\n"
     ]
    }
   ],
   "source": [
    "#10. Remove Duplicates from a List of Integers\n",
    "int_list = [4, 5, 2, 4, 3, 2, 1]\n",
    "unique_sorted_list = sorted(list(set(int_list)))\n",
    "print(unique_sorted_list) \n"
   ]
  },
  {
   "cell_type": "code",
   "execution_count": 61,
   "metadata": {},
   "outputs": [
    {
     "name": "stdout",
     "output_type": "stream",
     "text": [
      "[1, 2, 2, 3, 4, 4, 5]\n"
     ]
    }
   ],
   "source": [
    "int_list = [4, 5, 2, 4, 3, 2, 1]\n",
    "unique_sorted_list = sorted(int_list)\n",
    "print(unique_sorted_list) "
   ]
  },
  {
   "cell_type": "code",
   "execution_count": 3,
   "metadata": {},
   "outputs": [
    {
     "name": "stdout",
     "output_type": "stream",
     "text": [
      "{'sound': '10', 'sumar': '45', 'kirthika': '0', 'daniel': '56', 'suresh ': '45'}\n"
     ]
    }
   ],
   "source": [
    "#11. Populate a Dictionary with User Input\n",
    "user_dict = {}\n",
    "for _ in range (5):\n",
    "    key = input (\"Enter key: \")\n",
    "    value = input (\"Enter value: \")\n",
    "    user_dict[key] = value\n",
    "print(user_dict)\n"
   ]
  },
  {
   "cell_type": "code",
   "execution_count": 4,
   "metadata": {},
   "outputs": [
    {
     "name": "stdout",
     "output_type": "stream",
     "text": [
      "{'Alice': 30, 'Bob': 25, 'Charlie': 35}\n"
     ]
    }
   ],
   "source": [
    "#12. Convert a List of Tuples to a Dictionary\n",
    "name_age_list = [(\"Alice\", 30), (\"Bob\", 25), (\"Charlie\", 35)]\n",
    "name_age_dict = dict(name_age_list)\n",
    "print(name_age_dict) \n"
   ]
  },
  {
   "cell_type": "code",
   "execution_count": 7,
   "metadata": {},
   "outputs": [
    {
     "name": "stdout",
     "output_type": "stream",
     "text": [
      "{'a': 1, 'b': 3, 'c': 4}\n"
     ]
    }
   ],
   "source": [
    "##13. Merge Two Dictionaries\n",
    "dict1 = {'a': 1, 'b': 2}\n",
    "dict2 = {'b': 3, 'c': 4}\n",
    "merged_dict = {**dict1, **dict2}\n",
    "print(merged_dict) \n"
   ]
  },
  {
   "cell_type": "code",
   "execution_count": null,
   "metadata": {},
   "outputs": [],
   "source": [
    "#14. Convert a List to a Tuple and Vice Versa\n",
    "my_list = [1, 2, 3]\n",
    "my_tuple = tuple(my_list)\n",
    "print(my_tuple) # Output: (1, 2, 3)\n",
    "my_list_again = list(my_tuple)\n",
    "print(my_list_again) # Output: [1, 2, 3]\n"
   ]
  },
  {
   "cell_type": "code",
   "execution_count": 6,
   "metadata": {},
   "outputs": [
    {
     "name": "stdout",
     "output_type": "stream",
     "text": [
      "[2, 3, 4]\n",
      "Hello\n"
     ]
    }
   ],
   "source": [
    "#15. Slicing in Python\n",
    "#\tList Slicing:\n",
    "my_list = [1, 2, 3, 4, 5]\n",
    "print (my_list [1:4]) \n",
    "#\tString Slicing:\n",
    "my_str = \"Hello World\"\n",
    "print (my_str [0:5]) \n"
   ]
  },
  {
   "cell_type": "code",
   "execution_count": 5,
   "metadata": {},
   "outputs": [],
   "source": [
    "#16. Examples of List, Tuple, Dictionary, and Set\n",
    "\t#List:\n",
    "my_list = [1, 2, 3]\n",
    "\t#Tuple:\n",
    "my_tuple = (1, 2, 3)\n",
    "\t#Dictionary:\n",
    "my_dict = {'a': 1, 'b': 2, 'c': 3}\n",
    "\t#Set:\n",
    "my_set = {1, 2, 3, 2} \n",
    "\n"
   ]
  }
 ],
 "metadata": {
  "kernelspec": {
   "display_name": "Python 3",
   "language": "python",
   "name": "python3"
  },
  "language_info": {
   "codemirror_mode": {
    "name": "ipython",
    "version": 3
   },
   "file_extension": ".py",
   "mimetype": "text/x-python",
   "name": "python",
   "nbconvert_exporter": "python",
   "pygments_lexer": "ipython3",
   "version": "3.13.0"
  }
 },
 "nbformat": 4,
 "nbformat_minor": 2
}
