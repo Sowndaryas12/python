{
 "cells": [
  {
   "cell_type": "markdown",
   "metadata": {},
   "source": [
    "functions, lambda, map and filtering"
   ]
  },
  {
   "cell_type": "code",
   "execution_count": 1,
   "metadata": {},
   "outputs": [
    {
     "data": {
      "text/plain": [
       "3"
      ]
     },
     "execution_count": 1,
     "metadata": {},
     "output_type": "execute_result"
    }
   ],
   "source": [
    "def myfunction(parameter1,parameter2):\n",
    "    result = parameter1 + parameter2\n",
    "    return result\n",
    "#calling a function:\n",
    "myfunction(1,2)"
   ]
  },
  {
   "cell_type": "code",
   "execution_count": 2,
   "metadata": {},
   "outputs": [
    {
     "data": {
      "text/plain": [
       "112"
      ]
     },
     "execution_count": 2,
     "metadata": {},
     "output_type": "execute_result"
    }
   ],
   "source": [
    "myfunction(44,68)"
   ]
  },
  {
   "cell_type": "code",
   "execution_count": 3,
   "metadata": {},
   "outputs": [
    {
     "data": {
      "text/plain": [
       "3"
      ]
     },
     "execution_count": 3,
     "metadata": {},
     "output_type": "execute_result"
    }
   ],
   "source": [
    "def add_numbers(x=1, y=2):\n",
    "    result = x+y\n",
    "    return result\n",
    "\n",
    "add_numbers()"
   ]
  },
  {
   "cell_type": "code",
   "execution_count": 4,
   "metadata": {},
   "outputs": [
    {
     "data": {
      "text/plain": [
       "100"
      ]
     },
     "execution_count": 4,
     "metadata": {},
     "output_type": "execute_result"
    }
   ],
   "source": [
    "add_numbers(75,25)"
   ]
  },
  {
   "cell_type": "code",
   "execution_count": 5,
   "metadata": {},
   "outputs": [
    {
     "name": "stdout",
     "output_type": "stream",
     "text": [
      "110\n"
     ]
    }
   ],
   "source": [
    "def add():\n",
    "    x=int(input(\"enter the number\"))\n",
    "    y=int(input(\"enter the second number\"))\n",
    "    z=x+y\n",
    "    print(z)\n",
    "add()    \n",
    "    "
   ]
  },
  {
   "cell_type": "code",
   "execution_count": 6,
   "metadata": {},
   "outputs": [
    {
     "name": "stdout",
     "output_type": "stream",
     "text": [
      "2 4 6 8 10 "
     ]
    }
   ],
   "source": [
    "numbers = [1,2,3,4,5,6,7,8,9,10]\n",
    "for num in numbers:\n",
    "    if num %2==0:\n",
    "        print(num, end =\" \")"
   ]
  },
  {
   "cell_type": "code",
   "execution_count": 11,
   "metadata": {},
   "outputs": [],
   "source": [
    "def div(numbers):\n",
    "    for num in numbers:\n",
    "        if num% 2==0:\n",
    "            print(f\"{num}is divisible by 2\")"
   ]
  },
  {
   "cell_type": "code",
   "execution_count": 12,
   "metadata": {},
   "outputs": [
    {
     "name": "stdout",
     "output_type": "stream",
     "text": [
      "2is divisible by 2\n",
      "4is divisible by 2\n",
      "6is divisible by 2\n",
      "8is divisible by 2\n",
      "10is divisible by 2\n"
     ]
    }
   ],
   "source": [
    "a = [1,2,3,4,5,6,7,8,9,10]\n",
    "div(a)"
   ]
  },
  {
   "cell_type": "code",
   "execution_count": 28,
   "metadata": {},
   "outputs": [],
   "source": [
    "def div(numbers):\n",
    "    divisible_by_2 =[]\n",
    "    for num in numbers:\n",
    "        if num% 2==0:\n",
    "            divisible_by_2.append(num)\n",
    "    return divisible_by_2        "
   ]
  },
  {
   "cell_type": "code",
   "execution_count": 18,
   "metadata": {},
   "outputs": [
    {
     "data": {
      "text/plain": [
       "[2, 4, 6, 8, 10]"
      ]
     },
     "execution_count": 18,
     "metadata": {},
     "output_type": "execute_result"
    }
   ],
   "source": [
    "a = [1,2,3,4,5,6,7,8,9,10]\n",
    "div(a)"
   ]
  },
  {
   "cell_type": "code",
   "execution_count": 19,
   "metadata": {},
   "outputs": [
    {
     "data": {
      "text/plain": [
       "[2, 4, 6, 8, 10]"
      ]
     },
     "execution_count": 19,
     "metadata": {},
     "output_type": "execute_result"
    }
   ],
   "source": [
    "def divis(numbers):\n",
    "    return[num for num in numbers if num%2==0]\n",
    "no = [1,2,3,4,5,6,7,8,9,10]\n",
    "div(no)"
   ]
  },
  {
   "cell_type": "code",
   "execution_count": 21,
   "metadata": {},
   "outputs": [
    {
     "name": "stdout",
     "output_type": "stream",
     "text": [
      "The addition is 13\n"
     ]
    }
   ],
   "source": [
    "x=int(input(\"enter the number\"))\n",
    "y=int(input(\"enter the second number\"))\n",
    "def add1(x,y):\n",
    "    z = x+y\n",
    "    print(\"The addition is\", z)\n",
    "add1(x,y)    "
   ]
  },
  {
   "cell_type": "code",
   "execution_count": 22,
   "metadata": {},
   "outputs": [
    {
     "name": "stdout",
     "output_type": "stream",
     "text": [
      "Hello ('Rashmi', 'sowndarya', 'bavan')\n"
     ]
    }
   ],
   "source": [
    "def greet(p):\n",
    "    return print('Hello', str(p))\n",
    "a= 'Rashmi'\n",
    "b= 'sowndarya'\n",
    "c= 'bavan'\n",
    "\n",
    "greet((a,b,c))"
   ]
  },
  {
   "cell_type": "code",
   "execution_count": 23,
   "metadata": {},
   "outputs": [
    {
     "data": {
      "text/plain": [
       "(100, 1000)"
      ]
     },
     "execution_count": 23,
     "metadata": {},
     "output_type": "execute_result"
    }
   ],
   "source": [
    "def sqcb(a):\n",
    "    '''\n",
    "    This function returns the square and cube of a given number\n",
    "    '''\n",
    "    return a**2, a**3\n",
    "\n",
    "sqcb(10)"
   ]
  },
  {
   "cell_type": "code",
   "execution_count": 24,
   "metadata": {},
   "outputs": [
    {
     "name": "stdout",
     "output_type": "stream",
     "text": [
      "which number is the biggest modulo 5?\n",
      "14\n"
     ]
    }
   ],
   "source": [
    "def mod_5(x):\n",
    "    \"\"\" return the remainder of x after dividing by 5\"\"\"\n",
    "    return x%5\n",
    "\n",
    "print(\n",
    "    'which number is the biggest modulo 5?',\n",
    "    max(00,51,14,key =mod_5),\n",
    "    sep='\\n',\n",
    ")"
   ]
  },
  {
   "cell_type": "markdown",
   "metadata": {},
   "source": [
    "lambda expression (lambda):"
   ]
  },
  {
   "cell_type": "code",
   "execution_count": 25,
   "metadata": {},
   "outputs": [
    {
     "data": {
      "text/plain": [
       "8"
      ]
     },
     "execution_count": 25,
     "metadata": {},
     "output_type": "execute_result"
    }
   ],
   "source": [
    "add = lambda x,y: x+y\n",
    "result = add(3,5)\n",
    "result"
   ]
  },
  {
   "cell_type": "code",
   "execution_count": 26,
   "metadata": {},
   "outputs": [
    {
     "data": {
      "text/plain": [
       "True"
      ]
     },
     "execution_count": 26,
     "metadata": {},
     "output_type": "execute_result"
    }
   ],
   "source": [
    "enen = lambda x:x%2==0\n",
    "enen (2)"
   ]
  },
  {
   "cell_type": "code",
   "execution_count": 27,
   "metadata": {},
   "outputs": [
    {
     "name": "stdout",
     "output_type": "stream",
     "text": [
      "[2, 4, 6, 8, 10]\n"
     ]
    }
   ],
   "source": [
    "enen = lambda x : [i for i in x if i%2==0]\n",
    "print (enen([1,2,3,4,5,6,7,8,9,10]))"
   ]
  },
  {
   "cell_type": "code",
   "execution_count": 28,
   "metadata": {},
   "outputs": [
    {
     "name": "stdout",
     "output_type": "stream",
     "text": [
      "343\n",
      "343\n"
     ]
    }
   ],
   "source": [
    "def cube(x): return x**3\n",
    "\n",
    "cube_v2 = lambda x :x**3\n",
    "\n",
    "print(cube(7))\n",
    "print(cube_v2(7))"
   ]
  },
  {
   "cell_type": "markdown",
   "metadata": {},
   "source": [
    "mapping function"
   ]
  },
  {
   "cell_type": "code",
   "execution_count": 29,
   "metadata": {},
   "outputs": [
    {
     "data": {
      "text/plain": [
       "121"
      ]
     },
     "execution_count": 29,
     "metadata": {},
     "output_type": "execute_result"
    }
   ],
   "source": [
    "def squareit(num):\n",
    "     \"\"\" This functions returns square of a given number\"\"\"\n",
    "     return num**2\n",
    " \n",
    "squareit(11) \n"
   ]
  },
  {
   "cell_type": "code",
   "execution_count": 30,
   "metadata": {},
   "outputs": [
    {
     "name": "stdout",
     "output_type": "stream",
     "text": [
      "[1, 4, 9, 16, 25, 36]\n"
     ]
    }
   ],
   "source": [
    "list1 =[1,2,3,4,5,6]\n",
    "squaredlist = list (map(squareit, list1))\n",
    "print(squaredlist)"
   ]
  },
  {
   "cell_type": "code",
   "execution_count": 31,
   "metadata": {},
   "outputs": [
    {
     "name": "stdout",
     "output_type": "stream",
     "text": [
      "[3, 6, 9, 12, 15, 18, 21, 24, 27, 30]\n"
     ]
    }
   ],
   "source": [
    "list2 =[1,2,3,4,5,6,7,8,9,10]\n",
    "list1 = list(map(lambda x: x*3, list2))\n",
    "print(list1)"
   ]
  },
  {
   "cell_type": "code",
   "execution_count": 39,
   "metadata": {},
   "outputs": [
    {
     "name": "stdout",
     "output_type": "stream",
     "text": [
      "['', 2, '', 4, '', 6, '', 8, '', 10]\n"
     ]
    }
   ],
   "source": [
    "list2 =[1,2,3,4,5,6,7,8,9,10]\n",
    "list1 = list(map(lambda x:x if x%2==0 else'', list2))\n",
    "print(list1)"
   ]
  },
  {
   "cell_type": "code",
   "execution_count": 41,
   "metadata": {},
   "outputs": [
    {
     "name": "stdout",
     "output_type": "stream",
     "text": [
      "['', 2, '', 4, '', 6, '', 8, '', 10]\n"
     ]
    }
   ],
   "source": [
    "def even(x):\n",
    "    if x%2 ==0:\n",
    "        return x\n",
    "    else:\n",
    "        return''\n",
    "list1 = list(map(even, list2))\n",
    "print(list1)"
   ]
  },
  {
   "cell_type": "code",
   "execution_count": 32,
   "metadata": {},
   "outputs": [
    {
     "name": "stdout",
     "output_type": "stream",
     "text": [
      "6 12 "
     ]
    }
   ],
   "source": [
    "list2 =[1,2,3,4,5]\n",
    "list1 =map(lambda x: x*3, list2)\n",
    "for num in list1:\n",
    "    if num%2 == 0:\n",
    "        print(num,end =\" \")"
   ]
  },
  {
   "cell_type": "markdown",
   "metadata": {},
   "source": [
    "filter()functions:"
   ]
  },
  {
   "cell_type": "code",
   "execution_count": 42,
   "metadata": {},
   "outputs": [
    {
     "name": "stdout",
     "output_type": "stream",
     "text": [
      "[2, 4, 6, 8, 10]\n"
     ]
    }
   ],
   "source": [
    "list2 =[1,2,3,4,5,6,7,8,9,10]\n",
    "list1 =list(filter(lambda x: x%2==0, list2))\n",
    "print(list1)"
   ]
  },
  {
   "cell_type": "code",
   "execution_count": 1,
   "metadata": {},
   "outputs": [],
   "source": [
    "def divisibleby_3(a):\n",
    "    \"\"\"\n",
    "    This function return a nubmer only if it is divisile by 3 \n",
    "    \"\"\"\n",
    "    if(a % 3 == 0):\n",
    "       return a"
   ]
  },
  {
   "cell_type": "code",
   "execution_count": 2,
   "metadata": {},
   "outputs": [
    {
     "name": "stdout",
     "output_type": "stream",
     "text": [
      "[-9, -6, -3, 3, 6, 9]\n"
     ]
    }
   ],
   "source": [
    "list1 = range(-10,10)\n",
    "print(list(filter(divisibleby_3,list1)))"
   ]
  },
  {
   "cell_type": "code",
   "execution_count": 3,
   "metadata": {},
   "outputs": [
    {
     "name": "stdout",
     "output_type": "stream",
     "text": [
      "[-9, -6, -3, 3, 6, 9]\n"
     ]
    }
   ],
   "source": [
    "list1 = range(-10,10)\n",
    "print(list(filter(divisibleby_3,list1)))"
   ]
  },
  {
   "cell_type": "code",
   "execution_count": 5,
   "metadata": {},
   "outputs": [
    {
     "name": "stdout",
     "output_type": "stream",
     "text": [
      "[0, 2, 4, 6, 8, 10, 12, 14, 16, 18]\n"
     ]
    }
   ],
   "source": [
    "lst = range(20)\n",
    "evenlst = list(filter(lambda x:(x%2==0), lst))\n",
    "print(evenlst)"
   ]
  },
  {
   "cell_type": "markdown",
   "metadata": {},
   "source": [
    "REDUCE FUNCTION"
   ]
  },
  {
   "cell_type": "code",
   "execution_count": 10,
   "metadata": {},
   "outputs": [
    {
     "name": "stdout",
     "output_type": "stream",
     "text": [
      "sum 15\n"
     ]
    }
   ],
   "source": [
    "from functools import reduce\n",
    "numbers=[1,2,3,4,5]\n",
    "sum_result = reduce(lambda x,y: x+y, numbers)\n",
    "print(\"sum\", sum_result)"
   ]
  },
  {
   "cell_type": "code",
   "execution_count": 11,
   "metadata": {},
   "outputs": [
    {
     "name": "stdout",
     "output_type": "stream",
     "text": [
      "concatenated string: hello world!\n"
     ]
    }
   ],
   "source": [
    "words=[\"hello\",\" \",\"world\",\"!\"]\n",
    "concatenated_string = reduce(lambda x,y: x+y, words)\n",
    "print(\"concatenated string:\", concatenated_string)"
   ]
  },
  {
   "cell_type": "code",
   "execution_count": 12,
   "metadata": {},
   "outputs": [
    {
     "name": "stdout",
     "output_type": "stream",
     "text": [
      "maximum value: 89\n"
     ]
    }
   ],
   "source": [
    "values =[45,67,12,89,34]\n",
    "max_value = reduce(lambda x,y: x if x>y else y, values)\n",
    "print(\"maximum value:\",max_value)"
   ]
  },
  {
   "cell_type": "markdown",
   "metadata": {},
   "source": [
    "doc strings"
   ]
  },
  {
   "cell_type": "code",
   "execution_count": 13,
   "metadata": {},
   "outputs": [
    {
     "name": "stdout",
     "output_type": "stream",
     "text": [
      "hello praveen\n"
     ]
    }
   ],
   "source": [
    "def greet(p):\n",
    "    \"\"\"\n",
    "    This function returns the greeting for a given name. \n",
    "    \"\"\"\n",
    "    return print('hello', str(p))\n",
    "greet('praveen')"
   ]
  },
  {
   "cell_type": "code",
   "execution_count": 14,
   "metadata": {},
   "outputs": [
    {
     "name": "stdout",
     "output_type": "stream",
     "text": [
      "\n",
      "    This function returns the greeting for a given name. \n",
      "    \n"
     ]
    }
   ],
   "source": [
    "print(greet.__doc__)"
   ]
  },
  {
   "cell_type": "code",
   "execution_count": 15,
   "metadata": {},
   "outputs": [
    {
     "name": "stdout",
     "output_type": "stream",
     "text": [
      "Return the number of items in a container.\n"
     ]
    }
   ],
   "source": [
    "from statistics import mean\n",
    "print(len.__doc__)"
   ]
  },
  {
   "cell_type": "code",
   "execution_count": 20,
   "metadata": {},
   "outputs": [
    {
     "data": {
      "text/plain": [
       "[1, 4, 9, 16]"
      ]
     },
     "execution_count": 20,
     "metadata": {},
     "output_type": "execute_result"
    }
   ],
   "source": [
    "def squarelist(a):\n",
    "    \n",
    "    \"\"\"\n",
    "    This function returns square of numbers in a list. \n",
    "    \"\"\"\n",
    "    b=[]\n",
    "    for i in a:\n",
    "        b.append(i**2)\n",
    "    return b   \n",
    " #recall \n",
    "squarelist([1,2,3,4])"
   ]
  },
  {
   "cell_type": "code",
   "execution_count": 21,
   "metadata": {},
   "outputs": [
    {
     "name": "stdout",
     "output_type": "stream",
     "text": [
      "1\n",
      "4\n",
      "9\n",
      "16\n"
     ]
    }
   ],
   "source": [
    "def squarelist(a):\n",
    "    \n",
    "    \"\"\"\n",
    "    This function returns square of numbers in a list. \n",
    "    \"\"\"\n",
    "    b=[]\n",
    "    for i in a:\n",
    "        print(i**2)\n",
    "    \n",
    " #recall \n",
    "squarelist([1,2,3,4])"
   ]
  },
  {
   "cell_type": "code",
   "execution_count": 22,
   "metadata": {},
   "outputs": [
    {
     "name": "stdout",
     "output_type": "stream",
     "text": [
      "25\n",
      "36\n",
      "49\n",
      "64\n",
      "81\n"
     ]
    }
   ],
   "source": [
    "squarelist([5,6,7,8,9])"
   ]
  },
  {
   "cell_type": "code",
   "execution_count": 23,
   "metadata": {},
   "outputs": [
    {
     "name": "stdout",
     "output_type": "stream",
     "text": [
      "\n",
      "    This function returns square of numbers in a list. \n",
      "    \n"
     ]
    }
   ],
   "source": [
    "print(squarelist.__doc__)"
   ]
  },
  {
   "cell_type": "markdown",
   "metadata": {},
   "source": [
    "few more properties of function:"
   ]
  },
  {
   "cell_type": "code",
   "execution_count": 24,
   "metadata": {},
   "outputs": [
    {
     "name": "stdout",
     "output_type": "stream",
     "text": [
      "rectangle area: 40\n"
     ]
    }
   ],
   "source": [
    "def calculate_rectangle_area(length, width):\n",
    "    area = length * width\n",
    "    return area\n",
    "\n",
    "#example usage\n",
    "rectangle_area = calculate_rectangle_area(5,8)\n",
    "print(\"rectangle area:\",rectangle_area)"
   ]
  },
  {
   "cell_type": "code",
   "execution_count": 25,
   "metadata": {},
   "outputs": [
    {
     "name": "stdout",
     "output_type": "stream",
     "text": [
      "25 celsius is 77.0fahrenheit\n"
     ]
    }
   ],
   "source": [
    "def celsius_to_fahrenheit(celsius):\n",
    "   fahrenheit = (celsius * 9/5)+ 32\n",
    "   return fahrenheit\n",
    "\n",
    "#example usage\n",
    "temperature_celsius = 25\n",
    "temperature_fahrenheit = celsius_to_fahrenheit(temperature_celsius)\n",
    "print(f\"{temperature_celsius} celsius is {temperature_fahrenheit}fahrenheit\")"
   ]
  },
  {
   "cell_type": "code",
   "execution_count": 26,
   "metadata": {},
   "outputs": [
    {
     "name": "stdout",
     "output_type": "stream",
     "text": [
      "13 is prime: True\n"
     ]
    }
   ],
   "source": [
    "def is_prime(number):\n",
    "    if number<2:\n",
    "        return False\n",
    "    for i in range(2, int(number**0.5)+1):\n",
    "        if number % i ==0:\n",
    "            return False\n",
    "    return True  \n",
    "#example usage\n",
    "check_number = 13\n",
    "print(f\"{check_number} is prime: {is_prime(check_number)}\")  "
   ]
  },
  {
   "cell_type": "code",
   "execution_count": 27,
   "metadata": {},
   "outputs": [
    {
     "name": "stdout",
     "output_type": "stream",
     "text": [
      "the square of 7 is 49\n"
     ]
    }
   ],
   "source": [
    "square = lambda x:x**2\n",
    "#example usage\n",
    "number =7\n",
    "result = square(number)\n",
    "print(f\"the square of {number} is {result}\")"
   ]
  },
  {
   "cell_type": "code",
   "execution_count": 23,
   "metadata": {},
   "outputs": [],
   "source": [
    "letter_to_number = {\n",
    "'a': 1,\n",
    "'b': 2,\n",
    "'c': 3,\n",
    "'d': 4,\n",
    "'e': 5,\n",
    "'f': 6,\n",
    "'g': 7,\n",
    "'h': 8,\n",
    "'i': 9,\n",
    "'j': 10,\n",
    "'k': 11,\n",
    "'l': 12,\n",
    "'m': 13,\n",
    "'n': 14,\n",
    "'o': 15,\n",
    "'p': 16,\n",
    "'q': 17,\n",
    "'r': 18,\n",
    "'s': 19,\n",
    "'t': 20,\n",
    "'u': 21,\n",
    "'v': 22,\n",
    "'w': 23,\n",
    "'x': 24,\n",
    "'y': 25,\n",
    "'z': 26\n",
    "}\n",
    "\n",
    "\n",
    "encoded_messages = [\n",
    "    '18-5-3-1-4',\n",
    "    '2-5-20-12-5',\n",
    "    '15-14-5-7-5-1',\n",
    "    '23-8-1-20',\n",
    "    '1-3-20-9-15-14',\n",
    "    '18-5-1-12-12-25',\n",
    "    '20-8-5',\n",
    "    '13-5-19-19-1-7-5',\n",
    "    '3-8-1-12-12-5-14-7-5',\n",
    "    '2-8-1-22-1-14',\n",
    "    '19-15-21-14-4-1-18-25-1', \n",
    "    '18-1-19-8-13-9',\n",
    "]"
   ]
  },
  {
   "cell_type": "code",
   "execution_count": 24,
   "metadata": {},
   "outputs": [],
   "source": [
    "def get_key(val):\n",
    "    for key,value in letter_to_number.items():\n",
    "        if val == value:\n",
    "            return key\n",
    "    return \"key doesn't exist\"    "
   ]
  },
  {
   "cell_type": "code",
   "execution_count": 25,
   "metadata": {},
   "outputs": [
    {
     "name": "stdout",
     "output_type": "stream",
     "text": [
      "['recad', 'betle', 'onegea', 'what', 'action', 'really', 'the', 'message', 'challenge', 'bhavan', 'soundarya', 'rashmi']\n"
     ]
    }
   ],
   "source": [
    "final =[]\n",
    "for i in encoded_messages:\n",
    "    s=''\n",
    "    for j in i.split('-'):\n",
    "        s+= str(get_key(int(j)))\n",
    "    final.append(s)\n",
    "    \n",
    "print(final)        "
   ]
  },
  {
   "cell_type": "markdown",
   "metadata": {},
   "source": [
    "decoding"
   ]
  },
  {
   "cell_type": "code",
   "execution_count": 26,
   "metadata": {},
   "outputs": [],
   "source": [
    "letter_to_number = {\n",
    "    'a': 1, 'b': 2, 'c': 3, 'd': 4, 'e': 5, 'f': 6, 'g': 7, 'h': 8, 'i': 9, 'j': 10,\n",
    "    'k': 11, 'l': 12, 'm': 13, 'n': 14, 'o': 15, 'p': 16, 'q': 17, 'r': 18, 's': 19,\n",
    "    't': 20, 'u': 21, 'v': 22, 'w': 23, 'x': 24, 'y': 25, 'z': 26\n",
    "}\n",
    "\n",
    "texts = [\n",
    "    'recad',\n",
    "    'betle',\n",
    "    'onegea',\n",
    "    'what',\n",
    "    'action',\n",
    "    'really',\n",
    "    'the',\n",
    "    'message',\n",
    "    'challenge',\n",
    "    'Bhavan',\n",
    "    'Soundarya',\n",
    "    'Sashmi'\n",
    "]"
   ]
  },
  {
   "cell_type": "code",
   "execution_count": 27,
   "metadata": {},
   "outputs": [],
   "source": [
    "def text_to_numerical(text):\n",
    "    numbers = []\n",
    "    for char in text:\n",
    "        lower_char = char.lower()#convert the character to lowercase\n",
    "        if lower_char in letter_to_number: \n",
    "            numbers.append(str(letter_to_number[lower_char]))\n",
    "    return '-'.join(numbers)        "
   ]
  },
  {
   "cell_type": "code",
   "execution_count": 28,
   "metadata": {},
   "outputs": [
    {
     "name": "stdout",
     "output_type": "stream",
     "text": [
      "18-5-3-1-4\n",
      "18-5-3-1-4\n",
      "2-5-20-12-5\n",
      "18-5-3-1-4\n",
      "2-5-20-12-5\n",
      "15-14-5-7-5-1\n",
      "18-5-3-1-4\n",
      "2-5-20-12-5\n",
      "15-14-5-7-5-1\n",
      "23-8-1-20\n",
      "18-5-3-1-4\n",
      "2-5-20-12-5\n",
      "15-14-5-7-5-1\n",
      "23-8-1-20\n",
      "1-3-20-9-15-14\n",
      "18-5-3-1-4\n",
      "2-5-20-12-5\n",
      "15-14-5-7-5-1\n",
      "23-8-1-20\n",
      "1-3-20-9-15-14\n",
      "18-5-1-12-12-25\n",
      "18-5-3-1-4\n",
      "2-5-20-12-5\n",
      "15-14-5-7-5-1\n",
      "23-8-1-20\n",
      "1-3-20-9-15-14\n",
      "18-5-1-12-12-25\n",
      "20-8-5\n",
      "18-5-3-1-4\n",
      "2-5-20-12-5\n",
      "15-14-5-7-5-1\n",
      "23-8-1-20\n",
      "1-3-20-9-15-14\n",
      "18-5-1-12-12-25\n",
      "20-8-5\n",
      "13-5-19-19-1-7-5\n",
      "18-5-3-1-4\n",
      "2-5-20-12-5\n",
      "15-14-5-7-5-1\n",
      "23-8-1-20\n",
      "1-3-20-9-15-14\n",
      "18-5-1-12-12-25\n",
      "20-8-5\n",
      "13-5-19-19-1-7-5\n",
      "3-8-1-12-12-5-14-7-5\n",
      "18-5-3-1-4\n",
      "2-5-20-12-5\n",
      "15-14-5-7-5-1\n",
      "23-8-1-20\n",
      "1-3-20-9-15-14\n",
      "18-5-1-12-12-25\n",
      "20-8-5\n",
      "13-5-19-19-1-7-5\n",
      "3-8-1-12-12-5-14-7-5\n",
      "2-8-1-22-1-14\n",
      "18-5-3-1-4\n",
      "2-5-20-12-5\n",
      "15-14-5-7-5-1\n",
      "23-8-1-20\n",
      "1-3-20-9-15-14\n",
      "18-5-1-12-12-25\n",
      "20-8-5\n",
      "13-5-19-19-1-7-5\n",
      "3-8-1-12-12-5-14-7-5\n",
      "2-8-1-22-1-14\n",
      "19-15-21-14-4-1-18-25-1\n",
      "18-5-3-1-4\n",
      "2-5-20-12-5\n",
      "15-14-5-7-5-1\n",
      "23-8-1-20\n",
      "1-3-20-9-15-14\n",
      "18-5-1-12-12-25\n",
      "20-8-5\n",
      "13-5-19-19-1-7-5\n",
      "3-8-1-12-12-5-14-7-5\n",
      "2-8-1-22-1-14\n",
      "19-15-21-14-4-1-18-25-1\n",
      "19-1-19-8-13-9\n"
     ]
    }
   ],
   "source": [
    "encoded_messages=[]\n",
    "for text in texts:\n",
    "    encoded_message = text_to_numerical(text)\n",
    "    encoded_messages.append(encoded_message)\n",
    "    \n",
    "    for encoded in encoded_messages:\n",
    "        print(encoded)"
   ]
  },
  {
   "cell_type": "markdown",
   "metadata": {},
   "source": [
    "let us try to build a simple calculator by using function"
   ]
  },
  {
   "cell_type": "code",
   "execution_count": null,
   "metadata": {},
   "outputs": [],
   "source": [
    "#Function to perform addition\n",
    "def add(x, y):\n",
    "    return x + y\n",
    "\n",
    "#Function to perform subtraction\n",
    "def subtract(x, y):\n",
    "    return x - y\n",
    "\n",
    "#Function to perform multiplication\n",
    "def multiply(x, y):\n",
    "    return x * y\n",
    "\n",
    "#Function to perform division\n",
    "def divide(x, y):\n",
    "    if y != 0:\n",
    "        return x / y\n",
    "    else:\n",
    "        return \"Error: Division by zero\"\n",
    "\n",
    "#Main program\n",
    "print(\"Simple Calculator\")\n",
    "print(\"1. Add\")\n",
    "print(\"2. Subtract\")\n",
    "print(\"3. Multiply\")\n",
    "print(\"4. Divide\")\n",
    "\n",
    "choice = input(\"Enter choice (1/2/3/4): \")\n",
    "\n",
    "num1 = float(input(\"Enter first number: \"))\n",
    "num2 = float(input(\"Enter second number: \"))\n",
    "\n",
    "if choice == '1':\n",
    "    print(\"Result:\", add(num1, num2))\n",
    "elif choice == '2':\n",
    "    print(\"Result:\", subtract(num1, num2))\n",
    "elif choice == '3':\n",
    "    print(\"Result:\", multiply(num1, num2))\n",
    "elif choice == '4':\n",
    "    print(\"Result:\", divide(num1, num2))\n",
    "else:\n",
    "    print(\"Invalid choice\")\n"
   ]
  },
  {
   "cell_type": "markdown",
   "metadata": {},
   "source": [
    "Dummy student names\n",
    "students = ['Alice', 'Bob', 'Charlie', 'David', 'Eva']\n",
    "\n",
    "Dummy grades for each student (Math, Science, English, History)\n",
    "grades = {\n",
    "    'Alice': [90, 85, 92, 88],\n",
    "    'Bob': [78, 95, 80, 70],\n",
    "    'Charlie': [82, 60, 75, 88],\n",
    "    'David': [65, 70, 68, 75],\n",
    "    'Eva': [88, 92, 45, 90]\n",
    "}"
   ]
  },
  {
   "cell_type": "code",
   "execution_count": 7,
   "metadata": {},
   "outputs": [],
   "source": [
    "##Dummy student names\n",
    "students = ['Alice', 'Bob', 'Charlie', 'David', 'Eva']\n",
    "\n",
    "#Dummy grades for each \n",
    "\n",
    "subjects =('Math', 'Science', 'English', 'History')\n",
    "grades = {\n",
    "    'Alice': [90, 85, 92, 88],\n",
    "    'Bob': [78, 95, 80, 70],\n",
    "    'Charlie': [82, 60, 75, 88],\n",
    "    'David': [65, 70, 68, 75],\n",
    "    'Eva': [88, 92, 45, 90]\n",
    "}"
   ]
  },
  {
   "cell_type": "code",
   "execution_count": 15,
   "metadata": {},
   "outputs": [
    {
     "name": "stdout",
     "output_type": "stream",
     "text": [
      "average garde for Alice: 88.75\n",
      "average garde for Bob: 80.75\n",
      "average garde for Charlie: 76.25\n",
      "average garde for David: 69.5\n",
      "average garde for Eva: 78.75\n"
     ]
    }
   ],
   "source": [
    "def average_grade (grade_list):\n",
    "    return sum(grade_list)/len(grade_list)\n",
    "for name in students:\n",
    "    print(f\"average garde for {name}:\",average_grade(grades[name]))"
   ]
  },
  {
   "cell_type": "code",
   "execution_count": 17,
   "metadata": {},
   "outputs": [
    {
     "name": "stdout",
     "output_type": "stream",
     "text": [
      "subject with highest grade for eva: Science\n"
     ]
    }
   ],
   "source": [
    "def highest_grade_subjects(grade_list):\n",
    "    subjects = ['Math', 'Science', 'English', 'History']\n",
    "    max_grade = max(grade_list)\n",
    "    max_index = grade_list.index(max_grade)\n",
    "    return subjects [max_index]\n",
    "\n",
    "print (\"subject with highest grade for eva:\", highest_grade_subjects(grades['Eva']))"
   ]
  },
  {
   "cell_type": "code",
   "execution_count": 10,
   "metadata": {},
   "outputs": [
    {
     "name": "stdout",
     "output_type": "stream",
     "text": [
      "passing students: ['Alice', 'Bob', 'Charlie', 'David']\n"
     ]
    }
   ],
   "source": [
    "def passing_students(grade_dict):\n",
    "    pass_students =[]\n",
    "    for student,grade_list in grade_dict.items():\n",
    "        if all(grade >= 50 for grade in grade_list):\n",
    "            pass_students.append(student)\n",
    "    return pass_students\n",
    "\n",
    "print(\"passing students:\",passing_students(grades))        "
   ]
  },
  {
   "cell_type": "code",
   "execution_count": 11,
   "metadata": {},
   "outputs": [
    {
     "name": "stdout",
     "output_type": "stream",
     "text": [
      "subject_wise_performance: {'Math': 80.6, 'Science': 80.4, 'English': 72.0, 'History': 82.2}\n"
     ]
    }
   ],
   "source": [
    "def subject_wise_performance(grades_dict):\n",
    "    performance ={}\n",
    "    \n",
    "    for subject in subjects:\n",
    "        subject_grades =[]\n",
    "        \n",
    "        for student in grades_dict:\n",
    "            grade_index = subjects.index(subject)\n",
    "            subject_grades.append(grades_dict[student][grade_index])\n",
    "            \n",
    "        performance[subject]=average_grade(subject_grades)  \n",
    "        \n",
    "    return performance    \n",
    "print(\"subject_wise_performance:\", subject_wise_performance(grades))  "
   ]
  },
  {
   "cell_type": "code",
   "execution_count": 12,
   "metadata": {},
   "outputs": [
    {
     "name": "stdout",
     "output_type": "stream",
     "text": [
      "students failed in Math: []\n",
      "students failed in Science: []\n",
      "students failed in English: ['Eva']\n",
      "students failed in History: []\n"
     ]
    }
   ],
   "source": [
    "def students_failed_subject(grades_dict,subject):\n",
    "    failed_students =[]\n",
    "    for student,grades_list in grades_dict.items():\n",
    "        if grades_list[subjects.index(subject)]< 50:\n",
    "            failed_students.append(student)\n",
    "    return failed_students\n",
    "for subject in subjects:\n",
    "    print(f\"students failed in {subject}:\",students_failed_subject(grades, subject))        "
   ]
  },
  {
   "cell_type": "code",
   "execution_count": 13,
   "metadata": {},
   "outputs": [
    {
     "name": "stdout",
     "output_type": "stream",
     "text": [
      "overall best performing student: Alice\n"
     ]
    }
   ],
   "source": [
    "def overall_performance (grades_dict):\n",
    "    best_student = max(grades_dict, key=lambda student: average_grade(grades_dict[student]))\n",
    "    return best_student\n",
    "\n",
    "print(\"overall best performing student:\", overall_performance(grades))"
   ]
  },
  {
   "cell_type": "markdown",
   "metadata": {},
   "source": [
    "Question:\n",
    "Write a Python function Role that, given an actor's name, determines and prints the roles (Hero, Heroine, Villain) played by that actor in various movies from a predefined dictionary, considering the priority of roles as Hero > Heroine > Villain.\n",
    "\n",
    "Hints\n",
    "\n",
    "Start by defining the Role function with one parameter, Name_of_actor.\n",
    "Create a dictionary called movies with movie names as keys and lists of actors as values.\n",
    "Initialize three empty lists: Hero, Heroine, and Villain to store the roles played by the actor.\n",
    "Use a loop to iterate through the movies dictionary.\n",
    "Within the loop, check if the Name_of_actor exists in the list of actors for each movie.\n",
    "If the actor is found, determine their role in that movie (Hero, Heroine, or Villain) based on their index in the actors list.\n",
    "Append the movie name to the corresponding role list.\n",
    "After iterating through all movies, check if the actor played any roles and print out the roles along with the movie names.\n",
    "Test the function with different actor names to ensure it works correctly.\n",
    "\n",
    "\n",
    "movies = {\n",
    "        'Darr': ['sunny', 'juhi', 'sharukh'],\n",
    "        'Bahubali': ['prabhas', 'Anushka', 'Rana'],\n",
    "        'Baazigar': ['Ajay', 'Kajol', 'sharukh'],\n",
    "        'KGF2': ['Yash', 'srinidhi', 'Sanjay Dutt'],\n",
    "        'Khalnayak': ['Jackie', 'Madhuri', 'Sanjay Dutt'],\n",
    "        'DDLJ': ['Sharukh', 'kajol', 'amrish puri'],\n",
    "        'MunnaBhaiMBBS': ['Sanjay Dutt', 'Gracy Singh', 'Boman Irani']\n",
    "    }"
   ]
  },
  {
   "cell_type": "code",
   "execution_count": 1,
   "metadata": {},
   "outputs": [],
   "source": [
    "movies = {\n",
    "        'Darr': ['sunny', 'juhi', 'sharukh'],\n",
    "        'Bahubali': ['prabhas', 'Anushka', 'Rana'],\n",
    "        'Baazigar': ['Ajay', 'Kajol', 'sharukh'],\n",
    "        'KGF2': ['Yash', 'srinidhi', 'Sanjay Dutt'],\n",
    "        'Khalnayak': ['Jackie', 'Madhuri', 'Sanjay Dutt'],\n",
    "        'DDLJ': ['Sharukh', 'kajol', 'amrish puri'],\n",
    "        'MunnaBhaiMBBS': ['Sanjay Dutt', 'Gracy Singh', 'Boman Irani']\n",
    "    }"
   ]
  },
  {
   "cell_type": "code",
   "execution_count": 6,
   "metadata": {},
   "outputs": [],
   "source": [
    "def role(actors_name):\n",
    "    movies = {\n",
    "        'Darr': ['sunny', 'juhi', 'sharukh'],\n",
    "        'Bahubali': ['prabhas', 'Anushka', 'Rana'],\n",
    "        'Baazigar': ['Ajay', 'Kajol', 'sharukh'],\n",
    "        'KGF2': ['Yash', 'srinidhi', 'Sanjay Dutt'],\n",
    "        'Khalnayak': ['Jackie', 'Madhuri', 'Sanjay Dutt'],\n",
    "        'DDLJ': ['Sharukh', 'kajol', 'amrish puri'],\n",
    "        'MunnaBhaiMBBS': ['Sanjay Dutt', 'Gracy Singh', 'Boman Irani']\n",
    "    }\n",
    "    \n",
    "    hero =[]\n",
    "    heroine =[]\n",
    "    villian =[]\n",
    "    \n",
    "    for movies,actors in movies.items():\n",
    "        if actors_name in actors:\n",
    "            if actors.index(actors_name) == 0:\n",
    "                hero.append(movies)\n",
    "            elif actors.index(actors_name)==1:\n",
    "                 heroine.append(movies)   \n",
    "            else:\n",
    "                 villian.append(movies)\n",
    "                 \n",
    "    if hero:\n",
    "        print(f\"{actors_name} acted as hero in {hero}\") \n",
    "    if heroine:\n",
    "        print(f\"{actors_name} acted as heroine in {heroine}\") \n",
    "    if villian:\n",
    "        print(f\"{actors_name} acted as villian in {villian}\")                        \n",
    "     "
   ]
  },
  {
   "cell_type": "code",
   "execution_count": 7,
   "metadata": {},
   "outputs": [
    {
     "name": "stdout",
     "output_type": "stream",
     "text": [
      "Anushka acted as heroine in ['Bahubali']\n"
     ]
    }
   ],
   "source": [
    "role('Anushka')"
   ]
  },
  {
   "cell_type": "code",
   "execution_count": 8,
   "metadata": {},
   "outputs": [
    {
     "name": "stdout",
     "output_type": "stream",
     "text": [
      "Sanjay Dutt acted as hero in ['MunnaBhaiMBBS']\n",
      "Sanjay Dutt acted as villian in ['KGF2', 'Khalnayak']\n"
     ]
    }
   ],
   "source": [
    "role('Sanjay Dutt')"
   ]
  },
  {
   "cell_type": "code",
   "execution_count": 1,
   "metadata": {},
   "outputs": [
    {
     "data": {
      "text/plain": [
       "'sowndaryasongappan'"
      ]
     },
     "execution_count": 1,
     "metadata": {},
     "output_type": "execute_result"
    }
   ],
   "source": [
    "concatenated_string = lambda first_name,last_name :f\"{first_name}{last_name}\"\n",
    "first_name = \"sowndarya\"\n",
    "last_name = \"songappan\"\n",
    "\n",
    "full_name = concatenated_string(first_name,last_name)\n",
    "\n",
    "full_name"
   ]
  },
  {
   "cell_type": "code",
   "execution_count": 4,
   "metadata": {},
   "outputs": [
    {
     "name": "stdout",
     "output_type": "stream",
     "text": [
      "<class 'int'>\n",
      "<class 'float'>\n"
     ]
    }
   ],
   "source": [
    "function = lambda x:x(int,float)\n",
    "\n",
    "print(type(22))\n",
    "print(type(5.0))"
   ]
  },
  {
   "cell_type": "code",
   "execution_count": 5,
   "metadata": {},
   "outputs": [
    {
     "data": {
      "text/plain": [
       "[2, 4, 6, 8, 10]"
      ]
     },
     "execution_count": 5,
     "metadata": {},
     "output_type": "execute_result"
    }
   ],
   "source": [
    "numbers = [1, 2, 3, 4, 5]\n",
    "\n",
    "doubled_numbers = list(map(lambda x: x * 2, numbers))\n",
    "\n",
    "doubled_numbers"
   ]
  },
  {
   "cell_type": "code",
   "execution_count": 10,
   "metadata": {},
   "outputs": [
    {
     "data": {
      "text/plain": [
       "{0: 0, 1: 1, 2: 4, 3: 9, 4: 16, 5: 25, 6: 36, 7: 49, 8: 64, 9: 81}"
      ]
     },
     "execution_count": 10,
     "metadata": {},
     "output_type": "execute_result"
    }
   ],
   "source": [
    "i = range(10)\n",
    "square_root = {i:i**2 for i in range(10)}\n",
    "square_root"
   ]
  },
  {
   "cell_type": "code",
   "execution_count": 11,
   "metadata": {},
   "outputs": [
    {
     "data": {
      "text/plain": [
       "[5, 8, 12]"
      ]
     },
     "execution_count": 11,
     "metadata": {},
     "output_type": "execute_result"
    }
   ],
   "source": [
    "numbers = [-10, 0, 5, -3, 8, -2, 12]\n",
    "\n",
    "positive_numbers = list(filter(lambda x: x > 0, numbers))\n",
    "positive_numbers"
   ]
  },
  {
   "cell_type": "code",
   "execution_count": 12,
   "metadata": {},
   "outputs": [
    {
     "name": "stdout",
     "output_type": "stream",
     "text": [
      "['apple', 'apricot', 'avocado', 'almond']\n"
     ]
    }
   ],
   "source": [
    "words = [\"apple\", \"banana\", \"apricot\", \"cherry\", \"avocado\", \"grape\", \"almond\"]\n",
    "\n",
    "words_starting_with_a = list(filter(lambda word: word.startswith('a'), words))\n",
    "\n",
    "print(words_starting_with_a)"
   ]
  },
  {
   "cell_type": "code",
   "execution_count": 13,
   "metadata": {},
   "outputs": [
    {
     "name": "stdout",
     "output_type": "stream",
     "text": [
      "15\n",
      "5\n",
      "50\n",
      "2.0\n",
      "Error: Division by zero\n",
      "Invalid operation\n"
     ]
    }
   ],
   "source": [
    "def add(x, y):\n",
    "    return x + y\n",
    "\n",
    "def sub(x, y):\n",
    "    return x - y\n",
    "\n",
    "def multiply(x, y):\n",
    "    return x * y\n",
    "\n",
    "\n",
    "def divide(x, y):\n",
    "    if y == 0:\n",
    "        return \"Error: Division by zero\"\n",
    "    return x / y\n",
    "\n",
    "def calculate(operation, x, y):\n",
    "    operations = {\n",
    "        \"add\": add,\n",
    "        \"sub\": sub,\n",
    "        \"multiply\": multiply,\n",
    "        \"divide\": divide\n",
    "    }\n",
    "    \n",
    "    if operation in operations:\n",
    "        return operations[operation](x, y)\n",
    "    else:\n",
    "        return \"Invalid operation\"\n",
    "\n",
    "x = 10\n",
    "y = 5\n",
    "\n",
    "print(calculate(\"add\", x, y))     \n",
    "print(calculate(\"sub\", x, y))      \n",
    "print(calculate(\"multiply\", x, y)) \n",
    "print(calculate(\"divide\", x, y))   \n",
    "print(calculate(\"divide\", x, 0))   \n",
    "print(calculate(\"mod\", x, y))    "
   ]
  },
  {
   "cell_type": "code",
   "execution_count": null,
   "metadata": {},
   "outputs": [],
   "source": [
    "user_dict = {}\n",
    "for _ in  range(5):\n",
    "    key= input(\"Enter key:\")\n",
    "    value = input(\"Enter value:\")\n",
    "    user_dict[key]=value\n",
    "print(user_dict)"
   ]
  },
  {
   "cell_type": "code",
   "execution_count": null,
   "metadata": {},
   "outputs": [],
   "source": [
    "class average_rating:\n",
    "    \n",
    " def __init__(self,movie_name, rating):\n",
    "    self.movie_name = movie_name\n",
    "    self.rating = rating\n",
    "\n",
    "\n",
    "def get_average_rating():\n",
    "    if len(self.rating) == 0:\n",
    "        return 0\n",
    "    total_rating = sum(self.rating.values())\n",
    "    average_rating = total_rating / len(movie_ratings)\n",
    "    return round(average_rating, 2)\n",
    "\n"
   ]
  },
  {
   "cell_type": "code",
   "execution_count": 17,
   "metadata": {},
   "outputs": [
    {
     "name": "stdout",
     "output_type": "stream",
     "text": [
      "{'ush': 67.4, 'the': 9.7, 'hhh': 8.6}\n"
     ]
    }
   ],
   "source": [
    "\n",
    "rating = {}\n",
    "for i in range(3):\n",
    "    \n",
    "    key = str(input(\"Enter a movie:\")) \n",
    "    value = float(input(\"Enter a rating:\"))\n",
    "    rating[key]=value   \n",
    "print(rating)\n",
    "\n",
    "\n"
   ]
  },
  {
   "cell_type": "markdown",
   "metadata": {},
   "source": []
  },
  {
   "cell_type": "code",
   "execution_count": 18,
   "metadata": {},
   "outputs": [],
   "source": [
    "movies = ['End game', 'The shawshank', 'Redemption', 'Jurassic park', 'Twilight']\n",
    "\n",
    "rating = {\n",
    "    'End game': [9.2],\n",
    "    'The shawshank': [8.7],\n",
    "    'Redemption': [8.9],\n",
    "    'Jurassic park': [7.5],\n",
    "    'Twilight': [5.3]}"
   ]
  },
  {
   "cell_type": "code",
   "execution_count": 20,
   "metadata": {},
   "outputs": [
    {
     "name": "stdout",
     "output_type": "stream",
     "text": [
      "average rating for End game: 9.2\n",
      "average rating for The shawshank: 8.7\n",
      "average rating for Redemption: 8.9\n",
      "average rating for Jurassic park: 7.5\n",
      "average rating for Twilight: 5.3\n"
     ]
    }
   ],
   "source": [
    "def movies_rating(rating_list):\n",
    "    return sum(rating_list)/len(rating_list)\n",
    "for name in movies:\n",
    "    print(f\"average rating for {name}:\", movies_rating(rating[name]))"
   ]
  },
  {
   "cell_type": "code",
   "execution_count": null,
   "metadata": {},
   "outputs": [],
   "source": []
  }
 ],
 "metadata": {
  "kernelspec": {
   "display_name": "Python 3",
   "language": "python",
   "name": "python3"
  },
  "language_info": {
   "codemirror_mode": {
    "name": "ipython",
    "version": 3
   },
   "file_extension": ".py",
   "mimetype": "text/x-python",
   "name": "python",
   "nbconvert_exporter": "python",
   "pygments_lexer": "ipython3",
   "version": "3.13.0"
  }
 },
 "nbformat": 4,
 "nbformat_minor": 2
}
