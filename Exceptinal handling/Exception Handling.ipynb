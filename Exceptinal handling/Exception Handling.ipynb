{
 "cells": [
  {
   "cell_type": "markdown",
   "metadata": {},
   "source": [
    "file handling with exception"
   ]
  },
  {
   "cell_type": "code",
   "execution_count": 26,
   "metadata": {},
   "outputs": [
    {
     "ename": "SyntaxError",
     "evalue": "Missing parentheses in call to 'print'. Did you mean print(...)? (324857043.py, line 1)",
     "output_type": "error",
     "traceback": [
      "\u001b[1;36m  Cell \u001b[1;32mIn[26], line 1\u001b[1;36m\u001b[0m\n\u001b[1;33m    print \"Hello, World!\"\u001b[0m\n\u001b[1;37m    ^\u001b[0m\n\u001b[1;31mSyntaxError\u001b[0m\u001b[1;31m:\u001b[0m Missing parentheses in call to 'print'. Did you mean print(...)?\n"
     ]
    }
   ],
   "source": [
    "print \"Hello, World!\""
   ]
  },
  {
   "cell_type": "code",
   "execution_count": null,
   "metadata": {},
   "outputs": [
    {
     "ename": "ZeroDivisionError",
     "evalue": "division by zero",
     "output_type": "error",
     "traceback": [
      "\u001b[1;31m---------------------------------------------------------------------------\u001b[0m",
      "\u001b[1;31mZeroDivisionError\u001b[0m                         Traceback (most recent call last)",
      "Cell \u001b[1;32mIn[1], line 1\u001b[0m\n\u001b[1;32m----> 1\u001b[0m \u001b[38;5;28mprint\u001b[39m(\u001b[38;5;241;43m10\u001b[39;49m\u001b[38;5;241;43m/\u001b[39;49m\u001b[38;5;241;43m0\u001b[39;49m)\n",
      "\u001b[1;31mZeroDivisionError\u001b[0m: division by zero"
     ]
    }
   ],
   "source": [
    "print(10/0)"
   ]
  },
  {
   "cell_type": "code",
   "execution_count": null,
   "metadata": {},
   "outputs": [
    {
     "name": "stdout",
     "output_type": "stream",
     "text": [
      "0.3333333333333333\n"
     ]
    }
   ],
   "source": [
    "def calculate_average (numbers):\n",
    "    total = sum(numbers)\n",
    "    count = len(numbers)\n",
    "    average = count/total\n",
    "    return average\n",
    "\n",
    "num_list = [1,2,3,4,5]\n",
    "print(calculate_average(num_list))"
   ]
  },
  {
   "cell_type": "code",
   "execution_count": null,
   "metadata": {},
   "outputs": [
    {
     "ename": "NameError",
     "evalue": "name 'x' is not defined",
     "output_type": "error",
     "traceback": [
      "\u001b[1;31m---------------------------------------------------------------------------\u001b[0m",
      "\u001b[1;31mNameError\u001b[0m                                 Traceback (most recent call last)",
      "Cell \u001b[1;32mIn[3], line 1\u001b[0m\n\u001b[1;32m----> 1\u001b[0m \u001b[38;5;28mprint\u001b[39m(\u001b[43mx\u001b[49m)\n",
      "\u001b[1;31mNameError\u001b[0m: name 'x' is not defined"
     ]
    }
   ],
   "source": [
    "print(x)"
   ]
  },
  {
   "cell_type": "code",
   "execution_count": null,
   "metadata": {},
   "outputs": [
    {
     "ename": "TypeError",
     "evalue": "can only concatenate str (not \"int\") to str",
     "output_type": "error",
     "traceback": [
      "\u001b[1;31m---------------------------------------------------------------------------\u001b[0m",
      "\u001b[1;31mTypeError\u001b[0m                                 Traceback (most recent call last)",
      "Cell \u001b[1;32mIn[4], line 1\u001b[0m\n\u001b[1;32m----> 1\u001b[0m \u001b[38;5;28mprint\u001b[39m(\u001b[38;5;124;43m\"\u001b[39;49m\u001b[38;5;124;43mHello\u001b[39;49m\u001b[38;5;124;43m\"\u001b[39;49m\u001b[38;5;241;43m+\u001b[39;49m\u001b[38;5;241;43m5\u001b[39;49m)\n",
      "\u001b[1;31mTypeError\u001b[0m: can only concatenate str (not \"int\") to str"
     ]
    }
   ],
   "source": [
    "print(\"Hello\"+5)"
   ]
  },
  {
   "cell_type": "code",
   "execution_count": null,
   "metadata": {},
   "outputs": [
    {
     "ename": "IndexError",
     "evalue": "list index out of range",
     "output_type": "error",
     "traceback": [
      "\u001b[1;31m---------------------------------------------------------------------------\u001b[0m",
      "\u001b[1;31mIndexError\u001b[0m                                Traceback (most recent call last)",
      "Cell \u001b[1;32mIn[5], line 2\u001b[0m\n\u001b[0;32m      1\u001b[0m numbers \u001b[38;5;241m=\u001b[39m [\u001b[38;5;241m1\u001b[39m,\u001b[38;5;241m2\u001b[39m,\u001b[38;5;241m3\u001b[39m]\n\u001b[1;32m----> 2\u001b[0m \u001b[38;5;28mprint\u001b[39m(\u001b[43mnumbers\u001b[49m\u001b[43m[\u001b[49m\u001b[38;5;241;43m5\u001b[39;49m\u001b[43m]\u001b[49m)\n",
      "\u001b[1;31mIndexError\u001b[0m: list index out of range"
     ]
    }
   ],
   "source": [
    "numbers = [1,2,3]\n",
    "print(numbers[5])"
   ]
  },
  {
   "cell_type": "code",
   "execution_count": null,
   "metadata": {},
   "outputs": [
    {
     "ename": "FileNotFoundError",
     "evalue": "[Errno 2] No such file or directory: 'abc.txt'",
     "output_type": "error",
     "traceback": [
      "\u001b[1;31m---------------------------------------------------------------------------\u001b[0m",
      "\u001b[1;31mFileNotFoundError\u001b[0m                         Traceback (most recent call last)",
      "Cell \u001b[1;32mIn[6], line 1\u001b[0m\n\u001b[1;32m----> 1\u001b[0m \u001b[38;5;28;01mwith\u001b[39;00m \u001b[38;5;28;43mopen\u001b[39;49m\u001b[43m(\u001b[49m\u001b[38;5;124;43m\"\u001b[39;49m\u001b[38;5;124;43mabc.txt\u001b[39;49m\u001b[38;5;124;43m\"\u001b[39;49m\u001b[43m,\u001b[49m\u001b[43m \u001b[49m\u001b[38;5;124;43m\"\u001b[39;49m\u001b[38;5;124;43mr\u001b[39;49m\u001b[38;5;124;43m\"\u001b[39;49m\u001b[43m)\u001b[49m\u001b[38;5;28;01mas\u001b[39;00m f:\n\u001b[0;32m      2\u001b[0m     content \u001b[38;5;241m=\u001b[39m f\u001b[38;5;241m.\u001b[39mread()\n\u001b[0;32m      3\u001b[0m     \u001b[38;5;28mprint\u001b[39m(content)\n",
      "File \u001b[1;32m~\\AppData\\Roaming\\Python\\Python312\\site-packages\\IPython\\core\\interactiveshell.py:324\u001b[0m, in \u001b[0;36m_modified_open\u001b[1;34m(file, *args, **kwargs)\u001b[0m\n\u001b[0;32m    317\u001b[0m \u001b[38;5;28;01mif\u001b[39;00m file \u001b[38;5;129;01min\u001b[39;00m {\u001b[38;5;241m0\u001b[39m, \u001b[38;5;241m1\u001b[39m, \u001b[38;5;241m2\u001b[39m}:\n\u001b[0;32m    318\u001b[0m     \u001b[38;5;28;01mraise\u001b[39;00m \u001b[38;5;167;01mValueError\u001b[39;00m(\n\u001b[0;32m    319\u001b[0m         \u001b[38;5;124mf\u001b[39m\u001b[38;5;124m\"\u001b[39m\u001b[38;5;124mIPython won\u001b[39m\u001b[38;5;124m'\u001b[39m\u001b[38;5;124mt let you open fd=\u001b[39m\u001b[38;5;132;01m{\u001b[39;00mfile\u001b[38;5;132;01m}\u001b[39;00m\u001b[38;5;124m by default \u001b[39m\u001b[38;5;124m\"\u001b[39m\n\u001b[0;32m    320\u001b[0m         \u001b[38;5;124m\"\u001b[39m\u001b[38;5;124mas it is likely to crash IPython. If you know what you are doing, \u001b[39m\u001b[38;5;124m\"\u001b[39m\n\u001b[0;32m    321\u001b[0m         \u001b[38;5;124m\"\u001b[39m\u001b[38;5;124myou can use builtins\u001b[39m\u001b[38;5;124m'\u001b[39m\u001b[38;5;124m open.\u001b[39m\u001b[38;5;124m\"\u001b[39m\n\u001b[0;32m    322\u001b[0m     )\n\u001b[1;32m--> 324\u001b[0m \u001b[38;5;28;01mreturn\u001b[39;00m \u001b[43mio_open\u001b[49m\u001b[43m(\u001b[49m\u001b[43mfile\u001b[49m\u001b[43m,\u001b[49m\u001b[43m \u001b[49m\u001b[38;5;241;43m*\u001b[39;49m\u001b[43margs\u001b[49m\u001b[43m,\u001b[49m\u001b[43m \u001b[49m\u001b[38;5;241;43m*\u001b[39;49m\u001b[38;5;241;43m*\u001b[39;49m\u001b[43mkwargs\u001b[49m\u001b[43m)\u001b[49m\n",
      "\u001b[1;31mFileNotFoundError\u001b[0m: [Errno 2] No such file or directory: 'abc.txt'"
     ]
    }
   ],
   "source": [
    "with open(\"abc.txt\", \"r\")as f:\n",
    "    content = f.read()\n",
    "    print(content)"
   ]
  },
  {
   "cell_type": "code",
   "execution_count": null,
   "metadata": {},
   "outputs": [
    {
     "ename": "ModuleNotFoundError",
     "evalue": "No module named 'non_existent_module'",
     "output_type": "error",
     "traceback": [
      "\u001b[1;31m---------------------------------------------------------------------------\u001b[0m",
      "\u001b[1;31mModuleNotFoundError\u001b[0m                       Traceback (most recent call last)",
      "Cell \u001b[1;32mIn[7], line 1\u001b[0m\n\u001b[1;32m----> 1\u001b[0m \u001b[38;5;28;01mimport\u001b[39;00m \u001b[38;5;21;01mnon_existent_module\u001b[39;00m\n",
      "\u001b[1;31mModuleNotFoundError\u001b[0m: No module named 'non_existent_module'"
     ]
    }
   ],
   "source": [
    "import non_existent_module"
   ]
  },
  {
   "cell_type": "markdown",
   "metadata": {},
   "source": [
    "try - except"
   ]
  },
  {
   "cell_type": "code",
   "execution_count": null,
   "metadata": {},
   "outputs": [
    {
     "name": "stdout",
     "output_type": "stream",
     "text": [
      "an exception occured\n"
     ]
    }
   ],
   "source": [
    "try:\n",
    "    print(x)\n",
    "except:\n",
    "    print(\"an exception occured\")    "
   ]
  },
  {
   "cell_type": "code",
   "execution_count": null,
   "metadata": {},
   "outputs": [
    {
     "name": "stdout",
     "output_type": "stream",
     "text": [
      "Error: cannot add an int and a str\n"
     ]
    }
   ],
   "source": [
    "x=5\n",
    "y= \"hello\"\n",
    "\n",
    "try:\n",
    "    z=x+y\n",
    "except:    \n",
    "    print(\"Error: cannot add an int and a str\")"
   ]
  },
  {
   "cell_type": "code",
   "execution_count": null,
   "metadata": {},
   "outputs": [
    {
     "name": "stdout",
     "output_type": "stream",
     "text": [
      "sum of 12\n"
     ]
    }
   ],
   "source": [
    "x=5\n",
    "y=7\n",
    "\n",
    "try:\n",
    "    z=x+y\n",
    "    print(f\"sum of {z}\")\n",
    "except:    \n",
    "    print(\"Error: cannot add an int and a str\")"
   ]
  },
  {
   "cell_type": "code",
   "execution_count": null,
   "metadata": {},
   "outputs": [
    {
     "name": "stdout",
     "output_type": "stream",
     "text": [
      "second element = 2\n",
      "an error occured\n"
     ]
    }
   ],
   "source": [
    "a = [1,2,3]\n",
    "try:\n",
    "    print(f\"second element = {a[1]}\")\n",
    "    print(f\"fourth element = {a[3]}\")# index error\n",
    "    \n",
    "except:\n",
    "    print(\"an error occured\")"
   ]
  },
  {
   "cell_type": "code",
   "execution_count": null,
   "metadata": {},
   "outputs": [
    {
     "name": "stdout",
     "output_type": "stream",
     "text": [
      "unsupported oper and type(s) for +: 'int' and 'str' \n"
     ]
    }
   ],
   "source": [
    "a = [1,2,3, 'A','B',6]\n",
    "\n",
    "try:\n",
    "     Z= a[0] + a[3]\n",
    "     print(z)\n",
    "     print(a[6])\n",
    "\n",
    "except IndexError:\n",
    "    print(\"IndexError\")\n",
    "except TypeError:\n",
    "    print(\"unsupported oper and type(s) for +: 'int' and 'str' \" )    "
   ]
  },
  {
   "cell_type": "code",
   "execution_count": null,
   "metadata": {},
   "outputs": [
    {
     "name": "stdout",
     "output_type": "stream",
     "text": [
      "ValueError: invalid literal for int() with base 10: 'a'\n"
     ]
    }
   ],
   "source": [
    "try:\n",
    "    user_input = int(input(\"Enter a number:\"))\n",
    "except ValueError as e:\n",
    "    print(f\"ValueError: {e}\")\n",
    "             "
   ]
  },
  {
   "cell_type": "code",
   "execution_count": null,
   "metadata": {},
   "outputs": [
    {
     "name": "stdout",
     "output_type": "stream",
     "text": [
      "file not found. [Errno 2] No such file or directory: 'example.txt'\n"
     ]
    }
   ],
   "source": [
    "try:\n",
    "    with open(\"example.txt\", \"r\")as file:\n",
    "        content = file.read()\n",
    "except FileNotFoundError as e:\n",
    "    print(f\"file not found. {e}\")        "
   ]
  },
  {
   "cell_type": "code",
   "execution_count": null,
   "metadata": {},
   "outputs": [
    {
     "name": "stdout",
     "output_type": "stream",
     "text": [
      "cannot divide by zero\n"
     ]
    }
   ],
   "source": [
    "try:\n",
    "    result = 10/0\n",
    "except :\n",
    "    print(\"cannot divide by zero\")"
   ]
  },
  {
   "cell_type": "code",
   "execution_count": null,
   "metadata": {},
   "outputs": [
    {
     "name": "stdout",
     "output_type": "stream",
     "text": [
      "variable x is not defined\n"
     ]
    }
   ],
   "source": [
    "try:\n",
    "    print(x)\n",
    "except NameError:\n",
    "    print(\"variable x is not defined\")\n",
    "except:\n",
    "    print(\"something else went wrong\")    "
   ]
  },
  {
   "cell_type": "code",
   "execution_count": null,
   "metadata": {},
   "outputs": [
    {
     "name": "stdout",
     "output_type": "stream",
     "text": [
      "Entered value is not a valid integer.\n"
     ]
    }
   ],
   "source": [
    "try:\n",
    "    a = int(input(\"Enter a value for a:\"))\n",
    "    b = int(input(\"Enter a value for b:\"))\n",
    "    c = a/b\n",
    "    print(\"The result of a divided by b:\",c)\n",
    "except ValueError:\n",
    "    print(\"Entered value is not a valid integer.\")\n",
    "except ZeroDivisionError:\n",
    "    print(\"cannot divided by zero.\")\n",
    "except Exception as e:\n",
    "    print(\"An error occurred.\", e)        "
   ]
  },
  {
   "cell_type": "code",
   "execution_count": null,
   "metadata": {},
   "outputs": [
    {
     "name": "stdout",
     "output_type": "stream",
     "text": [
      "Invalid index input.please enter a valid integer\n"
     ]
    }
   ],
   "source": [
    "try:\n",
    "    numbers= [1,2,3]\n",
    "    index = int(input(\"Enter a index:\"))\n",
    "    result = numbers[index]\n",
    "    print(\"value at index{}: {}\".format(index,result))\n",
    "except IndexError:\n",
    "    print(\"Index out of range. please enter a valid index.\")\n",
    "except ValueError:\n",
    "    print(\"Invalid index input.please enter a valid integer\")\n",
    "except Exception as e:\n",
    "    print(f\"An error occurred:\", {e})        "
   ]
  },
  {
   "cell_type": "markdown",
   "metadata": {},
   "source": [
    "try- except-else"
   ]
  },
  {
   "cell_type": "code",
   "execution_count": null,
   "metadata": {},
   "outputs": [
    {
     "name": "stdout",
     "output_type": "stream",
     "text": [
      "hello\n",
      "nothing went wrong\n"
     ]
    }
   ],
   "source": [
    "try:\n",
    "    print(\"hello\")\n",
    "except NameError:\n",
    "    print(\"something went wrong\")\n",
    "else:\n",
    "    print(\"nothing went wrong\") "
   ]
  },
  {
   "cell_type": "code",
   "execution_count": null,
   "metadata": {},
   "outputs": [
    {
     "name": "stdout",
     "output_type": "stream",
     "text": [
      "you\n",
      "nothing went wrong\n"
     ]
    }
   ],
   "source": [
    "try:\n",
    "    print(\"you\")\n",
    "except NameError:\n",
    "    print(\"something went wrong\")\n",
    "else:\n",
    "    print(\"nothing went wrong\") "
   ]
  },
  {
   "cell_type": "code",
   "execution_count": null,
   "metadata": {},
   "outputs": [
    {
     "name": "stdout",
     "output_type": "stream",
     "text": [
      "-5.0\n",
      "a/b result in 0\n",
      "a or b is not a number\n"
     ]
    }
   ],
   "source": [
    "def AbyB(a,b):\n",
    "    try:\n",
    "         c= ((a+b)/ (a-b))\n",
    "    except ZeroDivisionError:\n",
    "         print(\"a/b result in 0\")\n",
    "    except TypeError:\n",
    "         print(\"a or b is not a number\")    \n",
    "    else:\n",
    "          print(c) \n",
    "AbyB(2.0, 3.0)\n",
    "AbyB(3.0, 3.0)\n",
    "AbyB('A', 3.0)         "
   ]
  },
  {
   "cell_type": "markdown",
   "metadata": {},
   "source": [
    "FINALLY KEYWORD IN PYTHON"
   ]
  },
  {
   "cell_type": "code",
   "execution_count": null,
   "metadata": {},
   "outputs": [
    {
     "name": "stdout",
     "output_type": "stream",
     "text": [
      "10\n",
      "The'try except' is finished\n"
     ]
    }
   ],
   "source": [
    "try:\n",
    "    X=10\n",
    "    print(X)\n",
    "except:\n",
    "    print(\"something went wrong\")\n",
    "finally:\n",
    "    print(\"The'try except' is finished\") "
   ]
  },
  {
   "cell_type": "code",
   "execution_count": null,
   "metadata": {},
   "outputs": [
    {
     "name": "stdout",
     "output_type": "stream",
     "text": [
      "something went wrong\n",
      "The'try except' is finished\n"
     ]
    }
   ],
   "source": [
    "try:\n",
    "    print(x)\n",
    "except:\n",
    "    print(\"something went wrong\")\n",
    "finally:\n",
    "    print(\"The'try except' is finished\") "
   ]
  },
  {
   "cell_type": "code",
   "execution_count": null,
   "metadata": {},
   "outputs": [
    {
     "name": "stdout",
     "output_type": "stream",
     "text": [
      "can't divide by zero\n",
      "This is always executed\n"
     ]
    }
   ],
   "source": [
    "try:\n",
    "    k=5//0\n",
    "    print(k)\n",
    "except ZeroDivisionError:\n",
    "    print(\"can't divide by zero\")\n",
    "finally:\n",
    "    print('This is always executed') "
   ]
  },
  {
   "cell_type": "code",
   "execution_count": null,
   "metadata": {},
   "outputs": [
    {
     "name": "stdout",
     "output_type": "stream",
     "text": [
      "File not found\n",
      "Execution complete\n"
     ]
    }
   ],
   "source": [
    "try:\n",
    "    f=open(\"example.txt\", \"r\")\n",
    "    content = f.read()\n",
    "except FileNotFoundError:\n",
    "    print(\"File not found\")\n",
    "finally:\n",
    "    print(\"Execution complete\") "
   ]
  },
  {
   "cell_type": "code",
   "execution_count": null,
   "metadata": {},
   "outputs": [
    {
     "name": "stdout",
     "output_type": "stream",
     "text": [
      "cannot divide by zero.\n",
      "finally block: this code always runs.\n"
     ]
    }
   ],
   "source": [
    "try:\n",
    "    X=int(input(\"Enter a number:\"))\n",
    "    result = 10 / X\n",
    "except ValueError:\n",
    "    print(\"invalid input. please enter a valid number.\")\n",
    "except ZeroDivisionError:\n",
    "    print(\"cannot divide by zero.\")\n",
    "else:\n",
    "    print(\"Division result:\", result)        \n",
    "finally:\n",
    "    print(\"finally block: this code always runs.\") "
   ]
  },
  {
   "cell_type": "markdown",
   "metadata": {},
   "source": [
    "RAISING EXCEPTION"
   ]
  },
  {
   "cell_type": "code",
   "execution_count": null,
   "metadata": {},
   "outputs": [
    {
     "ename": "Exception",
     "evalue": "sorry, no numbers below zero",
     "output_type": "error",
     "traceback": [
      "\u001b[1;31m---------------------------------------------------------------------------\u001b[0m",
      "\u001b[1;31mException\u001b[0m                                 Traceback (most recent call last)",
      "Cell \u001b[1;32mIn[20], line 4\u001b[0m\n\u001b[0;32m      1\u001b[0m x \u001b[38;5;241m=\u001b[39m \u001b[38;5;241m-\u001b[39m\u001b[38;5;241m1\u001b[39m\n\u001b[0;32m      3\u001b[0m \u001b[38;5;28;01mif\u001b[39;00m x\u001b[38;5;241m<\u001b[39m\u001b[38;5;241m0\u001b[39m:\n\u001b[1;32m----> 4\u001b[0m     \u001b[38;5;28;01mraise\u001b[39;00m \u001b[38;5;167;01mException\u001b[39;00m(\u001b[38;5;124m\"\u001b[39m\u001b[38;5;124msorry, no numbers below zero\u001b[39m\u001b[38;5;124m\"\u001b[39m)\n",
      "\u001b[1;31mException\u001b[0m: sorry, no numbers below zero"
     ]
    }
   ],
   "source": [
    "x = -1\n",
    "\n",
    "if x<0:\n",
    "    raise Exception(\"sorry, no numbers below zero\")"
   ]
  },
  {
   "cell_type": "code",
   "execution_count": null,
   "metadata": {},
   "outputs": [
    {
     "ename": "TypeError",
     "evalue": "only integers are allowed",
     "output_type": "error",
     "traceback": [
      "\u001b[1;31m---------------------------------------------------------------------------\u001b[0m",
      "\u001b[1;31mTypeError\u001b[0m                                 Traceback (most recent call last)",
      "Cell \u001b[1;32mIn[21], line 4\u001b[0m\n\u001b[0;32m      1\u001b[0m x \u001b[38;5;241m=\u001b[39m \u001b[38;5;124m\"\u001b[39m\u001b[38;5;124mhello\u001b[39m\u001b[38;5;124m\"\u001b[39m\n\u001b[0;32m      3\u001b[0m \u001b[38;5;28;01mif\u001b[39;00m \u001b[38;5;129;01mnot\u001b[39;00m \u001b[38;5;28mtype\u001b[39m(x) \u001b[38;5;129;01mis\u001b[39;00m \u001b[38;5;28mint\u001b[39m:\n\u001b[1;32m----> 4\u001b[0m     \u001b[38;5;28;01mraise\u001b[39;00m \u001b[38;5;167;01mTypeError\u001b[39;00m(\u001b[38;5;124m\"\u001b[39m\u001b[38;5;124monly integers are allowed\u001b[39m\u001b[38;5;124m\"\u001b[39m)\n",
      "\u001b[1;31mTypeError\u001b[0m: only integers are allowed"
     ]
    }
   ],
   "source": [
    "x = \"hello\"\n",
    "\n",
    "if not type(x) is int:\n",
    "    raise TypeError(\"only integers are allowed\")"
   ]
  },
  {
   "cell_type": "code",
   "execution_count": null,
   "metadata": {},
   "outputs": [
    {
     "name": "stdout",
     "output_type": "stream",
     "text": [
      "an exception\n"
     ]
    },
    {
     "ename": "NameError",
     "evalue": "hi there",
     "output_type": "error",
     "traceback": [
      "\u001b[1;31m---------------------------------------------------------------------------\u001b[0m",
      "\u001b[1;31mNameError\u001b[0m                                 Traceback (most recent call last)",
      "Cell \u001b[1;32mIn[22], line 2\u001b[0m\n\u001b[0;32m      1\u001b[0m \u001b[38;5;28;01mtry\u001b[39;00m:\n\u001b[1;32m----> 2\u001b[0m     \u001b[38;5;28;01mraise\u001b[39;00m \u001b[38;5;167;01mNameError\u001b[39;00m(\u001b[38;5;124m\"\u001b[39m\u001b[38;5;124mhi there\u001b[39m\u001b[38;5;124m\"\u001b[39m)\n\u001b[0;32m      3\u001b[0m \u001b[38;5;28;01mexcept\u001b[39;00m \u001b[38;5;167;01mNameError\u001b[39;00m:\n\u001b[0;32m      4\u001b[0m     \u001b[38;5;28mprint\u001b[39m(\u001b[38;5;124m\"\u001b[39m\u001b[38;5;124man exception\u001b[39m\u001b[38;5;124m\"\u001b[39m)\n",
      "\u001b[1;31mNameError\u001b[0m: hi there"
     ]
    }
   ],
   "source": [
    "try:\n",
    "    raise NameError(\"hi there\")\n",
    "except NameError:\n",
    "    print(\"an exception\")\n",
    "    raise"
   ]
  },
  {
   "cell_type": "code",
   "execution_count": null,
   "metadata": {},
   "outputs": [
    {
     "name": "stdout",
     "output_type": "stream",
     "text": [
      "an exception\n"
     ]
    },
    {
     "ename": "NameError",
     "evalue": "selvi",
     "output_type": "error",
     "traceback": [
      "\u001b[1;31m---------------------------------------------------------------------------\u001b[0m",
      "\u001b[1;31mNameError\u001b[0m                                 Traceback (most recent call last)",
      "Cell \u001b[1;32mIn[43], line 2\u001b[0m\n\u001b[0;32m      1\u001b[0m \u001b[38;5;28;01mtry\u001b[39;00m:\n\u001b[1;32m----> 2\u001b[0m     \u001b[38;5;28;01mraise\u001b[39;00m \u001b[38;5;167;01mNameError\u001b[39;00m(\u001b[38;5;124m\"\u001b[39m\u001b[38;5;124mselvi\u001b[39m\u001b[38;5;124m\"\u001b[39m)\n\u001b[0;32m      3\u001b[0m \u001b[38;5;28;01mexcept\u001b[39;00m \u001b[38;5;167;01mNameError\u001b[39;00m:\n\u001b[0;32m      4\u001b[0m     \u001b[38;5;28mprint\u001b[39m(\u001b[38;5;124m\"\u001b[39m\u001b[38;5;124man exception\u001b[39m\u001b[38;5;124m\"\u001b[39m)\n",
      "\u001b[1;31mNameError\u001b[0m: selvi"
     ]
    }
   ],
   "source": [
    "try:\n",
    "    raise NameError(\"selvi\")\n",
    "except NameError:\n",
    "    print(\"an exception\")\n",
    "    raise"
   ]
  },
  {
   "cell_type": "code",
   "execution_count": null,
   "metadata": {},
   "outputs": [],
   "source": [
    "def check_positive(number):\n",
    "    if number <= 0:\n",
    "        c = 10 /number\n",
    "        raise ValueError(\"The number must be positive!\")\n",
    "    return f\"The number {c} is positive.\""
   ]
  },
  {
   "cell_type": "code",
   "execution_count": null,
   "metadata": {},
   "outputs": [
    {
     "name": "stdout",
     "output_type": "stream",
     "text": [
      "An unexpected error occured:division by zero\n",
      "Execution completed.\n"
     ]
    }
   ],
   "source": [
    "try:\n",
    "    a=int(input(\"Enter a positive number:\"))\n",
    "    print(check_positive(a))\n",
    "except ValueError as e: \n",
    "    print(f\"exception caught:{e}\")\n",
    "except Exception as e:\n",
    "    print(f\"An unexpected error occured:{e}\")\n",
    "else:\n",
    "    print(\"No exception was raised\")\n",
    "finally:\n",
    "    print(\"Execution completed.\")             \n",
    "      "
   ]
  },
  {
   "cell_type": "markdown",
   "metadata": {},
   "source": [
    "regular expression"
   ]
  },
  {
   "cell_type": "code",
   "execution_count": 1,
   "metadata": {},
   "outputs": [],
   "source": [
    "import re\n",
    "\n",
    "import warnings\n",
    "warnings.filterwarnings(\"ignore\")\n"
   ]
  },
  {
   "cell_type": "code",
   "execution_count": 2,
   "metadata": {},
   "outputs": [
    {
     "name": "stdout",
     "output_type": "stream",
     "text": [
      "<re.Match object; span=(35, 41), match='portal'>\n",
      "portal\n",
      "start index: 35\n",
      "end index: 41\n"
     ]
    }
   ],
   "source": [
    "match = re.search(r'portal','GeeksforGeeks: A computer science \\portal for geeks')\n",
    "print(match)\n",
    "print(match.group())\n",
    "\n",
    "print('start index:', match.start())\n",
    "print('end index:', match.end())"
   ]
  },
  {
   "cell_type": "code",
   "execution_count": 3,
   "metadata": {},
   "outputs": [
    {
     "name": "stdout",
     "output_type": "stream",
     "text": [
      "<re.Match object; span=(35, 41), match='portal'>\n",
      "portal\n"
     ]
    }
   ],
   "source": [
    "match = re.search(r'portal','GeeksforGeeks: A computer science \\portal for geeks')\n",
    "print(match)\n",
    "print(match.group())"
   ]
  },
  {
   "cell_type": "markdown",
   "metadata": {},
   "source": [
    "why regex?"
   ]
  },
  {
   "cell_type": "code",
   "execution_count": 4,
   "metadata": {},
   "outputs": [
    {
     "name": "stdout",
     "output_type": "stream",
     "text": [
      "['Geeks', 'Geeks', 'geeks']\n"
     ]
    }
   ],
   "source": [
    "print(re.findall(r'[Gg]eeks', 'GeeksforGeeks: \\ A computer science portal for geeks'))"
   ]
  },
  {
   "cell_type": "code",
   "execution_count": 5,
   "metadata": {},
   "outputs": [
    {
     "name": "stdout",
     "output_type": "stream",
     "text": [
      "range <re.Match object; span=(0, 1), match='G'>\n"
     ]
    }
   ],
   "source": [
    "print('range', re.search(r'[a-zA-Z]', 'Geeks'))"
   ]
  },
  {
   "cell_type": "markdown",
   "metadata": {},
   "source": [
    "\\A"
   ]
  },
  {
   "cell_type": "code",
   "execution_count": 6,
   "metadata": {},
   "outputs": [
    {
     "name": "stdout",
     "output_type": "stream",
     "text": [
      "True\n"
     ]
    }
   ],
   "source": [
    "text = \"Hello,World!\"\n",
    "pattern = r'\\AHello'\n",
    "\n",
    "match = re.match(pattern, text)\n",
    "print(bool(match))"
   ]
  },
  {
   "cell_type": "code",
   "execution_count": 7,
   "metadata": {},
   "outputs": [
    {
     "name": "stdout",
     "output_type": "stream",
     "text": [
      "<re.Match object; span=(0, 5), match='Hello'>\n"
     ]
    }
   ],
   "source": [
    "text = \"Hello,World!\"\n",
    "pattern = r'\\AHello'\n",
    "\n",
    "match = re.match(pattern, text)\n",
    "print(match)"
   ]
  },
  {
   "cell_type": "code",
   "execution_count": null,
   "metadata": {},
   "outputs": [
    {
     "name": "stdout",
     "output_type": "stream",
     "text": [
      "['Hello', 'Hello']\n"
     ]
    }
   ],
   "source": [
    "text = \"Hello,World! Hello again\"\n",
    "pattern = r'\\bHello\\b'\n",
    "\n",
    "matches = re.findall(pattern, text)\n",
    "print(matches)"
   ]
  },
  {
   "cell_type": "code",
   "execution_count": null,
   "metadata": {},
   "outputs": [
    {
     "name": "stdout",
     "output_type": "stream",
     "text": [
      "['Hell']\n"
     ]
    }
   ],
   "source": [
    "text = \"Hello,World!shell\"\n",
    "pattern = r'hell\\B'\n",
    "\n",
    "matches = re.findall(pattern, text, re.IGNORECASE)\n",
    "print(matches)"
   ]
  },
  {
   "cell_type": "code",
   "execution_count": 15,
   "metadata": {},
   "outputs": [
    {
     "name": "stdout",
     "output_type": "stream",
     "text": [
      "['hell']\n"
     ]
    }
   ],
   "source": [
    "text = \"Hello,World!shell\"\n",
    "pattern = r'\\Bhell'\n",
    "\n",
    "matches = re.findall(pattern, text, re.IGNORECASE)\n",
    "print(matches)"
   ]
  },
  {
   "cell_type": "code",
   "execution_count": 16,
   "metadata": {},
   "outputs": [
    {
     "name": "stdout",
     "output_type": "stream",
     "text": [
      "['1', '2', '3']\n"
     ]
    }
   ],
   "source": [
    "text = \"There are 123 apples\"\n",
    "pattern = r'\\d'\n",
    "\n",
    "matches = re.findall(pattern, text)\n",
    "print(matches)"
   ]
  },
  {
   "cell_type": "code",
   "execution_count": 17,
   "metadata": {},
   "outputs": [
    {
     "name": "stdout",
     "output_type": "stream",
     "text": [
      "['T', 'h', 'e', 'r', 'e', ' ', 'a', 'r', 'e', ' ', ' ', 'a', 'p', 'p', 'l', 'e', 's']\n"
     ]
    }
   ],
   "source": [
    "text = \"There are 123 apples\"\n",
    "pattern = r'\\D'\n",
    "\n",
    "matches = re.findall(pattern, text)\n",
    "print(matches)"
   ]
  },
  {
   "cell_type": "code",
   "execution_count": null,
   "metadata": {},
   "outputs": [
    {
     "name": "stdout",
     "output_type": "stream",
     "text": [
      "False\n"
     ]
    }
   ],
   "source": [
    "text = \"Hello,World!\"\n",
    "pattern = r'\\s'\n",
    "\n",
    "matches = re.findall(pattern, text)\n",
    "print(bool(matches))"
   ]
  },
  {
   "cell_type": "code",
   "execution_count": null,
   "metadata": {},
   "outputs": [
    {
     "name": "stdout",
     "output_type": "stream",
     "text": [
      "[]\n"
     ]
    }
   ],
   "source": [
    "text = \"Hello,World!\"\n",
    "pattern = r'\\s'\n",
    "\n",
    "matches = re.findall(pattern, text)\n",
    "print(matches)"
   ]
  },
  {
   "cell_type": "code",
   "execution_count": 13,
   "metadata": {},
   "outputs": [
    {
     "name": "stdout",
     "output_type": "stream",
     "text": [
      "['H', 'e', 'l', 'l', 'o', ',', 'W', 'o', 'r', 'l', 'd', '!']\n"
     ]
    }
   ],
   "source": [
    "text = \"Hello,World!\"\n",
    "pattern = r'\\S'\n",
    "\n",
    "matches = re.findall(pattern, text)\n",
    "print(matches)"
   ]
  },
  {
   "cell_type": "code",
   "execution_count": 12,
   "metadata": {},
   "outputs": [
    {
     "name": "stdout",
     "output_type": "stream",
     "text": [
      "['H', 'e', 'l', 'l', 'o', 'W', 'o', 'r', 'l', 'd', '1', '2', '3']\n"
     ]
    }
   ],
   "source": [
    "text = \"Hello,World! 123\"\n",
    "pattern = r'\\w'\n",
    "\n",
    "matches = re.findall(pattern, text)\n",
    "print(matches)"
   ]
  },
  {
   "cell_type": "code",
   "execution_count": null,
   "metadata": {},
   "outputs": [
    {
     "name": "stdout",
     "output_type": "stream",
     "text": [
      "H\n",
      "e\n",
      "l\n",
      "l\n",
      "o\n",
      "W\n",
      "o\n",
      "r\n",
      "l\n",
      "d\n",
      "1\n",
      "2\n",
      "3\n"
     ]
    }
   ],
   "source": [
    "text = \"Hello,World! 123\"\n",
    "pattern = r'\\w'\n",
    "\n",
    "matches = re.findall(pattern, text)\n",
    "for i in matches:\n",
    "    print(','.join(i))"
   ]
  },
  {
   "cell_type": "code",
   "execution_count": null,
   "metadata": {},
   "outputs": [
    {
     "name": "stdout",
     "output_type": "stream",
     "text": [
      "['#', ',', '!', ' ']\n"
     ]
    }
   ],
   "source": [
    "text = \"#Hello,World! 123\"\n",
    "pattern = r'\\W'\n",
    "\n",
    "matches = re.findall(pattern, text)\n",
    "print(matches)"
   ]
  },
  {
   "cell_type": "code",
   "execution_count": null,
   "metadata": {},
   "outputs": [
    {
     "name": "stdout",
     "output_type": "stream",
     "text": [
      ",\n",
      "!\n",
      " \n"
     ]
    }
   ],
   "source": [
    "text = \"Hello,World! 123\"\n",
    "pattern = r'\\W'\n",
    "\n",
    "matches = re.findall(pattern, text)\n",
    "for i in matches:\n",
    "    print(','.join(i))"
   ]
  },
  {
   "cell_type": "code",
   "execution_count": null,
   "metadata": {},
   "outputs": [
    {
     "ename": "TypeError",
     "evalue": "'tuple' object is not callable",
     "output_type": "error",
     "traceback": [
      "\u001b[1;31m---------------------------------------------------------------------------\u001b[0m",
      "\u001b[1;31mTypeError\u001b[0m                                 Traceback (most recent call last)",
      "Cell \u001b[1;32mIn[22], line 1\u001b[0m\n\u001b[1;32m----> 1\u001b[0m \u001b[38;5;28;43mprint\u001b[39;49m\u001b[43m(\u001b[49m\u001b[38;5;124;43m'\u001b[39;49m\u001b[38;5;124;43mefficiently:\u001b[39;49m\u001b[38;5;124;43m'\u001b[39;49m\u001b[43m,\u001b[49m\u001b[43m \u001b[49m\u001b[43mre\u001b[49m\u001b[38;5;241;43m.\u001b[39;49m\u001b[43mfindall\u001b[49m\u001b[43m(\u001b[49m\u001b[38;5;124;43mr\u001b[39;49m\u001b[38;5;124;43m'\u001b[39;49m\u001b[38;5;124;43m\\\u001b[39;49m\u001b[38;5;124;43mbefficiently\u001b[39;49m\u001b[38;5;124;43m\\\u001b[39;49m\u001b[38;5;124;43mb\u001b[39;49m\u001b[38;5;124;43m'\u001b[39;49m\u001b[43m,\u001b[49m\u001b[43m \u001b[49m\u001b[38;5;124;43m'\u001b[39;49m\u001b[38;5;124;43mregular expression is the best tool for data mining.It efficiently\u001b[39;49m\u001b[38;5;124;43m'\u001b[39;49m\u001b[43m)\u001b[49m\u001b[43m)\u001b[49m\n",
      "\u001b[1;31mTypeError\u001b[0m: 'tuple' object is not callable"
     ]
    }
   ],
   "source": [
    "print('efficiently:', re.findall(r'\\befficiently\\b', 'regular expression is the best tool for data mining.It efficiently'))"
   ]
  },
  {
   "cell_type": "code",
   "execution_count": null,
   "metadata": {},
   "outputs": [
    {
     "name": "stdout",
     "output_type": "stream",
     "text": [
      "jack@somehost.com\n"
     ]
    }
   ],
   "source": [
    "s = \"jack email is jack@somehost.com\"\n",
    "match = re.search(r'[\\w.-]+@[\\w.-]+',s)\n",
    "if match:\n",
    "    print(match.group())\n",
    "else:\n",
    "    print(\"match not found\")    "
   ]
  },
  {
   "cell_type": "code",
   "execution_count": null,
   "metadata": {},
   "outputs": [
    {
     "name": "stdout",
     "output_type": "stream",
     "text": [
      "jack@somehost.com\n",
      "jack\n",
      "somehost.com\n"
     ]
    }
   ],
   "source": [
    "s = \"jack email is jack@somehost.com\"\n",
    "match = re.search('([\\w.-]+)@([\\w.-]+)',s)\n",
    "if match:\n",
    "    print(match.group())\n",
    "    print(match.group(1))\n",
    "    print(match.group(2))"
   ]
  },
  {
   "cell_type": "code",
   "execution_count": null,
   "metadata": {},
   "outputs": [],
   "source": [
    "print =('GeeksforGeeks:', re.search(r'\\BGeeks\\b','GeeksforGeeks'))"
   ]
  },
  {
   "cell_type": "code",
   "execution_count": 5,
   "metadata": {},
   "outputs": [
    {
     "name": "stdout",
     "output_type": "stream",
     "text": [
      "Beg. of string: None\n",
      "Beg. of string: <re.Match object; span=(0, 4), match='Geek'>\n",
      "end of string: <re.Match object; span=(31, 36), match='Geeks'>\n"
     ]
    }
   ],
   "source": [
    "import re\n",
    "\n",
    "import warnings\n",
    "warnings.filterwarnings(\"ignore\")\n",
    "\n",
    "\n",
    "match = re.search(r'^month', 'campus geek of the month')\n",
    "print('Beg. of string:', match)\n",
    "\n",
    "match = re.search(r'^Geek', 'Geek of the month')\n",
    "print('Beg. of string:', match)\n",
    "\n",
    "match = re.search(r'Geeks$', 'compute science portal-GeeksforGeeks')\n",
    "print('end of string:', match)"
   ]
  },
  {
   "cell_type": "code",
   "execution_count": null,
   "metadata": {},
   "outputs": [],
   "source": []
  },
  {
   "cell_type": "code",
   "execution_count": 6,
   "metadata": {},
   "outputs": [
    {
     "name": "stdout",
     "output_type": "stream",
     "text": [
      "Any Character <re.Match object; span=(8, 15), match='science'>\n"
     ]
    }
   ],
   "source": [
    "print('Any Character',re.search(r's.i.nc.','compute science portal-GeeksforGeeks'))"
   ]
  },
  {
   "cell_type": "code",
   "execution_count": 7,
   "metadata": {},
   "outputs": [
    {
     "name": "stdout",
     "output_type": "stream",
     "text": [
      "08\n",
      "{'dd': '26', 'mm': '08', 'yyyy': '2020'}\n"
     ]
    }
   ],
   "source": [
    "match = re.search(r'(?P<dd>[\\d]{2})-(?P<mm>[\\d]{2})-(?P<yyyy>[\\d]{4})','26-08-2020')\n",
    "print(match.group('mm'))\n",
    "print(match.groupdict())\n"
   ]
  },
  {
   "cell_type": "code",
   "execution_count": 14,
   "metadata": {},
   "outputs": [
    {
     "name": "stdout",
     "output_type": "stream",
     "text": [
      "26-08-2020\n"
     ]
    }
   ],
   "source": [
    "match = re.search(r'\\b\\d{2}-\\d{2}-\\d{4}\\b', '26-08-2020')\n",
    "if match:\n",
    "    print(match.group())"
   ]
  },
  {
   "cell_type": "code",
   "execution_count": 20,
   "metadata": {},
   "outputs": [
    {
     "name": "stdout",
     "output_type": "stream",
     "text": [
      "hello\n",
      "Any Character <re.Match object; span=(8, 15), match='science'>\n"
     ]
    }
   ],
   "source": [
    "text = \"hello World\"\n",
    "pattern = r\"h.llo\"\n",
    "match = re.search(pattern, text)\n",
    "print(match.group())\n",
    "\n",
    "print('Any Character',re.search(r's.i.nc.','compute science portal-GeeksforGeeks'))"
   ]
  },
  {
   "cell_type": "code",
   "execution_count": 30,
   "metadata": {},
   "outputs": [
    {
     "name": "stdout",
     "output_type": "stream",
     "text": [
      "hello\n",
      "Beg. of string: None\n",
      "Beg. of string: <re.Match object; span=(0, 4), match='Geek'>\n"
     ]
    }
   ],
   "source": [
    "text = \"hello World\"\n",
    "pattern = r\"^hello\"\n",
    "match = re.search(pattern, text)\n",
    "print(match.group())\n",
    "\n",
    "match = re.search(r'^month', 'campus geek of the month')\n",
    "print('Beg. of string:', match)\n",
    "\n",
    "match = re.search(r'^Geek', 'Geek of the month')\n",
    "print('Beg. of string:', match)\n"
   ]
  },
  {
   "cell_type": "code",
   "execution_count": 2,
   "metadata": {},
   "outputs": [
    {
     "name": "stdout",
     "output_type": "stream",
     "text": [
      "World\n",
      "end of string: None\n"
     ]
    },
    {
     "name": "stderr",
     "output_type": "stream",
     "text": [
      "<>:10: SyntaxWarning: invalid escape sequence '\\p'\n",
      "<>:10: SyntaxWarning: invalid escape sequence '\\p'\n",
      "C:\\Users\\admin\\AppData\\Local\\Temp\\ipykernel_2216\\4143826796.py:10: SyntaxWarning: invalid escape sequence '\\p'\n",
      "  match = re.search(r'Geeks$',' A computer science \\portal for geeks')\n"
     ]
    }
   ],
   "source": [
    "import re\n",
    "\n",
    "import warnings\n",
    "warnings.filterwarnings(\"ignore\")\n",
    "\n",
    "text = \"hello World\"\n",
    "pattern = r\"World$\"\n",
    "match = re.search(pattern, text)\n",
    "print(match.group())\n",
    "\n",
    "match = re.search(r'Geeks$',' A computer science \\portal for geeks')\n",
    "print('end of string:',match)"
   ]
  },
  {
   "cell_type": "code",
   "execution_count": 25,
   "metadata": {},
   "outputs": [
    {
     "name": "stdout",
     "output_type": "stream",
     "text": [
      "heeeello\n"
     ]
    }
   ],
   "source": [
    "text = \"heeeello\"\n",
    "pattern = r\"he*llo\"\n",
    "match = re.search(pattern, text)\n",
    "print(match.group())"
   ]
  },
  {
   "cell_type": "code",
   "execution_count": 26,
   "metadata": {},
   "outputs": [
    {
     "name": "stdout",
     "output_type": "stream",
     "text": [
      "heeeello\n"
     ]
    }
   ],
   "source": [
    "text = \"heeeello\"\n",
    "pattern = r\"he+llo\"\n",
    "match = re.search(pattern, text)\n",
    "print(match.group())"
   ]
  },
  {
   "cell_type": "code",
   "execution_count": 27,
   "metadata": {},
   "outputs": [
    {
     "name": "stdout",
     "output_type": "stream",
     "text": [
      "<re.Match object; span=(0, 5), match='hello'>\n"
     ]
    }
   ],
   "source": [
    "text = \"hello\"\n",
    "pattern = r\"he?llo\"\n",
    "match = re.search(pattern, text)\n",
    "print(match)"
   ]
  },
  {
   "cell_type": "code",
   "execution_count": 28,
   "metadata": {},
   "outputs": [
    {
     "name": "stdout",
     "output_type": "stream",
     "text": [
      "$5\n"
     ]
    }
   ],
   "source": [
    "text = \"do you have $5?\"\n",
    "pattern = r\"\\$5\"\n",
    "match = re.search(pattern, text)\n",
    "print(match.group())"
   ]
  },
  {
   "cell_type": "markdown",
   "metadata": {},
   "source": [
    "character classes:"
   ]
  },
  {
   "cell_type": "code",
   "execution_count": 32,
   "metadata": {},
   "outputs": [
    {
     "name": "stdout",
     "output_type": "stream",
     "text": [
      "['a', 'b', 'a', 'a', 'a', 'c']\n"
     ]
    }
   ],
   "source": [
    "text = \"apple banana cherry\"\n",
    "pattern = r\"[abc]\"\n",
    "matches = re.findall(pattern,text)\n",
    "print(matches)"
   ]
  },
  {
   "cell_type": "code",
   "execution_count": 33,
   "metadata": {},
   "outputs": [
    {
     "name": "stdout",
     "output_type": "stream",
     "text": [
      "['e', 'l', 'l', 'o', 'o', 'r', 'l', 'd']\n"
     ]
    }
   ],
   "source": [
    "text = \"Hello World\"\n",
    "pattern = r\"[a-z]\"\n",
    "matches = re.findall(pattern,text)\n",
    "print(matches)"
   ]
  },
  {
   "cell_type": "code",
   "execution_count": 34,
   "metadata": {},
   "outputs": [
    {
     "name": "stdout",
     "output_type": "stream",
     "text": [
      "['H', 'W']\n"
     ]
    }
   ],
   "source": [
    "text = \"Hello World\"\n",
    "pattern = r\"[A-Z]\"\n",
    "matches = re.findall(pattern,text)\n",
    "print(matches)"
   ]
  },
  {
   "cell_type": "code",
   "execution_count": 35,
   "metadata": {},
   "outputs": [
    {
     "name": "stdout",
     "output_type": "stream",
     "text": [
      "['1', '2', '3', '4', '5']\n"
     ]
    }
   ],
   "source": [
    "text = \"order number:12345\"\n",
    "pattern = r\"[0-9]\"\n",
    "matches = re.findall(pattern,text)\n",
    "print(matches)"
   ]
  },
  {
   "cell_type": "code",
   "execution_count": 36,
   "metadata": {},
   "outputs": [
    {
     "data": {
      "text/plain": [
       "['123']"
      ]
     },
     "execution_count": 36,
     "metadata": {},
     "output_type": "execute_result"
    }
   ],
   "source": [
    "re.findall(r'[0-9]+','abc123xyz')"
   ]
  },
  {
   "cell_type": "code",
   "execution_count": 37,
   "metadata": {},
   "outputs": [
    {
     "name": "stdout",
     "output_type": "stream",
     "text": [
      "[' ', 'b', 'n', 'n', ' ', 'c', 'h', 'r', 'r', 'y']\n"
     ]
    }
   ],
   "source": [
    "text = \"apple banana cherry\"\n",
    "pattern = r\"[^apple]\"\n",
    "matches = re.findall(pattern,text)\n",
    "print(matches)"
   ]
  },
  {
   "cell_type": "code",
   "execution_count": 3,
   "metadata": {},
   "outputs": [
    {
     "name": "stdout",
     "output_type": "stream",
     "text": [
      "['p', 'p', 'l', 'e', ' ', 'n', 'n', ' ', 'h', 'e', 'r', 'r', 'y']\n"
     ]
    }
   ],
   "source": [
    "text = \"apple banana cherry\"\n",
    "pattern = r\"[^abc]\"\n",
    "matches = re.findall(pattern,text)\n",
    "print(matches)"
   ]
  },
  {
   "cell_type": "markdown",
   "metadata": {},
   "source": [
    "Quantifiers"
   ]
  },
  {
   "cell_type": "code",
   "execution_count": 38,
   "metadata": {},
   "outputs": [
    {
     "name": "stdout",
     "output_type": "stream",
     "text": [
      "ooo\n"
     ]
    }
   ],
   "source": [
    "text = \"hellooo\"\n",
    "pattern = r\"o{3}\"\n",
    "match = re.search(pattern,text)\n",
    "print(match.group())"
   ]
  },
  {
   "cell_type": "code",
   "execution_count": 39,
   "metadata": {},
   "outputs": [
    {
     "name": "stdout",
     "output_type": "stream",
     "text": [
      "ooooo\n"
     ]
    }
   ],
   "source": [
    "text = \"helloooooo\"\n",
    "pattern = r\"o{3,5}\"\n",
    "match = re.search(pattern,text)\n",
    "print(match.group())"
   ]
  },
  {
   "cell_type": "code",
   "execution_count": 41,
   "metadata": {},
   "outputs": [
    {
     "name": "stdout",
     "output_type": "stream",
     "text": [
      "['color', 'colour']\n"
     ]
    }
   ],
   "source": [
    "text = \"color or colour\"\n",
    "pattern = r\"colou?r\"\n",
    "match = re.findall(pattern,text)\n",
    "print(match)"
   ]
  },
  {
   "cell_type": "code",
   "execution_count": 42,
   "metadata": {},
   "outputs": [
    {
     "name": "stdout",
     "output_type": "stream",
     "text": [
      "08\n",
      "{'dd': '26', 'mm': '08', 'yyyy': '2020'}\n"
     ]
    }
   ],
   "source": [
    "match = re.search(r'(?P<dd>[\\d]{2})-(?P<mm>[\\d]{2})-(?P<yyyy>[\\d]{4})','26-08-2020')\n",
    "print(match.group('mm'))\n",
    "print(match.groupdict())"
   ]
  },
  {
   "cell_type": "code",
   "execution_count": 43,
   "metadata": {},
   "outputs": [
    {
     "name": "stdout",
     "output_type": "stream",
     "text": [
      "26-08-2020\n"
     ]
    }
   ],
   "source": [
    "match = re.search(r'\\b\\d{2}-\\d{2}-\\d{4}\\b', '26-08-2020')\n",
    "if match:\n",
    "    print(match.group())"
   ]
  },
  {
   "cell_type": "code",
   "execution_count": 44,
   "metadata": {},
   "outputs": [
    {
     "name": "stdout",
     "output_type": "stream",
     "text": [
      "['118', '136', '201', '305']\n"
     ]
    }
   ],
   "source": [
    "print(re.findall(r'[\\d]{3}','5th floor, a-118,\\sector-136, noida,uttra pradesh - 201305'))"
   ]
  },
  {
   "cell_type": "code",
   "execution_count": 45,
   "metadata": {},
   "outputs": [
    {
     "name": "stdout",
     "output_type": "stream",
     "text": [
      "1111222233334444\n"
     ]
    }
   ],
   "source": [
    "print(re.sub(r'([\\d]{4})-([\\d]{4})-([\\d]{4})-([\\d]{4})',r'\\1\\2\\3\\4', '1111-2222-3333-4444'))"
   ]
  },
  {
   "cell_type": "markdown",
   "metadata": {},
   "source": [
    "anchors"
   ]
  },
  {
   "cell_type": "code",
   "execution_count": 47,
   "metadata": {},
   "outputs": [
    {
     "name": "stdout",
     "output_type": "stream",
     "text": [
      "['2023']\n"
     ]
    }
   ],
   "source": [
    "pattern = r\"\\d+\"\n",
    "string = \"The year is 2023\"\n",
    "match = re.findall(pattern, string)\n",
    "print(match)"
   ]
  },
  {
   "cell_type": "code",
   "execution_count": 48,
   "metadata": {},
   "outputs": [
    {
     "name": "stdout",
     "output_type": "stream",
     "text": [
      "['e', 'b', 'o', 'n', 'f', 'o', 'j', 'm', 'o', 'e', 'h', 'e', 'l', 'a', 'd', 'o', 'g']\n"
     ]
    }
   ],
   "source": [
    "p= re.compile('[a-o]')\n",
    "print(p.findall(\"Aye, brown fox jumps over the lazy dog\"))"
   ]
  },
  {
   "cell_type": "code",
   "execution_count": 50,
   "metadata": {},
   "outputs": [
    {
     "name": "stdout",
     "output_type": "stream",
     "text": [
      "['1', '1', '4', '1', '8', '8', '6']\n"
     ]
    }
   ],
   "source": [
    "p= re.compile('\\d')\n",
    "print(p.findall(\"i went to him at 11 A.M., on 4th july 1886\"))"
   ]
  },
  {
   "cell_type": "code",
   "execution_count": 51,
   "metadata": {},
   "outputs": [
    {
     "name": "stdout",
     "output_type": "stream",
     "text": [
      "['i', 'went', 'to', 'him', 'at', '11', 'A', 'M', 'he', 'said', 'in', 'some_language']\n"
     ]
    }
   ],
   "source": [
    "p= re.compile('\\w+')\n",
    "print(p.findall(\"i went to him at 11 A.M., he \\said **** in some_language.\"))"
   ]
  },
  {
   "cell_type": "code",
   "execution_count": 52,
   "metadata": {},
   "outputs": [
    {
     "name": "stdout",
     "output_type": "stream",
     "text": [
      "['support@example.com']\n"
     ]
    }
   ],
   "source": [
    "email_pattern = r'[a-zA-Z0-9._%+-]+@[a-zA-z0-9.-]+\\.[a-zA-Z]{2,}'\n",
    "email_pattern1 = r'[\\w.-]+@[\\w.-]+'\n",
    "\n",
    "test_string = \"please contact us at support@example.com for further assistance.\"\n",
    "match = re.findall(email_pattern1, test_string)\n",
    "\n",
    "print(match)"
   ]
  },
  {
   "cell_type": "markdown",
   "metadata": {},
   "source": [
    "The split function()"
   ]
  },
  {
   "cell_type": "code",
   "execution_count": 53,
   "metadata": {},
   "outputs": [
    {
     "name": "stdout",
     "output_type": "stream",
     "text": [
      "['The', 'rain', 'in', 'hyderabad']\n"
     ]
    }
   ],
   "source": [
    "txt = \"The rain in hyderabad\"\n",
    "x = re.split(r\"\\s\", txt)\n",
    "print(x)"
   ]
  },
  {
   "cell_type": "code",
   "execution_count": 54,
   "metadata": {},
   "outputs": [
    {
     "name": "stdout",
     "output_type": "stream",
     "text": [
      "['Twelve:', ' Eighty nine:', '.']\n"
     ]
    }
   ],
   "source": [
    "string = 'Twelve:12 Eighty nine:89.'\n",
    "pattern = '\\d+'\n",
    "result = re.split(pattern,string)\n",
    "print(result)\n"
   ]
  },
  {
   "cell_type": "code",
   "execution_count": 56,
   "metadata": {},
   "outputs": [
    {
     "name": "stdout",
     "output_type": "stream",
     "text": [
      "Regular expressions can include literal characters\n"
     ]
    }
   ],
   "source": [
    "z = 'Regular expressions can include literal characters'\n",
    "x = re.split(r\"\\s\",z)\n",
    "print(z)"
   ]
  },
  {
   "cell_type": "markdown",
   "metadata": {},
   "source": [
    "re.sub()"
   ]
  },
  {
   "cell_type": "code",
   "execution_count": 57,
   "metadata": {},
   "outputs": [
    {
     "name": "stdout",
     "output_type": "stream",
     "text": [
      "The9king9in9the9north9claims9he9is9worthy\n"
     ]
    }
   ],
   "source": [
    "txt = \"The king in the north claims he is worthy\"\n",
    "x = re.sub(\"\\s\",\"9\", txt)\n",
    "print(x)"
   ]
  },
  {
   "cell_type": "code",
   "execution_count": 58,
   "metadata": {},
   "outputs": [
    {
     "name": "stdout",
     "output_type": "stream",
     "text": [
      "1111222233334444\n"
     ]
    }
   ],
   "source": [
    "print(re.sub(r'([\\d]{4})-([\\d]{4})-([\\d]{4})-([\\d]{4})',r'\\1\\2\\3\\4', '1111-2222-3333-4444'))"
   ]
  },
  {
   "cell_type": "code",
   "execution_count": 59,
   "metadata": {},
   "outputs": [
    {
     "name": "stdout",
     "output_type": "stream",
     "text": [
      "The9king9in9the9north claims he is worthy\n"
     ]
    }
   ],
   "source": [
    "txt = \"The king in the north claims he is worthy\"\n",
    "x = re.sub(\"\\s\",\"9\", txt,4)\n",
    "print(x)"
   ]
  },
  {
   "cell_type": "code",
   "execution_count": 60,
   "metadata": {},
   "outputs": [
    {
     "name": "stdout",
     "output_type": "stream",
     "text": [
      "phone num:  2004-959-559\n",
      "phone num: 2004959559\n"
     ]
    }
   ],
   "source": [
    "phone = \"2004-959-559# This is phone Number\"\n",
    "num = re.sub(r'#.*$',\"\", phone)\n",
    "print(\"phone num: \",num)\n",
    "num = re.sub(r'\\D',\"\",phone)\n",
    "print(\"phone num:\", num)"
   ]
  },
  {
   "cell_type": "markdown",
   "metadata": {},
   "source": [
    "re.subn()"
   ]
  },
  {
   "cell_type": "code",
   "execution_count": 64,
   "metadata": {},
   "outputs": [
    {
     "name": "stdout",
     "output_type": "stream",
     "text": [
      "('s~*ject has Uber booked already', 1)\n",
      "('s~*ject has ~*er booked already', 2)\n"
     ]
    }
   ],
   "source": [
    "print(re.subn('ub', '~*', 'subject has Uber booked already'))\n",
    "t = re.subn('UB', '~*', 'subject has Uber booked already',flags=re.IGNORECASE)\n",
    "print(t)"
   ]
  },
  {
   "cell_type": "code",
   "execution_count": 65,
   "metadata": {},
   "outputs": [
    {
     "name": "stdout",
     "output_type": "stream",
     "text": [
      "('abc12\\\\de23f456', 5)\n"
     ]
    }
   ],
   "source": [
    "string = 'abc 12\\ de 23 \\n f45 6'\n",
    "pattern = '\\s+'\n",
    "replace = ''\n",
    "new_string = re.subn(pattern, replace, string)\n",
    "print(new_string)"
   ]
  },
  {
   "cell_type": "markdown",
   "metadata": {},
   "source": [
    "re.escape()"
   ]
  },
  {
   "cell_type": "code",
   "execution_count": 8,
   "metadata": {},
   "outputs": [
    {
     "name": "stdout",
     "output_type": "stream",
     "text": [
      "This\\ is\\ awesome\\ even\\ 1\\ AM\n"
     ]
    }
   ],
   "source": [
    "print(re.escape(\"This is awesome even 1 AM\"))"
   ]
  },
  {
   "cell_type": "code",
   "execution_count": 12,
   "metadata": {},
   "outputs": [
    {
     "name": "stdout",
     "output_type": "stream",
     "text": [
      "I\\ Asked\\ what\\ is\\ this\\ \\[a\\-9\\],\\ he\\ said\\ \\\t\\ \\^wow\n"
     ]
    }
   ],
   "source": [
    "print(re.escape(\"I Asked what is this [a-9], he said \\t ^wow\"))"
   ]
  },
  {
   "cell_type": "code",
   "execution_count": 13,
   "metadata": {},
   "outputs": [
    {
     "name": "stdout",
     "output_type": "stream",
     "text": [
      "pattern: price:\\ \\$100\\.00\n",
      "match found: price: $100.00\n"
     ]
    }
   ],
   "source": [
    "pattern = re.escape(\"price: $100.00\")\n",
    "text = \" the total cost is price: $100.00.\"\n",
    "\n",
    "match = re.search(pattern, text)\n",
    "print(\"pattern:\",pattern)\n",
    "\n",
    "if match:\n",
    "    print(\"match found:\", match.group())\n",
    "else:\n",
    "    print(\"no match found\")    "
   ]
  },
  {
   "cell_type": "code",
   "execution_count": 75,
   "metadata": {},
   "outputs": [
    {
     "data": {
      "text/plain": [
       "['Note 1 - Overview', 'Note 2 - Summary of Significant Accounting Policies']"
      ]
     },
     "execution_count": 75,
     "metadata": {},
     "output_type": "execute_result"
    }
   ],
   "source": [
    "text = '''\n",
    "Note 1 - Overview\n",
    "Tesla, Inc. (“Tesla”, the “Company”, “we”, “us” or “our”) was incorporated in the State \n",
    "products. Our Chief Executive Officer, as the chief operating decision maker (“CODM”), o\n",
    "Beginning in the first quarter of 2021, there has been a trend in many parts of the worl\n",
    "against COVID-19, as well as an easing of restrictions on social, business, travel and g\n",
    "rates and regulations continue to fluctuate in various regions and there are ongoing glo\n",
    "and increases in costs for logistics and supply chains, such as increased port congestio\n",
    "supply. We have also previously been affected by temporary manufacturing closures, emplo\n",
    "administrative activities supporting our product deliveries and deployments.\n",
    "Note 2 - Summary of Significant Accounting Policies\n",
    "Unaudited Interim Financial Statements\n",
    "The consolidated balance sheet as of September 30, 2021, the consolidated statements of \n",
    "comprehensive income, the consolidated statements of redeemable noncontrolling interests\n",
    "30, 2021 and 2020 and the consolidated statements of cash flows for the nine months ende\n",
    "disclosed in the accompanying notes, are unaudited. The consolidated balance sheet as of\n",
    "consolidated financial statements as of that date. The interim consolidated financial st\n",
    "conjunction with the annual consolidated financial statements and the accompanying notes\n",
    "ended December 31, 2020.\n",
    "'''\n",
    "pattern = \"Note \\d - [^\\n]+\"\n",
    "re.findall(pattern,text)"
   ]
  },
  {
   "cell_type": "code",
   "execution_count": 83,
   "metadata": {},
   "outputs": [
    {
     "name": "stdout",
     "output_type": "stream",
     "text": [
      "['(“Tesla”, the “Company”, “we”, “us” or “our”)']\n"
     ]
    }
   ],
   "source": [
    "pattern = r'\\(\\“Tesla\\”, the \\“Company\\”, \\“we\\”, \\“us\\” or \\“our\\”\\)'\n",
    "matches = re.findall(pattern,text)\n",
    "print(matches)"
   ]
  },
  {
   "cell_type": "code",
   "execution_count": 76,
   "metadata": {},
   "outputs": [
    {
     "name": "stdout",
     "output_type": "stream",
     "text": [
      "['Note', '1', 'Overview', 'Tesla', 'Inc', 'Tesla', 'the', 'Company', 'we', 'us', 'or', 'our', 'was', 'incorporated', 'in', 'the', 'State', 'products', 'Our', 'Chief', 'Executive', 'Officer', 'as', 'the', 'chief', 'operating', 'decision', 'maker', 'CODM', 'o', 'Beginning', 'in', 'the', 'first', 'quarter', 'of', '2021', 'there', 'has', 'been', 'a', 'trend', 'in', 'many', 'parts', 'of', 'the', 'worl', 'against', 'COVID', '19', 'as', 'well', 'as', 'an', 'easing', 'of', 'restrictions', 'on', 'social', 'business', 'travel', 'and', 'g', 'rates', 'and', 'regulations', 'continue', 'to', 'fluctuate', 'in', 'various', 'regions', 'and', 'there', 'are', 'ongoing', 'glo', 'and', 'increases', 'in', 'costs', 'for', 'logistics', 'and', 'supply', 'chains', 'such', 'as', 'increased', 'port', 'congestio', 'supply', 'We', 'have', 'also', 'previously', 'been', 'affected', 'by', 'temporary', 'manufacturing', 'closures', 'emplo', 'administrative', 'activities', 'supporting', 'our', 'product', 'deliveries', 'and', 'deployments', 'Note', '2', 'Summary', 'of', 'Significant', 'Accounting', 'Policies', 'Unaudited', 'Interim', 'Financial', 'Statements', 'The', 'consolidated', 'balance', 'sheet', 'as', 'of', 'September', '30', '2021', 'the', 'consolidated', 'statements', 'of', 'comprehensive', 'income', 'the', 'consolidated', 'statements', 'of', 'redeemable', 'noncontrolling', 'interests', '30', '2021', 'and', '2020', 'and', 'the', 'consolidated', 'statements', 'of', 'cash', 'flows', 'for', 'the', 'nine', 'months', 'ende', 'disclosed', 'in', 'the', 'accompanying', 'notes', 'are', 'unaudited', 'The', 'consolidated', 'balance', 'sheet', 'as', 'of', 'consolidated', 'financial', 'statements', 'as', 'of', 'that', 'date', 'The', 'interim', 'consolidated', 'financial', 'st', 'conjunction', 'with', 'the', 'annual', 'consolidated', 'financial', 'statements', 'and', 'the', 'accompanying', 'notes', 'ended', 'December', '31', '2020']\n"
     ]
    }
   ],
   "source": [
    "pattern = r'\\w+'\n",
    "matches = re.findall(pattern,text)\n",
    "print(matches)\n"
   ]
  },
  {
   "cell_type": "code",
   "execution_count": 16,
   "metadata": {},
   "outputs": [
    {
     "data": {
      "text/plain": [
       "['1', '2021', '19', '2', '30', '2021', '30', '2021', '2020', '31', '2020']"
      ]
     },
     "execution_count": 16,
     "metadata": {},
     "output_type": "execute_result"
    }
   ],
   "source": [
    "pattern = r'\\d+'\n",
    "re.findall(pattern,text)"
   ]
  },
  {
   "cell_type": "code",
   "execution_count": 17,
   "metadata": {},
   "outputs": [
    {
     "data": {
      "text/plain": [
       "['September 30, 2021', 'December 31, 2020']"
      ]
     },
     "execution_count": 17,
     "metadata": {},
     "output_type": "execute_result"
    }
   ],
   "source": [
    "pattern = r'\\w+ \\d{2}, \\d{4}'\n",
    "re.findall(pattern,text, flags=re.IGNORECASE)"
   ]
  },
  {
   "cell_type": "code",
   "execution_count": 18,
   "metadata": {},
   "outputs": [
    {
     "data": {
      "text/plain": [
       "['2021', '2021', '2021', '2020', '2020']"
      ]
     },
     "execution_count": 18,
     "metadata": {},
     "output_type": "execute_result"
    }
   ],
   "source": [
    "pattern = r'\\d{4}'\n",
    "re.findall(pattern,text, flags=re.IGNORECASE)"
   ]
  },
  {
   "cell_type": "markdown",
   "metadata": {},
   "source": [
    "remove capital and small letters"
   ]
  },
  {
   "cell_type": "code",
   "execution_count": 86,
   "metadata": {},
   "outputs": [
    {
     "data": {
      "text/plain": [
       "['FY2021 Q1', 'FY2020 Q4', 'FY2021 Q5']"
      ]
     },
     "execution_count": 86,
     "metadata": {},
     "output_type": "execute_result"
    }
   ],
   "source": [
    "text = '''The gross cost of operating lease vehicles in FY2021 Q1 was $4.85 billion.\n",
    "In previous quuarter i.e. FY2020 Q4 it was $3 billion. FY2021 Q5.\n",
    "'''\n",
    "pattern = \"FY\\d{4} Q[1-5]\"\n",
    "re.findall(pattern,text)"
   ]
  },
  {
   "cell_type": "markdown",
   "metadata": {},
   "source": [
    "extract phone number"
   ]
  },
  {
   "cell_type": "code",
   "execution_count": 22,
   "metadata": {},
   "outputs": [
    {
     "name": "stdout",
     "output_type": "stream",
     "text": [
      "['1234578912']\n",
      "['(123)-457-8912,']\n"
     ]
    }
   ],
   "source": [
    "chat1  = 'codebasics: you ask lot of questions 1234578912, abcp@xyz.com'\n",
    "chat2  = 'codebasics: here it is: (123)-457-8912, abc_29@xyz.in'\n",
    "chat3  = 'codebasics: yes, phone: 1234578912,email: abc@xyz.com'\n",
    "\n",
    "pattern = '\\d{10,}'\n",
    "matches = re.findall(pattern,chat1)\n",
    "print(matches)\n",
    "\n",
    "pattern1 = r'\\(\\d{3}\\)-\\d{3}-\\d{4},'\n",
    "matches1 = re.findall(pattern1,chat2)\n",
    "print(matches1)\n"
   ]
  },
  {
   "cell_type": "code",
   "execution_count": 23,
   "metadata": {},
   "outputs": [
    {
     "data": {
      "text/plain": [
       "['codebasics: you ask lot of questions 1234578912, abcp@xyz.com',\n",
       " 'codebasics: here it is: (123)-457-8912, abc_29@xyz.in',\n",
       " 'codebasics: yes, phone: 1234578912,email: abc@xyz.com']"
      ]
     },
     "execution_count": 23,
     "metadata": {},
     "output_type": "execute_result"
    }
   ],
   "source": [
    "a = [chat1,chat2,chat3]\n",
    "a"
   ]
  },
  {
   "cell_type": "code",
   "execution_count": 24,
   "metadata": {},
   "outputs": [
    {
     "name": "stdout",
     "output_type": "stream",
     "text": [
      "['abcp@xyz.com']\n",
      "['abc_29@xyz.in']\n",
      "['abc@xyz.com']\n"
     ]
    }
   ],
   "source": [
    "pattern = r'[\\w.-]+@[\\w.-]+'\n",
    "\n",
    "for i in a:\n",
    "    print(re.findall(pattern, i))"
   ]
  },
  {
   "cell_type": "code",
   "execution_count": 70,
   "metadata": {},
   "outputs": [
    {
     "name": "stdout",
     "output_type": "stream",
     "text": [
      "['(123)-457-8912']\n"
     ]
    }
   ],
   "source": [
    "pattern = r'\\(\\d{3}\\)-\\d{3}-\\d{4}'\n",
    "matches = re.findall(pattern,chat2)\n",
    "print(matches)\n"
   ]
  },
  {
   "cell_type": "markdown",
   "metadata": {},
   "source": [
    "create a text file"
   ]
  },
  {
   "cell_type": "code",
   "execution_count": 30,
   "metadata": {},
   "outputs": [],
   "source": [
    "lines = [\n",
    "    \"The quick brown fox jumps over the lazy dog.\",\n",
    "    \"Python is an amazing programming language.\",\n",
    "    \"Regular expressions are powerful tools.\",\n",
    "    \"I love coding in Python.\",\n",
    "    \"Data science is a growing field.\",\n",
    "    \"Machine learning and AI are the future.\",\n",
    "    \"Exploratory data analysis is crucial.\",\n",
    "    \"Visualization makes data easier to understand.\",\n",
    "    \"Python has a rich set of libraries.\",\n",
    "    \"Automation can save a lot of time.\"\n",
    "]\n",
    "with open('sample_text.txt',\"w\") as file:\n",
    "    for line in lines:\n",
    "        file.write(line+\"\\n\")"
   ]
  },
  {
   "cell_type": "code",
   "execution_count": 31,
   "metadata": {},
   "outputs": [
    {
     "name": "stdout",
     "output_type": "stream",
     "text": [
      "Found matches: ['The', 'Python', 'Regular', 'Python', 'Data', 'Machine', 'Exploratory', 'Visualization', 'Python', 'Automation']\n"
     ]
    }
   ],
   "source": [
    "with open('sample_text.txt',\"r\") as file:\n",
    "    content = file.read()\n",
    "    \n",
    "pattern = r\"[A-Z][a-z]+\"   \n",
    "\n",
    "matches = re.findall(pattern, content) \n",
    "\n",
    "print(\"Found matches:\", matches)"
   ]
  },
  {
   "cell_type": "markdown",
   "metadata": {},
   "source": [
    "email extraction"
   ]
  },
  {
   "cell_type": "code",
   "execution_count": 45,
   "metadata": {},
   "outputs": [],
   "source": [
    "mixed_strings = [\n",
    "    \"test@example.com\",\n",
    "    \"123-456-7890\",\n",
    "    \"Start this string\",\n",
    "    \"This string ends with End\",\n",
    "    \"123456\",\n",
    "    \"Contains whitespace \",\n",
    "    \"pretest and posttest\",\n",
    "    \"@#!$%\",\n",
    "    \"5This does not start with a digit\",\n",
    "    \"NoWhitespaceHere\"\n",
    "]"
   ]
  },
  {
   "cell_type": "code",
   "execution_count": 47,
   "metadata": {},
   "outputs": [
    {
     "name": "stdout",
     "output_type": "stream",
     "text": [
      "Email addresses: ['test@example.com']\n"
     ]
    }
   ],
   "source": [
    "email_pattern = r'[\\w.-]+@[\\w.-]+'\n",
    "\n",
    "emails=[]\n",
    "for s in mixed_strings:\n",
    "    if re.search(email_pattern,s):\n",
    "        emails.append(s)\n",
    "        \n",
    "print(\"Email addresses:\", emails)        \n",
    "        "
   ]
  },
  {
   "cell_type": "code",
   "execution_count": 61,
   "metadata": {},
   "outputs": [
    {
     "name": "stdout",
     "output_type": "stream",
     "text": [
      "phone numbers: ['123-456-7890']\n"
     ]
    }
   ],
   "source": [
    "phone_pattern = r'\\d{3}-\\d{3}-\\d{4}'\n",
    "\n",
    "phones=[]\n",
    "for s in mixed_strings:\n",
    "    if re.search(phone_pattern, s):\n",
    "        phones.append(s)\n",
    "        \n",
    "print(\"phone numbers:\", phones)        \n",
    "        "
   ]
  },
  {
   "cell_type": "code",
   "execution_count": 63,
   "metadata": {},
   "outputs": [
    {
     "name": "stdout",
     "output_type": "stream",
     "text": [
      "phone numbers: []\n"
     ]
    }
   ],
   "source": [
    "phone_pattern = r'\\(\\d{3}\\)-\\d{3}-\\d{4}'\n",
    "\n",
    "phones=[]\n",
    "for s in mixed_strings:\n",
    "    if re.search(phone_pattern, s):\n",
    "        phones.append(s)\n",
    "        \n",
    "print(\"phone numbers:\", phones)  "
   ]
  },
  {
   "cell_type": "code",
   "execution_count": 54,
   "metadata": {},
   "outputs": [
    {
     "name": "stdout",
     "output_type": "stream",
     "text": [
      "strings ending with end: ['This string ends with End']\n"
     ]
    }
   ],
   "source": [
    "end_pattern = r'End\\Z'\n",
    "\n",
    "ends_with_pattern=[]\n",
    "for s in mixed_strings:\n",
    "    if re.search(end_pattern, s):\n",
    "        ends_with_pattern.append(s)\n",
    "        \n",
    "print(\"strings ending with end:\",ends_with_pattern) "
   ]
  },
  {
   "cell_type": "code",
   "execution_count": 55,
   "metadata": {},
   "outputs": [
    {
     "name": "stdout",
     "output_type": "stream",
     "text": [
      "strings with only digits: ['123456']\n"
     ]
    }
   ],
   "source": [
    "digits_pattern = r'^\\d+$'\n",
    "\n",
    "only_digits=[]\n",
    "for s in mixed_strings:\n",
    "    if re.search(digits_pattern, s):\n",
    "        only_digits.append(s)\n",
    "        \n",
    "print(\"strings with only digits:\", only_digits) "
   ]
  },
  {
   "cell_type": "code",
   "execution_count": 56,
   "metadata": {},
   "outputs": [
    {
     "name": "stdout",
     "output_type": "stream",
     "text": [
      "strings with only digits: ['123-456-7890', '123456', '5This does not start with a digit']\n"
     ]
    }
   ],
   "source": [
    "digits_pattern = r'\\b\\d\\B'\n",
    "\n",
    "only_digits=[]\n",
    "for s in mixed_strings:\n",
    "    if re.search(digits_pattern, s):\n",
    "        only_digits.append(s)\n",
    "        \n",
    "print(\"strings with only digits:\", only_digits) "
   ]
  },
  {
   "cell_type": "code",
   "execution_count": 57,
   "metadata": {},
   "outputs": [
    {
     "name": "stdout",
     "output_type": "stream",
     "text": [
      "strings contains whitespace : ['Start this string', 'This string ends with End', 'Contains whitespace ', 'pretest and posttest', '5This does not start with a digit']\n"
     ]
    }
   ],
   "source": [
    "whitespace_pattern = r'\\s'\n",
    "\n",
    "contains_whitespace=[]\n",
    "for s in mixed_strings:\n",
    "    if re.search(whitespace_pattern, s):\n",
    "        contains_whitespace.append(s)\n",
    "        \n",
    "print(\"strings contains whitespace :\", contains_whitespace) "
   ]
  },
  {
   "cell_type": "code",
   "execution_count": 58,
   "metadata": {},
   "outputs": [
    {
     "name": "stdout",
     "output_type": "stream",
     "text": [
      "strings with non-alphanumeric characters: ['@#!$%']\n"
     ]
    }
   ],
   "source": [
    "non_alphanumeric_pattern = r'^\\W+$'\n",
    "\n",
    "non_alphanumeric=[]\n",
    "for s in mixed_strings:\n",
    "    if re.search(non_alphanumeric_pattern, s):\n",
    "        non_alphanumeric.append(s)\n",
    "        \n",
    "print(\"strings with non-alphanumeric characters:\", non_alphanumeric) "
   ]
  },
  {
   "cell_type": "code",
   "execution_count": 59,
   "metadata": {},
   "outputs": [
    {
     "name": "stdout",
     "output_type": "stream",
     "text": [
      "strings that do not start with a digits: ['test@example.com', 'Start this string', 'This string ends with End', 'Contains whitespace ', 'pretest and posttest', '@#!$%', 'NoWhitespaceHere']\n"
     ]
    }
   ],
   "source": [
    "not_start_digits_pattern = r'^\\D'\n",
    "\n",
    "not_start_digits=[]\n",
    "for s in mixed_strings:\n",
    "    if re.search(not_start_digits_pattern, s):\n",
    "        not_start_digits.append(s)\n",
    "        \n",
    "print(\"strings that do not start with a digits:\", not_start_digits) "
   ]
  }
 ],
 "metadata": {
  "kernelspec": {
   "display_name": "Python 3",
   "language": "python",
   "name": "python3"
  },
  "language_info": {
   "codemirror_mode": {
    "name": "ipython",
    "version": 3
   },
   "file_extension": ".py",
   "mimetype": "text/x-python",
   "name": "python",
   "nbconvert_exporter": "python",
   "pygments_lexer": "ipython3",
   "version": "3.12.4"
  }
 },
 "nbformat": 4,
 "nbformat_minor": 2
}
