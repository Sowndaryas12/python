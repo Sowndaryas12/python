{
 "cells": [
  {
   "cell_type": "code",
   "execution_count": 1,
   "metadata": {},
   "outputs": [
    {
     "name": "stdout",
     "output_type": "stream",
     "text": [
      "makesh\n"
     ]
    }
   ],
   "source": [
    "a = \"makesh\"\n",
    "print (a)"
   ]
  },
  {
   "cell_type": "code",
   "execution_count": 1,
   "metadata": {},
   "outputs": [
    {
     "name": "stdout",
     "output_type": "stream",
     "text": [
      "8\n"
     ]
    },
    {
     "data": {
      "text/plain": [
       "'pooja'"
      ]
     },
     "execution_count": 1,
     "metadata": {},
     "output_type": "execute_result"
    }
   ],
   "source": [
    "ravi = 5+3\n",
    "ravi2 = \"pooja\"\n",
    "print (ravi)\n",
    "ravi2"
   ]
  },
  {
   "cell_type": "code",
   "execution_count": 2,
   "metadata": {},
   "outputs": [
    {
     "name": "stdout",
     "output_type": "stream",
     "text": [
      "821\n"
     ]
    },
    {
     "data": {
      "text/plain": [
       "'kavithakumari'"
      ]
     },
     "execution_count": 2,
     "metadata": {},
     "output_type": "execute_result"
    }
   ],
   "source": [
    "suresh = 55+766\n",
    "suresh2 = \"kavitha\"+ \"kumari\"\n",
    "print (suresh)\n",
    "suresh2"
   ]
  },
  {
   "cell_type": "code",
   "execution_count": 4,
   "metadata": {},
   "outputs": [
    {
     "name": "stdout",
     "output_type": "stream",
     "text": [
      "my name is: gayathiri\n",
      "y is 566\n",
      "nithya rubini\n"
     ]
    }
   ],
   "source": [
    "x,y,z = \"gayathiri\",566,\"nithya rubini\"\n",
    "print('my name is:', x)\n",
    "print(\"y is\",y)\n",
    "print(z)\n"
   ]
  },
  {
   "cell_type": "code",
   "execution_count": 5,
   "metadata": {},
   "outputs": [
    {
     "name": "stdout",
     "output_type": "stream",
     "text": [
      "78\n"
     ]
    }
   ],
   "source": [
    "a=b=c=78\n",
    "print(a)"
   ]
  },
  {
   "cell_type": "code",
   "execution_count": 6,
   "metadata": {},
   "outputs": [
    {
     "name": "stdout",
     "output_type": "stream",
     "text": [
      "54\n",
      "7\n"
     ]
    }
   ],
   "source": [
    "s = int(input(\"enter a number\"))\n",
    "t = int(input(\"enter a second number\"))\n",
    "print(s)\n",
    "print(t)"
   ]
  },
  {
   "cell_type": "code",
   "execution_count": 7,
   "metadata": {},
   "outputs": [
    {
     "name": "stdout",
     "output_type": "stream",
     "text": [
      "165\n"
     ]
    }
   ],
   "source": [
    "s = int(input(\"enter a number\"))\n",
    "t = int(input(\"enter a second number\"))\n",
    "u = s+t\n",
    "print(u)"
   ]
  },
  {
   "cell_type": "code",
   "execution_count": 10,
   "metadata": {},
   "outputs": [
    {
     "name": "stdout",
     "output_type": "stream",
     "text": [
      "-31.0\n"
     ]
    }
   ],
   "source": [
    "s = float(input(\"enter a number\"))\n",
    "t = float(input(\"enter a second number\"))\n",
    "u = s-t\n",
    "print(u)"
   ]
  },
  {
   "cell_type": "code",
   "execution_count": 11,
   "metadata": {},
   "outputs": [
    {
     "name": "stdout",
     "output_type": "stream",
     "text": [
      "ushadevi\n"
     ]
    }
   ],
   "source": [
    "s = str(input(\"enter a name\"))\n",
    "t = str(input(\"enter a second name\"))\n",
    "u = s+t\n",
    "print(u)"
   ]
  },
  {
   "cell_type": "code",
   "execution_count": 13,
   "metadata": {},
   "outputs": [
    {
     "name": "stdout",
     "output_type": "stream",
     "text": [
      "my full name is:rubinirangan\n"
     ]
    }
   ],
   "source": [
    "name1 = input(\"enter a name\")\n",
    "name2 = input(\"enter a second name\")\n",
    "final_name = name1+name2\n",
    "\n",
    "\n",
    "print(f\"my full name is:{final_name}\")"
   ]
  },
  {
   "cell_type": "code",
   "execution_count": null,
   "metadata": {},
   "outputs": [],
   "source": []
  },
  {
   "cell_type": "code",
   "execution_count": 14,
   "metadata": {},
   "outputs": [
    {
     "name": "stdout",
     "output_type": "stream",
     "text": [
      "c is30 <class 'int'>\n"
     ]
    }
   ],
   "source": [
    "a = 10\n",
    "b = 20\n",
    "c = a+b\n",
    "print(f\"c is{c}\",type(c))"
   ]
  },
  {
   "cell_type": "code",
   "execution_count": 20,
   "metadata": {},
   "outputs": [
    {
     "name": "stdout",
     "output_type": "stream",
     "text": [
      "a is 6 b is 8\n",
      "a is 10 b is 7\n"
     ]
    }
   ],
   "source": [
    "a = 6\n",
    "b = 8\n",
    "print(\"a is {} b is {}\".format(a,b))\n",
    "print(\"a is {a} b is {b}\".format(a=10,b=7))\n"
   ]
  },
  {
   "cell_type": "markdown",
   "metadata": {},
   "source": [
    "arithmetic operators"
   ]
  },
  {
   "cell_type": "code",
   "execution_count": 24,
   "metadata": {},
   "outputs": [
    {
     "name": "stdout",
     "output_type": "stream",
     "text": [
      "70\n",
      "-10\n",
      "1200\n",
      "0.75\n",
      "30\n",
      "121576654590569288010000000000000000000000000000000000000000\n",
      "0\n"
     ]
    }
   ],
   "source": [
    "a = 30\n",
    "b = 40\n",
    "print (a+b)\n",
    "\n",
    "a = 30\n",
    "b = 40\n",
    "print (a-b)\n",
    "\n",
    "a = 30\n",
    "b = 40\n",
    "print(a*b)\n",
    "\n",
    "a = 30\n",
    "b = 40\n",
    "print(a/b)\n",
    "\n",
    "a = 30\n",
    "b = 40\n",
    "print(a%b)\n",
    "\n",
    "a = 30\n",
    "b = 40\n",
    "print(a**b)\n",
    "\n",
    "a = 30\n",
    "b = 40\n",
    "print(a//b)\n"
   ]
  },
  {
   "cell_type": "markdown",
   "metadata": {},
   "source": [
    "comparision (relational)operator(true or false)"
   ]
  },
  {
   "cell_type": "code",
   "execution_count": 25,
   "metadata": {},
   "outputs": [
    {
     "name": "stdout",
     "output_type": "stream",
     "text": [
      "False\n"
     ]
    }
   ],
   "source": [
    "num1 = 67\n",
    "num2 = 87\n",
    "num3 = num1==num2\n",
    "print(num3)"
   ]
  },
  {
   "cell_type": "code",
   "execution_count": 26,
   "metadata": {},
   "outputs": [
    {
     "name": "stdout",
     "output_type": "stream",
     "text": [
      "True\n"
     ]
    }
   ],
   "source": [
    "num1 = 67\n",
    "num2 = 87\n",
    "num3 = num1!=num2\n",
    "print(num3)"
   ]
  },
  {
   "cell_type": "code",
   "execution_count": 27,
   "metadata": {},
   "outputs": [
    {
     "name": "stdout",
     "output_type": "stream",
     "text": [
      "True\n"
     ]
    }
   ],
   "source": [
    "num1 = 67\n",
    "num2 = 87\n",
    "num3 = num1<num2\n",
    "print(num3)"
   ]
  },
  {
   "cell_type": "code",
   "execution_count": 28,
   "metadata": {},
   "outputs": [
    {
     "name": "stdout",
     "output_type": "stream",
     "text": [
      "False\n"
     ]
    }
   ],
   "source": [
    "num1 = 67\n",
    "num2 = 87\n",
    "num3 = num1>num2\n",
    "print(num3)"
   ]
  },
  {
   "cell_type": "code",
   "execution_count": 29,
   "metadata": {},
   "outputs": [
    {
     "name": "stdout",
     "output_type": "stream",
     "text": [
      "True\n"
     ]
    }
   ],
   "source": [
    "num1 = 67\n",
    "num2 = 87\n",
    "num3 = num1<=num2\n",
    "print(num3)"
   ]
  },
  {
   "cell_type": "code",
   "execution_count": 30,
   "metadata": {},
   "outputs": [
    {
     "name": "stdout",
     "output_type": "stream",
     "text": [
      "False\n"
     ]
    }
   ],
   "source": [
    "num1 = 67\n",
    "num2 = 87\n",
    "num3 = num1>=num2\n",
    "print(num3)"
   ]
  },
  {
   "cell_type": "markdown",
   "metadata": {},
   "source": [
    "logical operator (and,or,not)true or false"
   ]
  },
  {
   "cell_type": "code",
   "execution_count": 31,
   "metadata": {},
   "outputs": [
    {
     "data": {
      "text/plain": [
       "False"
      ]
     },
     "execution_count": 31,
     "metadata": {},
     "output_type": "execute_result"
    }
   ],
   "source": [
    "a = 88\n",
    "b = 90\n",
    "a>b and a<b"
   ]
  },
  {
   "cell_type": "code",
   "execution_count": 32,
   "metadata": {},
   "outputs": [
    {
     "data": {
      "text/plain": [
       "True"
      ]
     },
     "execution_count": 32,
     "metadata": {},
     "output_type": "execute_result"
    }
   ],
   "source": [
    "a = 88\n",
    "b = 90\n",
    "a>b or a<b"
   ]
  },
  {
   "cell_type": "code",
   "execution_count": 35,
   "metadata": {},
   "outputs": [
    {
     "data": {
      "text/plain": [
       "True"
      ]
     },
     "execution_count": 35,
     "metadata": {},
     "output_type": "execute_result"
    }
   ],
   "source": [
    "a = 88\n",
    "b = 90\n",
    "a>=b or a!=b"
   ]
  },
  {
   "cell_type": "code",
   "execution_count": 33,
   "metadata": {},
   "outputs": [
    {
     "data": {
      "text/plain": [
       "False"
      ]
     },
     "execution_count": 33,
     "metadata": {},
     "output_type": "execute_result"
    }
   ],
   "source": [
    "a = 88\n",
    "not a"
   ]
  },
  {
   "cell_type": "code",
   "execution_count": 34,
   "metadata": {},
   "outputs": [
    {
     "data": {
      "text/plain": [
       "True"
      ]
     },
     "execution_count": 34,
     "metadata": {},
     "output_type": "execute_result"
    }
   ],
   "source": [
    "a = ()\n",
    "not a"
   ]
  },
  {
   "cell_type": "markdown",
   "metadata": {},
   "source": [
    "BITWISE operator(&,|,^,~,<<,>>) and,or,xor,not,left shift,right shift\n"
   ]
  },
  {
   "cell_type": "code",
   "execution_count": 36,
   "metadata": {},
   "outputs": [
    {
     "data": {
      "text/plain": [
       "56"
      ]
     },
     "execution_count": 36,
     "metadata": {},
     "output_type": "execute_result"
    }
   ],
   "source": [
    "56&56"
   ]
  },
  {
   "cell_type": "code",
   "execution_count": 37,
   "metadata": {},
   "outputs": [
    {
     "data": {
      "text/plain": [
       "0"
      ]
     },
     "execution_count": 37,
     "metadata": {},
     "output_type": "execute_result"
    }
   ],
   "source": [
    "56&5"
   ]
  },
  {
   "cell_type": "code",
   "execution_count": 39,
   "metadata": {},
   "outputs": [
    {
     "data": {
      "text/plain": [
       "63"
      ]
     },
     "execution_count": 39,
     "metadata": {},
     "output_type": "execute_result"
    }
   ],
   "source": [
    "54|9"
   ]
  },
  {
   "cell_type": "code",
   "execution_count": 38,
   "metadata": {},
   "outputs": [
    {
     "data": {
      "text/plain": [
       "42"
      ]
     },
     "execution_count": 38,
     "metadata": {},
     "output_type": "execute_result"
    }
   ],
   "source": [
    "47^5"
   ]
  },
  {
   "cell_type": "code",
   "execution_count": 40,
   "metadata": {},
   "outputs": [
    {
     "data": {
      "text/plain": [
       "-6"
      ]
     },
     "execution_count": 40,
     "metadata": {},
     "output_type": "execute_result"
    }
   ],
   "source": [
    "~5"
   ]
  },
  {
   "cell_type": "code",
   "execution_count": 41,
   "metadata": {},
   "outputs": [
    {
     "data": {
      "text/plain": [
       "6"
      ]
     },
     "execution_count": 41,
     "metadata": {},
     "output_type": "execute_result"
    }
   ],
   "source": [
    "~-7"
   ]
  },
  {
   "cell_type": "code",
   "execution_count": 42,
   "metadata": {},
   "outputs": [
    {
     "data": {
      "text/plain": [
       "1504"
      ]
     },
     "execution_count": 42,
     "metadata": {},
     "output_type": "execute_result"
    }
   ],
   "source": [
    "47<<5"
   ]
  },
  {
   "cell_type": "code",
   "execution_count": 43,
   "metadata": {},
   "outputs": [
    {
     "data": {
      "text/plain": [
       "1"
      ]
     },
     "execution_count": 43,
     "metadata": {},
     "output_type": "execute_result"
    }
   ],
   "source": [
    "47>>5"
   ]
  },
  {
   "cell_type": "markdown",
   "metadata": {},
   "source": [
    "assigment operator(=,+=,-=,*=,/=,%=,**=,//=,&=,|=,^=,<<=,>>=)"
   ]
  },
  {
   "cell_type": "code",
   "execution_count": 44,
   "metadata": {},
   "outputs": [
    {
     "name": "stdout",
     "output_type": "stream",
     "text": [
      "7\n",
      "12\n",
      "2\n",
      "35\n",
      "1.4\n",
      "2\n",
      "16807\n",
      "1\n",
      "5\n",
      "7\n",
      "2\n",
      "224\n",
      "0\n"
     ]
    }
   ],
   "source": [
    "num1=7\n",
    "print(num1)\n",
    "\n",
    "num1=7\n",
    "num2=5\n",
    "num1+=num2 \n",
    "print(num1)\n",
    "\n",
    "num1=7\n",
    "num2=5\n",
    "num1-=num2 \n",
    "print(num1)\n",
    "\n",
    "num1=7\n",
    "num2=5\n",
    "num1*=num2 \n",
    "print(num1)\n",
    "\n",
    "num1=7\n",
    "num2=5\n",
    "num1/=num2 \n",
    "print(num1)\n",
    "\n",
    "num1=7\n",
    "num2=5\n",
    "num1%=num2 \n",
    "print(num1)\n",
    "\n",
    "\n",
    "num1=7\n",
    "num2=5\n",
    "num1**=num2 \n",
    "print(num1)\n",
    "\n",
    "num1=7\n",
    "num2=5\n",
    "num1//=num2 \n",
    "print(num1)\n",
    "\n",
    "num1=7\n",
    "num2=5\n",
    "num1 &=num2 \n",
    "print(num1)\n",
    "\n",
    "num1=7\n",
    "num2=5\n",
    "num1|=num2 \n",
    "print(num1)\n",
    "\n",
    "num1=7\n",
    "num2=5\n",
    "num1^=num2 \n",
    "print(num1)\n",
    "\n",
    "num1=7\n",
    "num2=5\n",
    "num1<<=num2 \n",
    "print(num1)\n",
    "\n",
    "num1=7\n",
    "num2=5\n",
    "num1>>=num2 \n",
    "print(num1)"
   ]
  },
  {
   "cell_type": "markdown",
   "metadata": {},
   "source": [
    "membership operator (in not in )true 0r false"
   ]
  },
  {
   "cell_type": "code",
   "execution_count": 46,
   "metadata": {},
   "outputs": [
    {
     "data": {
      "text/plain": [
       "True"
      ]
     },
     "execution_count": 46,
     "metadata": {},
     "output_type": "execute_result"
    }
   ],
   "source": [
    "3 in [1,2,3,4,5]"
   ]
  },
  {
   "cell_type": "code",
   "execution_count": 47,
   "metadata": {},
   "outputs": [
    {
     "data": {
      "text/plain": [
       "False"
      ]
     },
     "execution_count": 47,
     "metadata": {},
     "output_type": "execute_result"
    }
   ],
   "source": [
    "\"sowndarya\"in \"selfish mode\""
   ]
  },
  {
   "cell_type": "code",
   "execution_count": 49,
   "metadata": {},
   "outputs": [
    {
     "data": {
      "text/plain": [
       "False"
      ]
     },
     "execution_count": 49,
     "metadata": {},
     "output_type": "execute_result"
    }
   ],
   "source": [
    "3 not in [1,2,3,4,5]"
   ]
  },
  {
   "cell_type": "code",
   "execution_count": 48,
   "metadata": {},
   "outputs": [
    {
     "data": {
      "text/plain": [
       "True"
      ]
     },
     "execution_count": 48,
     "metadata": {},
     "output_type": "execute_result"
    }
   ],
   "source": [
    "\"sowndarya\" not in \"selfish mode\""
   ]
  },
  {
   "cell_type": "markdown",
   "metadata": {},
   "source": [
    "identity operator(is,is not)true or false"
   ]
  },
  {
   "cell_type": "code",
   "execution_count": 52,
   "metadata": {},
   "outputs": [
    {
     "name": "stdout",
     "output_type": "stream",
     "text": [
      "False\n",
      "True\n",
      "3219738469696\n",
      "3219739446912\n",
      "True\n"
     ]
    }
   ],
   "source": [
    "a = [\"sowndarya\",\"songappan\"]\n",
    "b = [\"sowndarya\",\"songappan\"]\n",
    "print (a is b)\n",
    "print (a is not b)\n",
    "print (id(a))\n",
    "print (id(b))\n",
    "print (a==b)"
   ]
  },
  {
   "cell_type": "code",
   "execution_count": 54,
   "metadata": {},
   "outputs": [
    {
     "name": "stdout",
     "output_type": "stream",
     "text": [
      "x+=: 18\n",
      "x-=: -2\n"
     ]
    }
   ],
   "source": [
    "x = 8\n",
    "x += 10\n",
    "print(\"x+=:\",x)\n",
    "\n",
    "x = 8\n",
    "x -= 10\n",
    "print(\"x-=:\",x)"
   ]
  },
  {
   "cell_type": "code",
   "execution_count": 55,
   "metadata": {},
   "outputs": [
    {
     "name": "stdout",
     "output_type": "stream",
     "text": [
      "a is 18\n",
      "a is -2\n",
      "a is 0.8\n",
      "a is 8\n",
      "a is 80\n"
     ]
    }
   ],
   "source": [
    "a = 8\n",
    "b = 10\n",
    "print(\"a is\", a+b)\n",
    "print(\"a is\", a-b)\n",
    "print(\"a is\", a/b)\n",
    "print(\"a is\", a%b)\n",
    "print(\"a is\", a*b)\n"
   ]
  },
  {
   "cell_type": "code",
   "execution_count": 57,
   "metadata": {},
   "outputs": [
    {
     "name": "stdout",
     "output_type": "stream",
     "text": [
      "False\n",
      "True\n"
     ]
    }
   ],
   "source": [
    "a =[1,2,3,4,5]\n",
    "\n",
    "print(3 not in a)\n",
    "print(3 in a)"
   ]
  },
  {
   "cell_type": "code",
   "execution_count": 58,
   "metadata": {},
   "outputs": [
    {
     "name": "stdout",
     "output_type": "stream",
     "text": [
      "5 3\n"
     ]
    }
   ],
   "source": [
    "a =3\n",
    "b=5\n",
    "a,b = b,a\n",
    "print(a,b)"
   ]
  },
  {
   "cell_type": "code",
   "execution_count": 2,
   "metadata": {},
   "outputs": [
    {
     "name": "stdout",
     "output_type": "stream",
     "text": [
      "character 's'appear:, 1 times\n"
     ]
    }
   ],
   "source": [
    "def count_0f_string(varchar,uvara):\n",
    "    return varchar.count(uvara)\n",
    "\n",
    "result =count_0f_string(\"sowndarya\",\"s\")\n",
    "print(f\"character 's'appear:, {result} times\")"
   ]
  },
  {
   "cell_type": "code",
   "execution_count": 1,
   "metadata": {},
   "outputs": [
    {
     "data": {
      "text/plain": [
       "'hello- subiksha!'"
      ]
     },
     "execution_count": 1,
     "metadata": {},
     "output_type": "execute_result"
    }
   ],
   "source": [
    "s = \"hello, subiksha!\"\n",
    "s_split = s.split(\",\")\n",
    "s_join =\"-\".join(s_split)\n",
    "\n",
    "s_join"
   ]
  },
  {
   "cell_type": "code",
   "execution_count": 12,
   "metadata": {},
   "outputs": [
    {
     "data": {
      "text/plain": [
       "{'Mercury': 'M',\n",
       " 'Venus': 'V',\n",
       " 'Mars': 'M',\n",
       " 'Jupiter': 'J',\n",
       " 'Saturn': 'S',\n",
       " 'Uranus': 'U',\n",
       " 'Neptune': 'N'}"
      ]
     },
     "execution_count": 12,
     "metadata": {},
     "output_type": "execute_result"
    }
   ],
   "source": [
    "planets = ['Mercury', 'Venus', 'Earth', 'Mars', 'Jupiter', 'Saturn', 'Uranus', 'Neptune']\n",
    "initial_planet = {planet: planet[0] for planet in planets if planet != 'Earth'}\n",
    "initial_planet"
   ]
  },
  {
   "cell_type": "code",
   "execution_count": 15,
   "metadata": {},
   "outputs": [
    {
     "name": "stdout",
     "output_type": "stream",
     "text": [
      " Mercury begins with \"M\"\n",
      "   Venus begins with \"V\"\n",
      "    Mars begins with \"M\"\n",
      " Jupiter begins with \"J\"\n",
      "  Saturn begins with \"S\"\n",
      "  Uranus begins with \"U\"\n",
      " Neptune begins with \"N\"\n"
     ]
    }
   ],
   "source": [
    "for planet, initial in initial_planet.items():\n",
    "    print(\"{} begins with \\\"{}\\\"\".format(planet.rjust(8),initial))"
   ]
  },
  {
   "cell_type": "code",
   "execution_count": 17,
   "metadata": {},
   "outputs": [
    {
     "name": "stdout",
     "output_type": "stream",
     "text": [
      "{'suresh': '50'}\n",
      "{'suresh': '50', 'ramesh': '20'}\n"
     ]
    }
   ],
   "source": [
    "my_dict = {}\n",
    "for i in range(2):\n",
    "    key = input(\"enter a key:\")\n",
    "    value = input(\"enter a value:\")\n",
    "    my_dict[key]= value\n",
    "    print (my_dict)"
   ]
  },
  {
   "cell_type": "code",
   "execution_count": 19,
   "metadata": {},
   "outputs": [
    {
     "name": "stdout",
     "output_type": "stream",
     "text": [
      "4 is not a prime number\n"
     ]
    }
   ],
   "source": [
    "a = int(input(\"Enter a number:\"))\n",
    "if a<2:\n",
    "    print( \"it is not a prime number\")\n",
    "else:\n",
    "    prime = True\n",
    "    for i in range (2,a):\n",
    "        if a%i==0: \n",
    "           prime = False \n",
    "           break\n",
    "    if prime:\n",
    "        print(a, \"is a prime number\")   \n",
    "    else:\n",
    "        print(a, \"is not a prime number\")  \n",
    "        "
   ]
  },
  {
   "cell_type": "code",
   "execution_count": 20,
   "metadata": {},
   "outputs": [
    {
     "name": "stdout",
     "output_type": "stream",
     "text": [
      "[0, 3, 6, 9, 12, 15, 18, 21, 24, 27, 30, 33, 36, 39, 42, 45, 48, 51, 54, 57, 60, 63, 66, 69]\n"
     ]
    }
   ],
   "source": [
    "a = range(70)\n",
    "list =[]\n",
    "for i in a:\n",
    "    if i%3==0:\n",
    "        list.append(i)\n",
    "print (list)        "
   ]
  },
  {
   "cell_type": "code",
   "execution_count": 21,
   "metadata": {},
   "outputs": [
    {
     "name": "stdout",
     "output_type": "stream",
     "text": [
      "[2, 4, 12, 48, 240, 1440, 8640, 60480, 483840]\n"
     ]
    }
   ],
   "source": [
    "a = [[1,2,3],[4,5,6],[6,7,8]]\n",
    "product = 2\n",
    "b =[]\n",
    "for i in a:\n",
    "    for s in i:\n",
    "        product*=s\n",
    "        b.append(product)\n",
    "print (b)        \n",
    "        \n",
    "\n"
   ]
  },
  {
   "cell_type": "code",
   "execution_count": 22,
   "metadata": {},
   "outputs": [
    {
     "name": "stdout",
     "output_type": "stream",
     "text": [
      "0\n",
      "1\n",
      "2\n",
      "3\n",
      "4\n"
     ]
    }
   ],
   "source": [
    "count = 0\n",
    "while count <5:\n",
    "    print(count)\n",
    "    count+=1"
   ]
  },
  {
   "cell_type": "code",
   "execution_count": 26,
   "metadata": {},
   "outputs": [
    {
     "name": "stdout",
     "output_type": "stream",
     "text": [
      "the sum is 10\n"
     ]
    }
   ],
   "source": [
    "total =0\n",
    "count = 1\n",
    "while total < 10:\n",
    "    total += count\n",
    "    count += 1\n",
    "print(f\"the sum is {total}\")"
   ]
  },
  {
   "cell_type": "code",
   "execution_count": 27,
   "metadata": {},
   "outputs": [
    {
     "name": "stdout",
     "output_type": "stream",
     "text": [
      "congratulation you guess correct secret number\n"
     ]
    }
   ],
   "source": [
    "secret_number = 5\n",
    "guess = 0\n",
    "while guess != secret_number:\n",
    "  guess = int(input(\"guess the secret number\"))\n",
    "print(\"congratulation you guess correct secret number\")"
   ]
  },
  {
   "cell_type": "code",
   "execution_count": 28,
   "metadata": {},
   "outputs": [
    {
     "name": "stdout",
     "output_type": "stream",
     "text": [
      "[1, 2, 3, 4, 5, 6]\n",
      "[1, 2, 3, 4, 5, 6]\n",
      "[1, 2, 3, 4, 5, 6]\n",
      "[1, 2, 3, 4, 5, 6]\n",
      "[1, 2, 3, 4, 5, 6]\n",
      "[1, 2, 3, 4, 5, 6]\n"
     ]
    }
   ],
   "source": [
    "x = [1,2,3,4,5,6]\n",
    "length = 0\n",
    "while length<len(x):\n",
    "    print(x)\n",
    "    length+=1\n"
   ]
  },
  {
   "cell_type": "code",
   "execution_count": 31,
   "metadata": {},
   "outputs": [
    {
     "name": "stdout",
     "output_type": "stream",
     "text": [
      "z is iteration of 1 0\n",
      "z is iteration of 2 1\n",
      "z is iteration of 3 2\n"
     ]
    }
   ],
   "source": [
    "z = 0\n",
    "while z<3:\n",
    "    if z==0:\n",
    "      print(\"z is iteration of 1\",z)\n",
    "      z+=1\n",
    "    elif z==1:\n",
    "       print(\"z is iteration of 2\",z) \n",
    "       z+=1\n",
    "    else:\n",
    "       print(\"z is iteration of 3\",z)       \n",
    "       z+=1"
   ]
  },
  {
   "cell_type": "code",
   "execution_count": 34,
   "metadata": {},
   "outputs": [
    {
     "name": "stdout",
     "output_type": "stream",
     "text": [
      "61\n"
     ]
    }
   ],
   "source": [
    "a =[1,2,3,44,5,6]\n",
    "sum = 0\n",
    "index =0\n",
    "while index<len(a):\n",
    "    sum+=a[index]\n",
    "    index+=1\n",
    "print(sum)\n",
    "\n"
   ]
  },
  {
   "cell_type": "code",
   "execution_count": 39,
   "metadata": {},
   "outputs": [
    {
     "name": "stdout",
     "output_type": "stream",
     "text": [
      "1 4 9 16 25 "
     ]
    }
   ],
   "source": [
    "a = 1\n",
    "while a<=1:\n",
    "    b=1\n",
    "    while b<=5:\n",
    "        print(b**2,end=' ')\n",
    "        b=b+1\n",
    "    a=a+1    "
   ]
  },
  {
   "cell_type": "code",
   "execution_count": 41,
   "metadata": {},
   "outputs": [
    {
     "name": "stdout",
     "output_type": "stream",
     "text": [
      "0\n",
      "1\n",
      "2\n",
      "3\n",
      "4\n",
      "5\n"
     ]
    }
   ],
   "source": [
    "a =range(10)\n",
    "for i in a:\n",
    "    if i == 6:\n",
    "        break\n",
    "    print(i)    "
   ]
  },
  {
   "cell_type": "code",
   "execution_count": 42,
   "metadata": {},
   "outputs": [
    {
     "name": "stdout",
     "output_type": "stream",
     "text": [
      "Kruthick\n",
      "Chandan\n",
      "Shashi\n"
     ]
    }
   ],
   "source": [
    "a=['Kruthick','Chandan', 'Shashi', 'Madesh','Harshitha', 'Hema','Benki']\n",
    "for i in a:\n",
    "    if i == 'Madesh':\n",
    "        break\n",
    "    print(i)"
   ]
  },
  {
   "cell_type": "code",
   "execution_count": 45,
   "metadata": {},
   "outputs": [
    {
     "name": "stdout",
     "output_type": "stream",
     "text": [
      "0\n",
      "4\n",
      "8\n",
      "12\n",
      "16\n",
      "20\n",
      "24\n",
      "28\n",
      "32\n",
      "36\n"
     ]
    }
   ],
   "source": [
    "a = range(150)\n",
    "for i in a:\n",
    "    if i%4 == 0:\n",
    "        print(i)\n",
    "    if i==36:\n",
    "        break    \n"
   ]
  },
  {
   "cell_type": "code",
   "execution_count": 54,
   "metadata": {},
   "outputs": [
    {
     "name": "stdout",
     "output_type": "stream",
     "text": [
      "10\n",
      "20\n",
      "30\n",
      "40\n",
      "50\n"
     ]
    }
   ],
   "source": [
    "numbers = [10, 20, 30, 40, 50]\n",
    "for num in numbers:\n",
    "    if num ==40:\n",
    "        pass\n",
    "    print(num)"
   ]
  },
  {
   "cell_type": "code",
   "execution_count": 58,
   "metadata": {},
   "outputs": [
    {
     "name": "stdout",
     "output_type": "stream",
     "text": [
      "0\n",
      "1\n",
      "2\n",
      "3\n",
      "4\n"
     ]
    }
   ],
   "source": [
    "for i in range(5):\n",
    "    if i == 3:\n",
    "        pass\n",
    "    print(i)\n",
    "    "
   ]
  },
  {
   "cell_type": "code",
   "execution_count": 59,
   "metadata": {},
   "outputs": [
    {
     "name": "stdout",
     "output_type": "stream",
     "text": [
      "0\n",
      "1\n",
      "2\n"
     ]
    }
   ],
   "source": [
    "count = 0\n",
    "while count<5:\n",
    "    if count ==3:\n",
    "        break\n",
    "    print(count)\n",
    "    count+=1"
   ]
  },
  {
   "cell_type": "code",
   "execution_count": 60,
   "metadata": {},
   "outputs": [
    {
     "name": "stdout",
     "output_type": "stream",
     "text": [
      "(0, 1)\n",
      "(1, 2)\n",
      "(2, 3)\n",
      "(3, 4)\n",
      "(4, 5)\n",
      "(6, 7)\n",
      "(7, 8)\n",
      "(8, 9)\n",
      "(9, 10)\n"
     ]
    }
   ],
   "source": [
    "numbers = [1, 2, 3, 4, 5, 6, 7, 8, 9, 10]\n",
    "for num in enumerate(numbers):\n",
    "    if num[0]==5:\n",
    "        continue\n",
    "    print(num)\n",
    "        "
   ]
  },
  {
   "cell_type": "code",
   "execution_count": 61,
   "metadata": {},
   "outputs": [
    {
     "name": "stdout",
     "output_type": "stream",
     "text": [
      "2,is a even number\n",
      "4,is a even number\n",
      "6,is a even number\n",
      "8,is a even number\n",
      "10,is a even number\n"
     ]
    }
   ],
   "source": [
    "numbers = [1, 2, 3, 4, 5, 6, 7, 8, 9, 10]\n",
    "for num in numbers:\n",
    "    if num%2 != 0:\n",
    "       continue\n",
    "    print(f\"{num},is a even number\")"
   ]
  },
  {
   "cell_type": "code",
   "execution_count": 1,
   "metadata": {},
   "outputs": [
    {
     "name": "stdout",
     "output_type": "stream",
     "text": [
      "Full name: (<function <lambda> at 0x000001DF7BCE3560>, ('sowndarya', 'nowsika'))\n"
     ]
    }
   ],
   "source": [
    "\n",
    "first_name = \"sowndarya\"\n",
    "last_name = \"nowsika\"\n",
    "Full_name = first_name,last_name\n",
    "concatenated_name =(lambda x,y:x+y, Full_name)\n",
    "print(\"Full name:\", concatenated_name)"
   ]
  },
  {
   "cell_type": "markdown",
   "metadata": {},
   "source": []
  },
  {
   "cell_type": "code",
   "execution_count": null,
   "metadata": {},
   "outputs": [],
   "source": []
  },
  {
   "cell_type": "code",
   "execution_count": null,
   "metadata": {},
   "outputs": [
    {
     "name": "stdout",
     "output_type": "stream",
     "text": [
      "Welcome to the Movie Ratings Analyzer!\n"
     ]
    }
   ],
   "source": [
    "movie_ratings = {}\n",
    "\n",
    "# Function to add a movie and its rating to the dictionary\n",
    "def add_movie_rating(movie_name, rating):\n",
    "    movie_ratings[movie_name] = rating\n",
    "\n",
    "# Function to calculate the average rating of all the movies in the dictionary\n",
    "def get_average_rating():\n",
    "    if len(movie_ratings) == 0:\n",
    "        return 0\n",
    "    total_rating = sum(movie_ratings.values())\n",
    "    average_rating = total_rating / len(movie_ratings)\n",
    "    return round(average_rating, 2)\n",
    "\n",
    "# Function to recommend a movie based on its rating\n",
    "def recommend_movie():\n",
    "    for movie, rating in movie_ratings.items():\n",
    "        if rating >= 8.5:\n",
    "            return f\"{movie} - Must Watch!\"\n",
    "    return \"No highly recommended movies available.\"\n",
    "\n",
    "# Function to find the movie with the highest rating\n",
    "def find_highest_rated_movie():\n",
    "    if len(movie_ratings) == 0:\n",
    "        return None\n",
    "    highest_rated_movie = max(movie_ratings, key=movie_ratings.get)\n",
    "    return highest_rated_movie\n",
    "\n",
    "# Main function to interact with the user and display results\n",
    "def main():\n",
    "    print(\"Welcome to the Movie Ratings Analyzer!\")\n",
    "    \n",
    "    # Get movie names and ratings from the user\n",
    "    for i in range(1, 6):\n",
    "        movie_name = input(f\"Movie {i} Name: \")\n",
    "        rating = float(input(f\"Rating: \"))\n",
    "        add_movie_rating(movie_name, rating)\n",
    "    \n",
    "    # Calculate and display the average rating\n",
    "    average_rating = get_average_rating()\n",
    "    print(f\"\\nThe average rating of all movies: {average_rating}\")\n",
    "    \n",
    "    # Recommend a movie based on its rating\n",
    "    recommendation = recommend_movie()\n",
    "    print(f\"Recommended movie: {recommendation}\")\n",
    "    \n",
    "    # Display the highest-rated movie\n",
    "    highest_rated_movie = find_highest_rated_movie()\n",
    "    print(f\"Highest-rated movie: {highest_rated_movie}\")\n",
    "\n",
    "# Run the main function\n",
    "if __name__ == \"__main__\":\n",
    "    main()"
   ]
  }
 ],
 "metadata": {
  "kernelspec": {
   "display_name": "Python 3",
   "language": "python",
   "name": "python3"
  },
  "language_info": {
   "codemirror_mode": {
    "name": "ipython",
    "version": 3
   },
   "file_extension": ".py",
   "mimetype": "text/x-python",
   "name": "python",
   "nbconvert_exporter": "python",
   "pygments_lexer": "ipython3",
   "version": "3.12.4"
  }
 },
 "nbformat": 4,
 "nbformat_minor": 2
}
